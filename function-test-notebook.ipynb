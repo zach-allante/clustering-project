{
 "cells": [
  {
   "cell_type": "code",
   "execution_count": 1,
   "id": "c57fe9bb",
   "metadata": {},
   "outputs": [],
   "source": [
    "import pandas as pd \n",
    "import numpy as np \n",
    "import matplotlib.pyplot as plt\n",
    "from sklearn.preprocessing import MinMaxScaler\n",
    "from env import get_db_url\n",
    "import wrangle_zillow as w"
   ]
  },
  {
   "cell_type": "code",
   "execution_count": 2,
   "id": "51792451",
   "metadata": {},
   "outputs": [],
   "source": [
    "# creating df variable\n",
    "df = w.new_zillow_data()"
   ]
  },
  {
   "cell_type": "code",
   "execution_count": 3,
   "id": "dd3faffb",
   "metadata": {},
   "outputs": [],
   "source": [
    "df = w.get_zillow_data()"
   ]
  },
  {
   "cell_type": "code",
   "execution_count": 4,
   "id": "d140af22",
   "metadata": {},
   "outputs": [
    {
     "name": "stdout",
     "output_type": "stream",
     "text": [
      "<class 'pandas.core.frame.DataFrame'>\n",
      "RangeIndex: 52319 entries, 0 to 52318\n",
      "Data columns (total 71 columns):\n",
      " #   Column                      Non-Null Count  Dtype  \n",
      "---  ------                      --------------  -----  \n",
      " 0   typeconstructiontypeid      76 non-null     float64\n",
      " 1   storytypeid                 47 non-null     float64\n",
      " 2   propertylandusetypeid       52319 non-null  float64\n",
      " 3   heatingorsystemtypeid       33849 non-null  float64\n",
      " 4   buildingclasstypeid         0 non-null      float64\n",
      " 5   architecturalstyletypeid    70 non-null     float64\n",
      " 6   airconditioningtypeid       13615 non-null  float64\n",
      " 7   parcelid                    52319 non-null  int64  \n",
      " 8   id                          52319 non-null  int64  \n",
      " 9   basementsqft                47 non-null     float64\n",
      " 10  baths                       52319 non-null  float64\n",
      " 11  beds                        52319 non-null  float64\n",
      " 12  buildingqualitytypeid       33654 non-null  float64\n",
      " 13  calculatedbathnbr           52184 non-null  float64\n",
      " 14  decktypeid                  389 non-null    float64\n",
      " 15  finishedfloor1squarefeet    4371 non-null   float64\n",
      " 16  sqft                        52238 non-null  float64\n",
      " 17  finishedsquarefeet12        52073 non-null  float64\n",
      " 18  finishedsquarefeet13        0 non-null      float64\n",
      " 19  finishedsquarefeet15        0 non-null      float64\n",
      " 20  finishedsquarefeet50        4371 non-null   float64\n",
      " 21  finishedsquarefeet6         165 non-null    float64\n",
      " 22  fips                        52319 non-null  float64\n",
      " 23  fireplacecnt                7233 non-null   float64\n",
      " 24  fullbathcnt                 52184 non-null  float64\n",
      " 25  garagecarcnt                17984 non-null  float64\n",
      " 26  garagetotalsqft             17984 non-null  float64\n",
      " 27  hashottuborspa              1514 non-null   float64\n",
      " 28  latitude                    52319 non-null  float64\n",
      " 29  longitude                   52319 non-null  float64\n",
      " 30  lotsizesquarefeet           51953 non-null  float64\n",
      " 31  poolcnt                     11077 non-null  float64\n",
      " 32  poolsizesum                 865 non-null    float64\n",
      " 33  pooltypeid10                443 non-null    float64\n",
      " 34  pooltypeid2                 1071 non-null   float64\n",
      " 35  pooltypeid7                 9990 non-null   float64\n",
      " 36  propertycountylandusecode   52319 non-null  object \n",
      " 37  propertyzoningdesc          33761 non-null  object \n",
      " 38  rawcensustractandblock      52319 non-null  float64\n",
      " 39  regionidcity                51283 non-null  float64\n",
      " 40  regionidcounty              52319 non-null  float64\n",
      " 41  regionidneighborhood        18981 non-null  float64\n",
      " 42  regionidzip                 52293 non-null  float64\n",
      " 43  total_rooms                 52319 non-null  float64\n",
      " 44  threequarterbathnbr         6717 non-null   float64\n",
      " 45  unitcnt                     33761 non-null  float64\n",
      " 46  yardbuildingsqft17          1935 non-null   float64\n",
      " 47  yardbuildingsqft26          63 non-null     float64\n",
      " 48  yearbuilt                   52205 non-null  float64\n",
      " 49  numberofstories             14532 non-null  float64\n",
      " 50  fireplaceflag               81 non-null     float64\n",
      " 51  structuretaxvaluedollarcnt  52237 non-null  float64\n",
      " 52  property_value              52318 non-null  float64\n",
      " 53  assessmentyear              52319 non-null  float64\n",
      " 54  landtaxvaluedollarcnt       52318 non-null  float64\n",
      " 55  taxamount                   52315 non-null  float64\n",
      " 56  taxdelinquencyflag          2068 non-null   object \n",
      " 57  taxdelinquencyyear          2068 non-null   float64\n",
      " 58  censustractandblock         52198 non-null  float64\n",
      " 59  max_transactiondate         52319 non-null  object \n",
      " 60  id.1                        52319 non-null  int64  \n",
      " 61  parcelid.1                  52319 non-null  int64  \n",
      " 62  logerror                    52319 non-null  float64\n",
      " 63  transactiondate             52319 non-null  object \n",
      " 64  airconditioningdesc         13615 non-null  object \n",
      " 65  architecturalstyledesc      70 non-null     object \n",
      " 66  buildingclassdesc           0 non-null      float64\n",
      " 67  heatingorsystemdesc         33849 non-null  object \n",
      " 68  propertylandusedesc         52319 non-null  object \n",
      " 69  storydesc                   47 non-null     object \n",
      " 70  typeconstructiondesc        76 non-null     object \n",
      "dtypes: float64(56), int64(4), object(11)\n",
      "memory usage: 28.3+ MB\n"
     ]
    }
   ],
   "source": [
    "df.info()"
   ]
  },
  {
   "cell_type": "code",
   "execution_count": 5,
   "id": "1c93207a",
   "metadata": {},
   "outputs": [
    {
     "data": {
      "text/plain": [
       "(52319, 71)"
      ]
     },
     "execution_count": 5,
     "metadata": {},
     "output_type": "execute_result"
    }
   ],
   "source": [
    "df.shape"
   ]
  },
  {
   "cell_type": "code",
   "execution_count": 6,
   "id": "88ce3c4d",
   "metadata": {},
   "outputs": [],
   "source": [
    "#using handle missing values function\n",
    "df = w.handle_missing_values(df)"
   ]
  },
  {
   "cell_type": "code",
   "execution_count": 7,
   "id": "6ba3a3ac",
   "metadata": {},
   "outputs": [
    {
     "name": "stdout",
     "output_type": "stream",
     "text": [
      "<class 'pandas.core.frame.DataFrame'>\n",
      "Int64Index: 52255 entries, 0 to 52318\n",
      "Data columns (total 37 columns):\n",
      " #   Column                      Non-Null Count  Dtype  \n",
      "---  ------                      --------------  -----  \n",
      " 0   propertylandusetypeid       52255 non-null  float64\n",
      " 1   heatingorsystemtypeid       33849 non-null  float64\n",
      " 2   parcelid                    52255 non-null  int64  \n",
      " 3   id                          52255 non-null  int64  \n",
      " 4   baths                       52255 non-null  float64\n",
      " 5   beds                        52255 non-null  float64\n",
      " 6   buildingqualitytypeid       33654 non-null  float64\n",
      " 7   calculatedbathnbr           52184 non-null  float64\n",
      " 8   sqft                        52238 non-null  float64\n",
      " 9   finishedsquarefeet12        52073 non-null  float64\n",
      " 10  fips                        52255 non-null  float64\n",
      " 11  fullbathcnt                 52184 non-null  float64\n",
      " 12  latitude                    52255 non-null  float64\n",
      " 13  longitude                   52255 non-null  float64\n",
      " 14  lotsizesquarefeet           51898 non-null  float64\n",
      " 15  propertycountylandusecode   52255 non-null  object \n",
      " 16  propertyzoningdesc          33750 non-null  object \n",
      " 17  rawcensustractandblock      52255 non-null  float64\n",
      " 18  regionidcity                51225 non-null  float64\n",
      " 19  regionidcounty              52255 non-null  float64\n",
      " 20  regionidzip                 52232 non-null  float64\n",
      " 21  total_rooms                 52255 non-null  float64\n",
      " 22  unitcnt                     33761 non-null  float64\n",
      " 23  yearbuilt                   52205 non-null  float64\n",
      " 24  structuretaxvaluedollarcnt  52181 non-null  float64\n",
      " 25  property_value              52254 non-null  float64\n",
      " 26  assessmentyear              52255 non-null  float64\n",
      " 27  landtaxvaluedollarcnt       52254 non-null  float64\n",
      " 28  taxamount                   52251 non-null  float64\n",
      " 29  censustractandblock         52143 non-null  float64\n",
      " 30  max_transactiondate         52255 non-null  object \n",
      " 31  id.1                        52255 non-null  int64  \n",
      " 32  parcelid.1                  52255 non-null  int64  \n",
      " 33  logerror                    52255 non-null  float64\n",
      " 34  transactiondate             52255 non-null  object \n",
      " 35  heatingorsystemdesc         33849 non-null  object \n",
      " 36  propertylandusedesc         52255 non-null  object \n",
      "dtypes: float64(27), int64(4), object(6)\n",
      "memory usage: 15.1+ MB\n"
     ]
    }
   ],
   "source": [
    "df.info()"
   ]
  },
  {
   "cell_type": "code",
   "execution_count": 8,
   "id": "76011b34",
   "metadata": {},
   "outputs": [
    {
     "data": {
      "text/plain": [
       "(52255, 37)"
      ]
     },
     "execution_count": 8,
     "metadata": {},
     "output_type": "execute_result"
    }
   ],
   "source": [
    "# results after using handling missing values function\n",
    "df.shape"
   ]
  },
  {
   "cell_type": "code",
   "execution_count": null,
   "id": "ce6cd41a",
   "metadata": {},
   "outputs": [],
   "source": []
  }
 ],
 "metadata": {
  "kernelspec": {
   "display_name": "Python 3 (ipykernel)",
   "language": "python",
   "name": "python3"
  },
  "language_info": {
   "codemirror_mode": {
    "name": "ipython",
    "version": 3
   },
   "file_extension": ".py",
   "mimetype": "text/x-python",
   "name": "python",
   "nbconvert_exporter": "python",
   "pygments_lexer": "ipython3",
   "version": "3.9.12"
  }
 },
 "nbformat": 4,
 "nbformat_minor": 5
}
