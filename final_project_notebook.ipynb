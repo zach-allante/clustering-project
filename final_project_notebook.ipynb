{
 "cells": [
  {
   "cell_type": "code",
   "execution_count": 1,
   "id": "95313f75",
   "metadata": {},
   "outputs": [],
   "source": [
    "import numpy as np\n",
    "import pandas as pd\n",
    "import matplotlib.pyplot as plt\n",
    "import seaborn as sns\n",
    "from pathlib import Path \n",
    "import scipy.stats as stats\n",
    "import math\n",
    "import sklearn.preprocessing\n",
    "\n",
    "# modeling methods\n",
    "from sklearn.metrics import mean_squared_error\n",
    "from sklearn.linear_model import LinearRegression, LassoLars, TweedieRegressor\n",
    "from sklearn.preprocessing import PolynomialFeatures\n",
    "\n",
    "# train test split from sklearn\n",
    "from sklearn.model_selection import train_test_split\n",
    "from sklearn.preprocessing import MinMaxScaler, StandardScaler, RobustScaler, QuantileTransformer\n",
    "\n",
    "import acquire \n",
    "import explore as e\n",
    "import wrangle as w\n",
    "import regression_models as m\n",
    "\n",
    "import warnings\n",
    "warnings.filterwarnings(\"ignore\")"
   ]
  },
  {
   "cell_type": "markdown",
   "id": "e73cd7c0",
   "metadata": {},
   "source": [
    "# Acquire\n",
    "\n",
    "* I acquired this data from the Codeup database using mySQL workbench\n",
    "* Each observation or row provides a value or description of a home\n",
    "* Each column represents a feature of the property\n",
    "* I acquired this data on Wednesday November 15th "
   ]
  },
  {
   "cell_type": "markdown",
   "id": "70550711",
   "metadata": {},
   "source": [
    "# Prepare\n",
    "\n",
    "* Nulls coverted to zero and zeros reomoved from data set explored\n",
    "* Max sqft to 2500\n",
    "* Max bedrooms of 6 \n",
    "* Max bathrooms of 6 \n",
    "* Half bathrooms rounded up to whole bathrooms\n",
    "* Max property value of 1 Million\n",
    "* Split data into train, validate and test(approx. 50/30/20)\n",
    "* Converted fips numeric value to string value \n",
    "* Encoded Fips location strings into ones and zeros\n",
    "* Renamed multiple columns : bedrooms, bathrooms, complete square footage \n",
    "\n",
    " "
   ]
  },
  {
   "cell_type": "code",
   "execution_count": 2,
   "id": "9e98484b",
   "metadata": {},
   "outputs": [],
   "source": [
    "#create, train, validate, test datasets\n",
    "train, validate, test = w.wrangle_zillow()"
   ]
  },
  {
   "cell_type": "markdown",
   "id": "faaa0d40",
   "metadata": {},
   "source": [
    "# Exploration of Data"
   ]
  },
  {
   "cell_type": "markdown",
   "id": "6c7d7cb3",
   "metadata": {},
   "source": [
    "### What is the median and mean home price? "
   ]
  },
  {
   "cell_type": "code",
   "execution_count": 3,
   "id": "2e273e0e",
   "metadata": {
    "scrolled": true
   },
   "outputs": [
    {
     "data": {
      "image/png": "[encoded data removed]",
      "text/plain": [
       "<Figure size 432x288 with 1 Axes>"
      ]
     },
     "metadata": {
      "needs_background": "light"
     },
     "output_type": "display_data"
    }
   ],
   "source": [
    "# creates boxplot of property values\n",
    "e.boxplot(train,\"property_value\", \"Spread of Home Prices\")"
   ]
  },
  {
   "cell_type": "code",
   "execution_count": 4,
   "id": "19012e86",
   "metadata": {
    "scrolled": true
   },
   "outputs": [
    {
     "name": "stdout",
     "output_type": "stream",
     "text": [
      "Metric         Value\n",
      "----------  --------\n",
      "Median      304006\n",
      "Mean        331975\n",
      "Difference   27969.2\n"
     ]
    }
   ],
   "source": [
    "# Mean compared to Median \n",
    "e.statistic_table(train)"
   ]
  },
  {
   "cell_type": "markdown",
   "id": "b3225e9e",
   "metadata": {},
   "source": [
    "### Takeaways\n",
    "\n",
    "- The median property value is 304,006 dollars\n",
    "- The mean property value is 331,975 dollars\n",
    "- The difference between these values is 27,969 dollars"
   ]
  },
  {
   "cell_type": "markdown",
   "id": "55c05bee",
   "metadata": {},
   "source": [
    "# Statistical Questions"
   ]
  },
  {
   "cell_type": "markdown",
   "id": "5758f0c0",
   "metadata": {},
   "source": [
    "### Is there a significant difference in mean property value across Los Angeles, Ventura  and Orange County?  "
   ]
  },
  {
   "cell_type": "code",
   "execution_count": 5,
   "id": "66b53f7b",
   "metadata": {},
   "outputs": [
    {
     "data": {
      "image/png": "[encoded data removed]",
      "text/plain": [
       "<Figure size 432x288 with 1 Axes>"
      ]
     },
     "metadata": {
      "needs_background": "light"
     },
     "output_type": "display_data"
    }
   ],
   "source": [
    "# creates histogram of properties in counties\n",
    "e.hists(train)"
   ]
  },
  {
   "cell_type": "code",
   "execution_count": 6,
   "id": "04a60889",
   "metadata": {},
   "outputs": [
    {
     "data": {
      "text/plain": [
       "Los Angeles CA       15031\n",
       "Orange County CA      5706\n",
       "Ventura County CA     1773\n",
       "Name: fips, dtype: int64"
      ]
     },
     "execution_count": 6,
     "metadata": {},
     "output_type": "execute_result"
    }
   ],
   "source": [
    "# Count of properties in each County\n",
    "e.value_counts(train)"
   ]
  },
  {
   "cell_type": "markdown",
   "id": "94c088fd",
   "metadata": {},
   "source": [
    "### Hypothesis\n",
    "\n",
    "- Ho: There is no difference in mean property values across Los Angeles County, Ventura County and Orange County<br>\n",
    "- Ha: There is a significant difference in mean property values across Los Angeles County, Ventura County and Orange County"
   ]
  },
  {
   "cell_type": "code",
   "execution_count": 7,
   "id": "0cbbab9d",
   "metadata": {},
   "outputs": [
    {
     "name": "stdout",
     "output_type": "stream",
     "text": [
      "Kruska Result = 741.2514\n",
      "p = 1.0947481547835832e-161\n"
     ]
    }
   ],
   "source": [
    "# results of Anova statistical test \n",
    "e.stats_property_location(train)"
   ]
  },
  {
   "cell_type": "markdown",
   "id": "d4939acf",
   "metadata": {},
   "source": [
    "### Takeaways \n",
    "\n",
    "- There is a significant difference in the mean property value of the homes across Los Angeles, Ventura and Orange County \n",
    "- There appears to be a higher frequency of homes being sold in Los Angeles compared to the other counties\n",
    "- Fips should be considered for modeling\n",
    "- Los Angeles has widest spread of property values\n",
    "\n"
   ]
  },
  {
   "cell_type": "markdown",
   "id": "3e331dae",
   "metadata": {},
   "source": [
    "### Is there a correlation between square footage and property value?  "
   ]
  },
  {
   "cell_type": "code",
   "execution_count": 8,
   "id": "a078b05a",
   "metadata": {},
   "outputs": [
    {
     "data": {
      "image/png": "[encoded data removed]",
      "text/plain": [
       "<Figure size 432x288 with 1 Axes>"
      ]
     },
     "metadata": {
      "needs_background": "light"
     },
     "output_type": "display_data"
    }
   ],
   "source": [
    "#visualization of sqft vs property value \n",
    "e.scatter_plot(train)"
   ]
  },
  {
   "cell_type": "markdown",
   "id": "c7f24f45",
   "metadata": {},
   "source": [
    "### Hypothesis: \n",
    "\n",
    "Ho: There is no correlation between home square footage and property value.<br>\n",
    "Ha: There is a correlation between home square footage and property value."
   ]
  },
  {
   "cell_type": "code",
   "execution_count": 9,
   "id": "2ce0f6a7",
   "metadata": {},
   "outputs": [
    {
     "name": "stdout",
     "output_type": "stream",
     "text": [
      "Correlation Strength = 0.3230\n",
      "p = 0.0\n"
     ]
    }
   ],
   "source": [
    "# Statistc test results\n",
    "e.correlation_stat_test(train,'sqft')"
   ]
  },
  {
   "cell_type": "markdown",
   "id": "f453aa14",
   "metadata": {},
   "source": [
    "### Takeaways\n",
    "- Appears that as sqft increases the property value increases\n",
    "- The test results show support for a relationship between the two variables and a positive correlation\n",
    "- Square footage should be a feature that is considered for modeling"
   ]
  },
  {
   "cell_type": "markdown",
   "id": "ded898bd",
   "metadata": {},
   "source": [
    "### Is there a correlation between the bathrooms  and property value ?  "
   ]
  },
  {
   "cell_type": "code",
   "execution_count": 10,
   "id": "f58035bb",
   "metadata": {},
   "outputs": [
    {
     "data": {
      "image/png": "[encoded data removed]",
      "text/plain": [
       "<Figure size 432x288 with 1 Axes>"
      ]
     },
     "metadata": {
      "needs_background": "light"
     },
     "output_type": "display_data"
    }
   ],
   "source": [
    "# box plot Bathrooms vs Property value \n",
    "e.two_variable_boxplots(train,'baths','Beds and Home Value')"
   ]
  },
  {
   "cell_type": "markdown",
   "id": "1b3d650f",
   "metadata": {},
   "source": [
    "### Hypothesis: \n",
    "\n",
    "Ho: There is no correlation between number of baths and property value.<br>\n",
    "Ha: There is a correlation between number of baths and property value.\n"
   ]
  },
  {
   "cell_type": "code",
   "execution_count": 11,
   "id": "117a5e9f",
   "metadata": {},
   "outputs": [
    {
     "name": "stdout",
     "output_type": "stream",
     "text": [
      "Correlation Strength = 0.2842\n",
      "p = 0.0\n"
     ]
    }
   ],
   "source": [
    "# Statistical test results \n",
    "e.correlation_stat_test(train,'baths')"
   ]
  },
  {
   "cell_type": "markdown",
   "id": "26e3b7e4",
   "metadata": {},
   "source": [
    "### Takeaways\n",
    "\n",
    "- There is a positive correlation between bathrooms and property value\n",
    "- Median value of properties appears to increase with each additional bathroom "
   ]
  },
  {
   "cell_type": "markdown",
   "id": "10f369d5",
   "metadata": {},
   "source": [
    "### Is there a correlation between the room count and property value ?  "
   ]
  },
  {
   "cell_type": "code",
   "execution_count": 12,
   "id": "49ec3a02",
   "metadata": {},
   "outputs": [
    {
     "data": {
      "image/png": "[encoded data removed]",
      "text/plain": [
       "<Figure size 432x288 with 1 Axes>"
      ]
     },
     "metadata": {
      "needs_background": "light"
     },
     "output_type": "display_data"
    }
   ],
   "source": [
    "# box plot Rooms vs Property value \n",
    "e.two_variable_boxplots(train,'rooms_count', 'Rooms and Home Value')"
   ]
  },
  {
   "cell_type": "markdown",
   "id": "48819e3f",
   "metadata": {},
   "source": [
    "### Hypothesis\n",
    "\n",
    "Ho: There is no correlation between number of rooms and property value.<br>\n",
    "Ha: There is a correlation between number of rooms and property value."
   ]
  },
  {
   "cell_type": "code",
   "execution_count": 13,
   "id": "357ee08d",
   "metadata": {},
   "outputs": [
    {
     "name": "stdout",
     "output_type": "stream",
     "text": [
      "Correlation Strength = 0.2265\n",
      "p = 9.974046059473551e-260\n"
     ]
    }
   ],
   "source": [
    "# Statistical test results \n",
    "e.correlation_stat_test(train,'rooms_count')"
   ]
  },
  {
   "cell_type": "markdown",
   "id": "5b226f87",
   "metadata": {},
   "source": [
    "### Takeaways\n",
    "\n",
    "- Property value appears to increase with each room until 7 rooms\n",
    "- Bathrooms may have a larger impact to home value compared to bedrooms (Bathrooms has stronger correlation)\n",
    "- Adding additional bathroom to a home may be more valuable than adding another bedroom\n",
    "- Rooms count has a positive correlation with home value and will be considered for modeling"
   ]
  },
  {
   "cell_type": "markdown",
   "id": "80716f4e",
   "metadata": {},
   "source": [
    "## Exploration Summary\n",
    "\n",
    "- The median property value is 304,006 dollars\n",
    "- The features used for modeling will be baths, rooms count and sqft\n",
    "- The statistical tests provide support that there is a correlation between Property value and baths, beds, sqft\n",
    "- Statistical testing supports a significant relationship between fips code and property value \n",
    "- There is a significant difference in the mean property value of the homes across Los Angeles, Ventura and Orange County \n",
    "- There appears to be a higher frequency of homes being sold in Los Angeles compared to the other counties\n",
    "- The mean property value is 331,975 dollars\n",
    "\n",
    "\n",
    "\n",
    "\n"
   ]
  },
  {
   "cell_type": "markdown",
   "id": "bcbb6e0e",
   "metadata": {},
   "source": [
    "# Modeling"
   ]
  },
  {
   "cell_type": "markdown",
   "id": "8feb0ff4",
   "metadata": {},
   "source": [
    "### Introduction\n",
    "\n",
    "- I will use Root Mean Squared error as my evaluation metric\n",
    "- My baseline model is created from the Root Mean Squared error (RMSE) of the median property value of the train and validate data set\n",
    "- The features chosen for the models are bathroom count, total rooms and square feet of the home\n",
    "- Models will be evaluated on train and validate data sets \n",
    "- The model that performs the best will be evaluated on the test data"
   ]
  },
  {
   "cell_type": "code",
   "execution_count": 14,
   "id": "5365f54d",
   "metadata": {},
   "outputs": [],
   "source": [
    "# prepare data for models\n",
    "X_train, X_validate, y_train, y_validate, X_test, y_test = m.model_columns(train,validate,test)"
   ]
  },
  {
   "cell_type": "markdown",
   "id": "f1c19cb5",
   "metadata": {},
   "source": [
    "## Baseline Model"
   ]
  },
  {
   "cell_type": "code",
   "execution_count": 15,
   "id": "9a597467",
   "metadata": {},
   "outputs": [
    {
     "name": "stdout",
     "output_type": "stream",
     "text": [
      "RMSE using Median\n",
      "Train/In-Sample:  215215.43 \n",
      "Validate/Out-of-Sample:  218227.96\n"
     ]
    }
   ],
   "source": [
    "# creating baseline model and printing results\n",
    "m.baseline_model(y_train,y_validate)"
   ]
  },
  {
   "cell_type": "code",
   "execution_count": 16,
   "id": "977e05f0",
   "metadata": {},
   "outputs": [],
   "source": [
    "# scaling features for modeling\n",
    "X_train_scaled, X_validate_scaled, X_test_scaled = m.scaling(X_train,X_validate,X_test)"
   ]
  },
  {
   "cell_type": "markdown",
   "id": "06bdfee6",
   "metadata": {},
   "source": [
    "## LassoLars "
   ]
  },
  {
   "cell_type": "code",
   "execution_count": 17,
   "id": "34a804bf",
   "metadata": {},
   "outputs": [
    {
     "name": "stdout",
     "output_type": "stream",
     "text": [
      "RMSE for Lasso + Lars\n",
      "Training/In-Sample:  200298.86894053587 \n",
      "Validation/Out-of-Sample:  202564.816833445\n"
     ]
    }
   ],
   "source": [
    "# Lasso Lars model result\n",
    "m.lassolars(X_train_scaled,X_validate_scaled,y_train,y_validate)"
   ]
  },
  {
   "cell_type": "markdown",
   "id": "5d9b532a",
   "metadata": {},
   "source": [
    "### Takeaways \n",
    "- model performs better than baseline "
   ]
  },
  {
   "cell_type": "markdown",
   "id": "acf987ad",
   "metadata": {},
   "source": [
    "## TweedieRegressor(GLM) "
   ]
  },
  {
   "cell_type": "code",
   "execution_count": 18,
   "id": "fce58527",
   "metadata": {},
   "outputs": [
    {
     "name": "stdout",
     "output_type": "stream",
     "text": [
      "RMSE for GLM using Tweedie, power=1 & alpha=0\n",
      "Training/In-Sample:  200216.40150063235 \n",
      "Validation/Out-of-Sample:  202564.70934418403\n"
     ]
    }
   ],
   "source": [
    "# Tweedie Regressor model results\n",
    "m.tweedie(X_train_scaled,X_validate_scaled,y_train,y_validate)"
   ]
  },
  {
   "cell_type": "markdown",
   "id": "017a2790",
   "metadata": {},
   "source": [
    "## Takeaways\n",
    "- performs better than baseline \n"
   ]
  },
  {
   "cell_type": "markdown",
   "id": "50a8bd73",
   "metadata": {},
   "source": [
    "## Polynomial Regression "
   ]
  },
  {
   "cell_type": "code",
   "execution_count": 19,
   "id": "5c2160c5",
   "metadata": {},
   "outputs": [
    {
     "name": "stdout",
     "output_type": "stream",
     "text": [
      "RMSE for Polynomial Model, degrees=4\n",
      "Training/In-Sample:  199869.8003363903 \n",
      "Validation/Out-of-Sample:  202539.8924280777\n"
     ]
    }
   ],
   "source": [
    "# generating polynomial regression model results\n",
    "m.linear_reg(X_train_scaled,X_validate_scaled,y_train,y_validate)"
   ]
  },
  {
   "cell_type": "markdown",
   "id": "075dbd7f",
   "metadata": {},
   "source": [
    "## Takeaways\n",
    "- performs better than baseline \n"
   ]
  },
  {
   "cell_type": "markdown",
   "id": "7d0c320b",
   "metadata": {},
   "source": [
    "## Best Model"
   ]
  },
  {
   "cell_type": "markdown",
   "id": "a46e3769",
   "metadata": {},
   "source": [
    "- ####   Polynomial Regression Model Wins!"
   ]
  },
  {
   "cell_type": "markdown",
   "id": "491c0631",
   "metadata": {},
   "source": [
    "## Test Model\n",
    "- I will run my Polynomial Regression on my test data"
   ]
  },
  {
   "cell_type": "code",
   "execution_count": 20,
   "id": "b8db8ccd",
   "metadata": {
    "scrolled": true
   },
   "outputs": [
    {
     "name": "stdout",
     "output_type": "stream",
     "text": [
      "RMSE for Polynomial Model, Results:  202757.41657260247\n"
     ]
    }
   ],
   "source": [
    "# using model on test dataset \n",
    "m.polynomial_reg(X_test_scaled, y_test)"
   ]
  },
  {
   "cell_type": "markdown",
   "id": "0b3e186b",
   "metadata": {},
   "source": [
    "### Modeling Wrap \n",
    "\n",
    "* I would recommend this model for production because it is roughly a 7% improvement from the baseline"
   ]
  },
  {
   "cell_type": "markdown",
   "id": "6a3ce81f",
   "metadata": {},
   "source": [
    "## Conclusion\n",
    "\n",
    "### Summary\n",
    "- Statistical evidence supports correlations between property value and bathrooms, total rooms and square feet of a home respectively\n",
    "- Statistical testing supports a significant relationship between fips code and property value \n",
    "- The median property value is 304,006 dollars\n",
    "- There appears to be a higher frequency of homes being sold in Los Angeles compared to the other counties\n",
    "- There is a significant difference in the mean property value of the homes across Los Angeles, Ventura and Orange County \n",
    "\n",
    "\n",
    "### Modeling Summary \n",
    "- My model uses bathrooms, room count and square footage to predict a home's value\n",
    "- The final model performed approximately 7% better than the baseline\n",
    "- I would recommend this model for production\n",
    "\n",
    "\n",
    "### Recommendations\n",
    "* Have a team meeting to discuss how to analyze features specifc to location\n",
    "* Request more data to balance out the representation of transactions in Orange County and Ventura County \n",
    "\n",
    "\n",
    "### Next Steps\n",
    "* Take time to build a model solely based on location features\n",
    "* Look further into Los Angeles transactions impact on data"
   ]
  },
  {
   "cell_type": "code",
   "execution_count": null,
   "id": "0d9da803",
   "metadata": {},
   "outputs": [],
   "source": []
  }
 ],
 "metadata": {
  "kernelspec": {
   "display_name": "Python 3.9.6 64-bit",
   "language": "python",
   "name": "python3"
  },
  "language_info": {
   "codemirror_mode": {
    "name": "ipython",
    "version": 3
   },
   "file_extension": ".py",
   "mimetype": "text/x-python",
   "name": "python",
   "nbconvert_exporter": "python",
   "pygments_lexer": "ipython3",
   "version": "3.9.6"
  },
  "vscode": {
   "interpreter": {
    "hash": "31f2aee4e71d21fbe5cf8b01ff0e069b9275f58929596ceb00d14d90e3e16cd6"
   }
  }
 },
 "nbformat": 4,
 "nbformat_minor": 5
}
