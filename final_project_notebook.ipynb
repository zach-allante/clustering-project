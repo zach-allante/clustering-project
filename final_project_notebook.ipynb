{
 "cells": [
  {
   "cell_type": "code",
   "execution_count": 1,
   "id": "95313f75",
   "metadata": {},
   "outputs": [],
   "source": [
    "import numpy as np\n",
    "import pandas as pd\n",
    "import matplotlib.pyplot as plt\n",
    "import seaborn as sns\n",
    "from pathlib import Path \n",
    "import scipy.stats as stats\n",
    "import math\n",
    "import sklearn.preprocessing\n",
    "from env import get_db_url\n",
    "\n",
    "# modeling methods\n",
    "from sklearn.metrics import mean_squared_error\n",
    "from sklearn.linear_model import LinearRegression, LassoLars, TweedieRegressor\n",
    "from sklearn.preprocessing import PolynomialFeatures\n",
    "from sklearn.preprocessing import MinMaxScaler\n",
    "from sklearn.cluster import KMeans\n",
    "\n",
    "# train test split from sklearn\n",
    "from sklearn.model_selection import train_test_split\n",
    "from sklearn.preprocessing import MinMaxScaler, StandardScaler, RobustScaler, QuantileTransformer\n",
    "\n",
    "#import acquire\n",
    "import explore as e\n",
    "import wrangle_zillow as w\n",
    "import modeling as m \n",
    "\n",
    "import warnings\n",
    "warnings.filterwarnings(\"ignore\")"
   ]
  },
  {
   "cell_type": "markdown",
   "id": "2681a333",
   "metadata": {},
   "source": [
    "# Acquire"
   ]
  },
  {
   "cell_type": "markdown",
   "id": "e73cd7c0",
   "metadata": {},
   "source": [
    "\n",
    "* The data wasfrom the Codeup database using mySQL workbench\n",
    "* Each observation represents a single family home\n",
    "* Each column represents a feature of the property\n",
    "* I acquired this data on Wednesday November 30th "
   ]
  },
  {
   "cell_type": "markdown",
   "id": "70550711",
   "metadata": {},
   "source": [
    "# Prepare\n",
    "\n",
    "* Removed nulls from rows then removed columns with most nulls\n",
    "* Outliers were not identified or intentionally removed\n",
    "* Year built column changed to age and imputed values to show age of property\n",
    "* Split data into train, validate and test(approx. 50/30/20)\n",
    "* Renamed multiple columns : bedrooms, bathrooms, complete square footage \n",
    "\n",
    " "
   ]
  },
  {
   "cell_type": "code",
   "execution_count": 2,
   "id": "9e98484b",
   "metadata": {},
   "outputs": [],
   "source": [
    "#retrieving data\n",
    "df = w.get_zillow_data()"
   ]
  },
  {
   "cell_type": "code",
   "execution_count": 3,
   "id": "9b880b5f",
   "metadata": {
    "jupyter": {
     "outputs_hidden": false
    }
   },
   "outputs": [],
   "source": [
    "# columns dropped from cleaned dataframe\n",
    "columns = ['buildingqualitytypeid','heatingorsystemdesc','heatingorsystemtypeid','unitcnt','propertyzoningdesc','propertylandusedesc','parcelid.1','id.1','censustractandblock']\n",
    "#columns used to create location clusters \n",
    "location = ['latitude','longitude','age']\n",
    "# columns used to create foundation clusters\n",
    "foundation = ['sqft','lotsizesquarefeet']"
   ]
  },
  {
   "cell_type": "code",
   "execution_count": 4,
   "id": "d39b087c",
   "metadata": {
    "jupyter": {
     "outputs_hidden": false
    }
   },
   "outputs": [],
   "source": [
    "# cleaning data\n",
    "df = w.data_prep(df,columns)"
   ]
  },
  {
   "cell_type": "code",
   "execution_count": 5,
   "id": "f66bd28b",
   "metadata": {},
   "outputs": [],
   "source": [
    "#create, train, validate, test datasets\n",
    "train, validate, test = w.wrangle_zillow(df)"
   ]
  },
  {
   "cell_type": "markdown",
   "id": "faaa0d40",
   "metadata": {},
   "source": [
    "# Exploration of Data"
   ]
  },
  {
   "cell_type": "markdown",
   "id": "6c7d7cb3",
   "metadata": {},
   "source": [
    "### What is the median and mean logerror? "
   ]
  },
  {
   "cell_type": "code",
   "execution_count": 6,
   "id": "2e273e0e",
   "metadata": {
    "scrolled": true
   },
   "outputs": [
    {
     "name": "stdout",
     "output_type": "stream",
     "text": [
      "Metric           Value\n",
      "----------  ----------\n",
      "Median      0.00684291\n",
      "Mean        0.0181363\n",
      "Difference  0.0112934\n"
     ]
    }
   ],
   "source": [
    "# table of logerror mean and median\n",
    "e.statistic_table(df)"
   ]
  },
  {
   "cell_type": "markdown",
   "id": "b3225e9e",
   "metadata": {},
   "source": [
    "### Takeaways\n",
    "\n",
    "- The median logerror is .0069\n",
    "- The mean logerror is .018\n",
    "- The difference between these values is .011"
   ]
  },
  {
   "cell_type": "markdown",
   "id": "55c05bee",
   "metadata": {},
   "source": [
    "# Statistical Questions"
   ]
  },
  {
   "cell_type": "markdown",
   "id": "5758f0c0",
   "metadata": {},
   "source": [
    "### Is there a signfiicant difference in mean logerror across the three counties?"
   ]
  },
  {
   "cell_type": "code",
   "execution_count": 7,
   "id": "66b53f7b",
   "metadata": {},
   "outputs": [
    {
     "data": {
      "image/png": "[encoded data removed]",
      "text/plain": [
       "<Figure size 432x288 with 1 Axes>"
      ]
     },
     "metadata": {
      "needs_background": "light"
     },
     "output_type": "display_data"
    }
   ],
   "source": [
    "# creates bar chart of logerror\n",
    "e.bar_chart(train,'fips','logerror')"
   ]
  },
  {
   "cell_type": "markdown",
   "id": "94c088fd",
   "metadata": {},
   "source": [
    "### Hypothesis\n",
    "\n",
    "- Ho: There is not a signficant difference in mean between logerror across counties<br>\n",
    "- Ha: There is a significant difference in mean  between logerror across counties"
   ]
  },
  {
   "cell_type": "code",
   "execution_count": 8,
   "id": "0cbbab9d",
   "metadata": {},
   "outputs": [
    {
     "name": "stdout",
     "output_type": "stream",
     "text": [
      "Kruska Result = 53.2321\n",
      "p = 2.7592338397679317e-12\n"
     ]
    }
   ],
   "source": [
    "# Statistical test results\n",
    "e.stats_property_location(train)"
   ]
  },
  {
   "cell_type": "markdown",
   "id": "d4939acf",
   "metadata": {},
   "source": [
    "### Takeaways \n",
    "\n",
    "- The counties have signficant differences in their mean log errors\n",
    "- Orange county appears to have the largest mean logerror\n",
    "\n"
   ]
  },
  {
   "cell_type": "markdown",
   "id": "3e331dae",
   "metadata": {},
   "source": [
    "### Is there a correlation between taxamount and logerror?"
   ]
  },
  {
   "cell_type": "code",
   "execution_count": 9,
   "id": "a078b05a",
   "metadata": {},
   "outputs": [
    {
     "data": {
      "image/png": "[encoded data removed]",
      "text/plain": [
       "<Figure size 432x288 with 1 Axes>"
      ]
     },
     "metadata": {
      "needs_background": "light"
     },
     "output_type": "display_data"
    }
   ],
   "source": [
    "# Visualization \n",
    "e.scatter_plot(train)"
   ]
  },
  {
   "cell_type": "markdown",
   "id": "c7f24f45",
   "metadata": {},
   "source": [
    "### Hypothesis: \n",
    "\n",
    "Ho: There is is not a correlation between logerror and taxamount<br>\n",
    "Ha: There is a correlation between logerror and taxamount"
   ]
  },
  {
   "cell_type": "code",
   "execution_count": 10,
   "id": "2ce0f6a7",
   "metadata": {},
   "outputs": [
    {
     "name": "stdout",
     "output_type": "stream",
     "text": [
      "Correlation Strength = -0.0143\n",
      "p = 0.016039807242995818\n"
     ]
    }
   ],
   "source": [
    "# Statistcal test results\n",
    "e.correlation_stat_test(train,'taxamount')"
   ]
  },
  {
   "cell_type": "markdown",
   "id": "f453aa14",
   "metadata": {},
   "source": [
    "### Takeaways\n",
    "- There is a correlation beetween the taxamount and the logerror\n",
    "- As the price of the home increases the log error decreases \n",
    "\n",
    "\n"
   ]
  },
  {
   "cell_type": "markdown",
   "id": "ded898bd",
   "metadata": {},
   "source": [
    "### Is there a significant difference in the mean logerror of homes in the location cluster number one compared to the population?"
   ]
  },
  {
   "cell_type": "code",
   "execution_count": 11,
   "id": "d5763e54",
   "metadata": {},
   "outputs": [
    {
     "data": {
      "image/png": "[encoded data removed]",
      "text/plain": [
       "<Figure size 432x288 with 1 Axes>"
      ]
     },
     "metadata": {
      "needs_background": "light"
     },
     "output_type": "display_data"
    },
    {
     "data": {
      "image/png": "[encoded data removed]",
      "text/plain": [
       "<Figure size 432x288 with 1 Axes>"
      ]
     },
     "metadata": {
      "needs_background": "light"
     },
     "output_type": "display_data"
    }
   ],
   "source": [
    "# Visualization\n",
    "e.boxplots(train,location,5,1)"
   ]
  },
  {
   "cell_type": "markdown",
   "id": "bf940ff8",
   "metadata": {},
   "source": [
    "### Hypothesis: \n",
    "\n",
    "Ho: There is not a significant difference in the mean logerror of homes in foundation cluster number two compared to the population<br>\n",
    "Ha: There is a significant difference in the mean logerror of homes in foundation cluster number two compared to the population"
   ]
  },
  {
   "cell_type": "code",
   "execution_count": 12,
   "id": "117a5e9f",
   "metadata": {},
   "outputs": [
    {
     "name": "stdout",
     "output_type": "stream",
     "text": [
      "We reject $H_{0}$\n"
     ]
    },
    {
     "data": {
      "text/plain": [
       "(3.9215866859077404, 8.909651845831881e-05)"
      ]
     },
     "execution_count": 12,
     "metadata": {},
     "output_type": "execute_result"
    }
   ],
   "source": [
    "# Statistical test results \n",
    "e.ttest(train,location,5,1)"
   ]
  },
  {
   "cell_type": "markdown",
   "id": "26e3b7e4",
   "metadata": {},
   "source": [
    "### Takeaways\n",
    "\n",
    "- Rejecting the null here implies that this cluster could be a useful feature to help the performance of our model as the mean log error in this cluster is significantly different from the overall popultaion.\n"
   ]
  },
  {
   "cell_type": "markdown",
   "id": "10f369d5",
   "metadata": {},
   "source": [
    "### Is there a significant difference in the mean logerror of homes in the location cluster number two compared to the population?"
   ]
  },
  {
   "cell_type": "code",
   "execution_count": 13,
   "id": "49ec3a02",
   "metadata": {},
   "outputs": [
    {
     "data": {
      "image/png": "[encoded data removed]",
      "text/plain": [
       "<Figure size 432x288 with 1 Axes>"
      ]
     },
     "metadata": {
      "needs_background": "light"
     },
     "output_type": "display_data"
    },
    {
     "data": {
      "image/png": "[encoded data removed]",
      "text/plain": [
       "<Figure size 432x288 with 1 Axes>"
      ]
     },
     "metadata": {
      "needs_background": "light"
     },
     "output_type": "display_data"
    }
   ],
   "source": [
    "# Visualizations\n",
    "e.boxplots(train,location,5,2)"
   ]
  },
  {
   "cell_type": "markdown",
   "id": "48819e3f",
   "metadata": {},
   "source": [
    "### Hypothesis\n",
    "\n",
    "Ho: There is not a significant difference in the mean logerror of homes in the location cluster number one compared to the population<br>\n",
    "Ha: There is a significant difference in the mean logerror of homes in the location cluster number one compared to the population"
   ]
  },
  {
   "cell_type": "code",
   "execution_count": 14,
   "id": "357ee08d",
   "metadata": {},
   "outputs": [
    {
     "name": "stdout",
     "output_type": "stream",
     "text": [
      "We reject $H_{0}$\n"
     ]
    },
    {
     "data": {
      "text/plain": [
       "(2.0792505008757365, 0.03762105270215128)"
      ]
     },
     "execution_count": 14,
     "metadata": {},
     "output_type": "execute_result"
    }
   ],
   "source": [
    "# Statistical test results \n",
    "e.ttest(train,location,5,2)"
   ]
  },
  {
   "cell_type": "markdown",
   "id": "5b226f87",
   "metadata": {},
   "source": [
    "### Takeaways\n",
    "- Rejecting the null here implies that this cluster could be a useful feature to help the performance of our model as the mean log error in this cluster is significantly different from the overall popultaion.\n"
   ]
  },
  {
   "cell_type": "markdown",
   "id": "80716f4e",
   "metadata": {},
   "source": [
    "## Exploration Summary\n",
    "\n",
    "- The median logerror is .0069\n",
    "- The counties have signficant differences in their mean log errors\n",
    "- As the price of the home increases the log error decreases \n",
    "- There was a set of clusters created based on location features (latitude, longitude, age)\n",
    "- There was a set of clusters created based on foundation features (square feet and lot size)\n",
    "- There was a set of clusters created based on structure features (bedrooms and bathrooms)\n",
    "- Properties within location cluster 1 have a different mean log error to the population\n",
    "- Properties within location cluster 2 have a different mean log error to the population\n",
    "\n",
    "\n",
    "\n",
    "\n",
    "\n"
   ]
  },
  {
   "cell_type": "markdown",
   "id": "bcbb6e0e",
   "metadata": {},
   "source": [
    "# Modeling"
   ]
  },
  {
   "cell_type": "markdown",
   "id": "8feb0ff4",
   "metadata": {},
   "source": [
    "### Introduction\n",
    "\n",
    "- Root Mean Squared error will be used as the evaluation metric\n",
    "- My baseline model is created from the Root Mean Squared error (RMSE) of the median logerror of the train and validate data set\n",
    "- The features chosen for modeling are cluster one from the location cluster and cluster two from the foundation cluster\n",
    "- Models will be evaluated on train and validate data sets \n",
    "- The model that performs the best will be evaluated on the test data"
   ]
  },
  {
   "cell_type": "code",
   "execution_count": 15,
   "id": "5365f54d",
   "metadata": {},
   "outputs": [],
   "source": [
    "# prepare data for models\n",
    "location_train_model_df = m.make_location_model_df(train,location, 5)\n",
    "location_validate_model_df = m.make_location_model_df(validate,location,5)\n",
    "location_test_model_df = m.make_location_model_df(test, location, 5)"
   ]
  },
  {
   "cell_type": "code",
   "execution_count": 16,
   "id": "e13d14f8-8fcc-4797-9d42-9d1bfb3f58c7",
   "metadata": {},
   "outputs": [],
   "source": [
    "# prepare data for models\n",
    "foundation_train_model_df = m.make_foundation_model_df(train,foundation,4)\n",
    "foundation_validate_model_df = m.make_foundation_model_df(validate,foundation,4)\n",
    "foundation_test_model_df = m.make_foundation_model_df(test,foundation,4)"
   ]
  },
  {
   "cell_type": "markdown",
   "id": "f1c19cb5",
   "metadata": {},
   "source": [
    "## Baseline Model"
   ]
  },
  {
   "cell_type": "code",
   "execution_count": 17,
   "id": "9a597467",
   "metadata": {},
   "outputs": [
    {
     "name": "stdout",
     "output_type": "stream",
     "text": [
      "RMSE using Median\n",
      "Train/In-Sample:  0.18\n"
     ]
    }
   ],
   "source": [
    "# creating baseline model and printing results\n",
    "m.baseline(train)"
   ]
  },
  {
   "cell_type": "markdown",
   "id": "06bdfee6",
   "metadata": {},
   "source": [
    "## LassoLars "
   ]
  },
  {
   "cell_type": "code",
   "execution_count": 18,
   "id": "34a804bf",
   "metadata": {},
   "outputs": [
    {
     "name": "stdout",
     "output_type": "stream",
     "text": [
      "RMSE for Lasso + Lars\n",
      "Training/In-Sample:  0.17883017849045363 \n",
      "Validation/Out-of-Sample:  0.1621427261414958\n"
     ]
    }
   ],
   "source": [
    "#generating LassoLars modelresults using location features/clusters\n",
    "m.Lass(location_train_model_df,location_validate_model_df,train,validate)\n"
   ]
  },
  {
   "cell_type": "code",
   "execution_count": 19,
   "id": "dc107cb4",
   "metadata": {},
   "outputs": [
    {
     "name": "stdout",
     "output_type": "stream",
     "text": [
      "RMSE for Lasso + Lars\n",
      "Training/In-Sample:  0.17883017849045363 \n",
      "Validation/Out-of-Sample:  0.1621427261414958\n"
     ]
    }
   ],
   "source": [
    "#generating LassoLars model using foundation features/ clusters\n",
    "m.Lass(foundation_train_model_df,foundation_validate_model_df,train,validate)"
   ]
  },
  {
   "cell_type": "markdown",
   "id": "50a8bd73",
   "metadata": {},
   "source": [
    "## Polynomial Regression "
   ]
  },
  {
   "cell_type": "code",
   "execution_count": 20,
   "id": "5c2160c5",
   "metadata": {},
   "outputs": [
    {
     "name": "stdout",
     "output_type": "stream",
     "text": [
      "RMSE for Polynomial Model, degrees=2\n",
      "Training/In-Sample:  0.17862233759838328 \n",
      "Validation/Out-of-Sample:  0.16212535823375115\n"
     ]
    }
   ],
   "source": [
    "# generating polynomial regression model results using location features/clusters\n",
    "m.regression_functions(location_train_model_df,location_validate_model_df,location_test_model_df,train,validate)"
   ]
  },
  {
   "cell_type": "code",
   "execution_count": 21,
   "id": "1679f960-29f7-42d7-8f3f-2e4d247cb59a",
   "metadata": {},
   "outputs": [
    {
     "name": "stdout",
     "output_type": "stream",
     "text": [
      "RMSE for Polynomial Model, degrees=2\n",
      "Training/In-Sample:  0.1786829222118304 \n",
      "Validation/Out-of-Sample:  0.16236367973784552\n"
     ]
    }
   ],
   "source": [
    "# generating polynomial regression model results using foundation features/clusters\n",
    "m.regression_functions(foundation_train_model_df,foundation_validate_model_df,foundation_test_model_df,train,validate)"
   ]
  },
  {
   "cell_type": "markdown",
   "id": "075dbd7f",
   "metadata": {},
   "source": [
    "## Takeaways\n",
    "- All models perform better than baseline\n"
   ]
  },
  {
   "cell_type": "markdown",
   "id": "7d0c320b",
   "metadata": {},
   "source": [
    "## Best Model"
   ]
  },
  {
   "cell_type": "markdown",
   "id": "a46e3769",
   "metadata": {},
   "source": [
    "- ####   Polynomial Regression Model Wins!"
   ]
  },
  {
   "cell_type": "markdown",
   "id": "491c0631",
   "metadata": {},
   "source": [
    "## Test Model\n",
    "- The test data will run through the Polynomial Regression model"
   ]
  },
  {
   "cell_type": "code",
   "execution_count": 22,
   "id": "b8db8ccd",
   "metadata": {
    "scrolled": false
   },
   "outputs": [
    {
     "name": "stdout",
     "output_type": "stream",
     "text": [
      "RMSE for Polynomial Model, degrees=2\n",
      "Validate/Out-of-Sample:  0.1618673782523417 \n",
      "Test/Out-of-Sample:  0.17988090286428374\n"
     ]
    }
   ],
   "source": [
    "# using model on test dataset \n",
    "m.model_test(location_train_model_df,location_validate_model_df,location_test_model_df,validate,test)"
   ]
  },
  {
   "cell_type": "markdown",
   "id": "0b3e186b",
   "metadata": {},
   "source": [
    "### Modeling Wrap \n",
    "\n",
    "* I would not recommend this model for production because it does not perform significantly better than the baseline model"
   ]
  },
  {
   "cell_type": "markdown",
   "id": "6a3ce81f",
   "metadata": {},
   "source": [
    "## Conclusion\n",
    "\n",
    "### Summary\n",
    "\n",
    "- The median logerror is .0069\n",
    "- Statistical evidence supports a correlation between taxamount and logerror\n",
    "- The counties have signficant differences in their mean log errors\n",
    "- Properties within location cluster 1 have a different mean log error to the population\n",
    "- Properties within location cluster 2 have a different mean log error to the population\n",
    "\n",
    "\n",
    "\n",
    "\n",
    "### Modeling Summary \n",
    "- The model uses location cluster 1 and foundation cluster 2\n",
    "- The final model performed better than the baseline but not significantly better\n",
    "- I would not recommend this model for production\n",
    "\n",
    "\n",
    "### Recommendations\n",
    "* Compare data from 2017 from other years of zillow data and see if similar results are found\n",
    "* Create models for each county\n",
    "\n",
    "\n",
    "### Next Steps\n",
    "* Create a model using the taxamounts column to predict logerror\n",
    "* Spend more time researching why the logerror mean was highest in Orange County"
   ]
  },
  {
   "cell_type": "code",
   "execution_count": null,
   "id": "38c13833",
   "metadata": {},
   "outputs": [],
   "source": []
  }
 ],
 "metadata": {
  "kernelspec": {
   "display_name": "Python 3 (ipykernel)",
   "language": "python",
   "name": "python3"
  },
  "language_info": {
   "codemirror_mode": {
    "name": "ipython",
    "version": 3
   },
   "file_extension": ".py",
   "mimetype": "text/x-python",
   "name": "python",
   "nbconvert_exporter": "python",
   "pygments_lexer": "ipython3",
   "version": "3.9.12"
  },
  "vscode": {
   "interpreter": {
    "hash": "31f2aee4e71d21fbe5cf8b01ff0e069b9275f58929596ceb00d14d90e3e16cd6"
   }
  }
 },
 "nbformat": 4,
 "nbformat_minor": 5
}
