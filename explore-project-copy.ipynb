{
 "cells": [
  {
   "cell_type": "code",
   "execution_count": 1,
   "metadata": {},
   "outputs": [],
   "source": [
    "import pandas as pd\n",
    "import numpy as np\n",
    "import matplotlib.pyplot as plt\n",
    "from sklearn.preprocessing import MinMaxScaler\n",
    "from env import get_db_url\n",
    "import wrangle_zillow as w\n",
    "from sklearn.preprocessing import MinMaxScaler\n",
    "from sklearn.cluster import KMeans\n",
    "import scipy.stats as stats\n",
    "from sklearn.metrics import mean_squared_error\n",
    "from sklearn.linear_model import LinearRegression, LassoLars, TweedieRegressor\n",
    "from sklearn.preprocessing import PolynomialFeatures\n",
    "from tabulate import tabulate\n",
    "import seaborn as sns\n",
    "import pandas as pd \n",
    "import numpy as np \n",
    "import matplotlib.pyplot as plt\n",
    "from sklearn.preprocessing import MinMaxScaler\n",
    "from env import get_db_url\n",
    "import wrangle_zillow as w\n",
    "import seaborn as sns\n",
    "import pandas as pd\n",
    "from scipy import stats\n",
    "from sklearn.preprocessing import MinMaxScaler\n",
    "from sklearn.cluster import KMeans"
   ]
  },
  {
   "cell_type": "code",
   "execution_count": 2,
   "metadata": {},
   "outputs": [],
   "source": [
    "# creating df variable"
   ]
  },
  {
   "cell_type": "code",
   "execution_count": 3,
   "metadata": {},
   "outputs": [],
   "source": [
    "df = w.get_zillow_data()"
   ]
  },
  {
   "cell_type": "code",
   "execution_count": 4,
   "metadata": {},
   "outputs": [
    {
     "data": {
      "text/html": [
       "<div>\n",
       "<style scoped>\n",
       "    .dataframe tbody tr th:only-of-type {\n",
       "        vertical-align: middle;\n",
       "    }\n",
       "\n",
       "    .dataframe tbody tr th {\n",
       "        vertical-align: top;\n",
       "    }\n",
       "\n",
       "    .dataframe thead th {\n",
       "        text-align: right;\n",
       "    }\n",
       "</style>\n",
       "<table border=\"1\" class=\"dataframe\">\n",
       "  <thead>\n",
       "    <tr style=\"text-align: right;\">\n",
       "      <th></th>\n",
       "      <th>typeconstructiontypeid</th>\n",
       "      <th>storytypeid</th>\n",
       "      <th>propertylandusetypeid</th>\n",
       "      <th>heatingorsystemtypeid</th>\n",
       "      <th>buildingclasstypeid</th>\n",
       "      <th>architecturalstyletypeid</th>\n",
       "      <th>airconditioningtypeid</th>\n",
       "      <th>parcelid</th>\n",
       "      <th>id</th>\n",
       "      <th>basementsqft</th>\n",
       "      <th>...</th>\n",
       "      <th>parcelid.1</th>\n",
       "      <th>logerror</th>\n",
       "      <th>transactiondate</th>\n",
       "      <th>airconditioningdesc</th>\n",
       "      <th>architecturalstyledesc</th>\n",
       "      <th>buildingclassdesc</th>\n",
       "      <th>heatingorsystemdesc</th>\n",
       "      <th>propertylandusedesc</th>\n",
       "      <th>storydesc</th>\n",
       "      <th>typeconstructiondesc</th>\n",
       "    </tr>\n",
       "  </thead>\n",
       "  <tbody>\n",
       "    <tr>\n",
       "      <th>0</th>\n",
       "      <td>NaN</td>\n",
       "      <td>NaN</td>\n",
       "      <td>261.0</td>\n",
       "      <td>NaN</td>\n",
       "      <td>NaN</td>\n",
       "      <td>NaN</td>\n",
       "      <td>NaN</td>\n",
       "      <td>14297519</td>\n",
       "      <td>1727539</td>\n",
       "      <td>NaN</td>\n",
       "      <td>...</td>\n",
       "      <td>14297519</td>\n",
       "      <td>0.025595</td>\n",
       "      <td>2017-01-01</td>\n",
       "      <td>NaN</td>\n",
       "      <td>NaN</td>\n",
       "      <td>NaN</td>\n",
       "      <td>NaN</td>\n",
       "      <td>Single Family Residential</td>\n",
       "      <td>NaN</td>\n",
       "      <td>NaN</td>\n",
       "    </tr>\n",
       "    <tr>\n",
       "      <th>1</th>\n",
       "      <td>NaN</td>\n",
       "      <td>NaN</td>\n",
       "      <td>261.0</td>\n",
       "      <td>NaN</td>\n",
       "      <td>NaN</td>\n",
       "      <td>NaN</td>\n",
       "      <td>NaN</td>\n",
       "      <td>17052889</td>\n",
       "      <td>1387261</td>\n",
       "      <td>NaN</td>\n",
       "      <td>...</td>\n",
       "      <td>17052889</td>\n",
       "      <td>0.055619</td>\n",
       "      <td>2017-01-01</td>\n",
       "      <td>NaN</td>\n",
       "      <td>NaN</td>\n",
       "      <td>NaN</td>\n",
       "      <td>NaN</td>\n",
       "      <td>Single Family Residential</td>\n",
       "      <td>NaN</td>\n",
       "      <td>NaN</td>\n",
       "    </tr>\n",
       "    <tr>\n",
       "      <th>2</th>\n",
       "      <td>NaN</td>\n",
       "      <td>NaN</td>\n",
       "      <td>261.0</td>\n",
       "      <td>NaN</td>\n",
       "      <td>NaN</td>\n",
       "      <td>NaN</td>\n",
       "      <td>NaN</td>\n",
       "      <td>14186244</td>\n",
       "      <td>11677</td>\n",
       "      <td>NaN</td>\n",
       "      <td>...</td>\n",
       "      <td>14186244</td>\n",
       "      <td>0.005383</td>\n",
       "      <td>2017-01-01</td>\n",
       "      <td>NaN</td>\n",
       "      <td>NaN</td>\n",
       "      <td>NaN</td>\n",
       "      <td>NaN</td>\n",
       "      <td>Single Family Residential</td>\n",
       "      <td>NaN</td>\n",
       "      <td>NaN</td>\n",
       "    </tr>\n",
       "    <tr>\n",
       "      <th>3</th>\n",
       "      <td>NaN</td>\n",
       "      <td>NaN</td>\n",
       "      <td>261.0</td>\n",
       "      <td>2.0</td>\n",
       "      <td>NaN</td>\n",
       "      <td>NaN</td>\n",
       "      <td>NaN</td>\n",
       "      <td>12177905</td>\n",
       "      <td>2288172</td>\n",
       "      <td>NaN</td>\n",
       "      <td>...</td>\n",
       "      <td>12177905</td>\n",
       "      <td>-0.103410</td>\n",
       "      <td>2017-01-01</td>\n",
       "      <td>NaN</td>\n",
       "      <td>NaN</td>\n",
       "      <td>NaN</td>\n",
       "      <td>Central</td>\n",
       "      <td>Single Family Residential</td>\n",
       "      <td>NaN</td>\n",
       "      <td>NaN</td>\n",
       "    </tr>\n",
       "    <tr>\n",
       "      <th>4</th>\n",
       "      <td>NaN</td>\n",
       "      <td>NaN</td>\n",
       "      <td>261.0</td>\n",
       "      <td>2.0</td>\n",
       "      <td>NaN</td>\n",
       "      <td>NaN</td>\n",
       "      <td>1.0</td>\n",
       "      <td>12095076</td>\n",
       "      <td>781532</td>\n",
       "      <td>NaN</td>\n",
       "      <td>...</td>\n",
       "      <td>12095076</td>\n",
       "      <td>-0.001011</td>\n",
       "      <td>2017-01-01</td>\n",
       "      <td>Central</td>\n",
       "      <td>NaN</td>\n",
       "      <td>NaN</td>\n",
       "      <td>Central</td>\n",
       "      <td>Single Family Residential</td>\n",
       "      <td>NaN</td>\n",
       "      <td>NaN</td>\n",
       "    </tr>\n",
       "    <tr>\n",
       "      <th>...</th>\n",
       "      <td>...</td>\n",
       "      <td>...</td>\n",
       "      <td>...</td>\n",
       "      <td>...</td>\n",
       "      <td>...</td>\n",
       "      <td>...</td>\n",
       "      <td>...</td>\n",
       "      <td>...</td>\n",
       "      <td>...</td>\n",
       "      <td>...</td>\n",
       "      <td>...</td>\n",
       "      <td>...</td>\n",
       "      <td>...</td>\n",
       "      <td>...</td>\n",
       "      <td>...</td>\n",
       "      <td>...</td>\n",
       "      <td>...</td>\n",
       "      <td>...</td>\n",
       "      <td>...</td>\n",
       "      <td>...</td>\n",
       "      <td>...</td>\n",
       "    </tr>\n",
       "    <tr>\n",
       "      <th>52314</th>\n",
       "      <td>NaN</td>\n",
       "      <td>NaN</td>\n",
       "      <td>261.0</td>\n",
       "      <td>2.0</td>\n",
       "      <td>NaN</td>\n",
       "      <td>NaN</td>\n",
       "      <td>NaN</td>\n",
       "      <td>12412492</td>\n",
       "      <td>2274245</td>\n",
       "      <td>NaN</td>\n",
       "      <td>...</td>\n",
       "      <td>12412492</td>\n",
       "      <td>0.001082</td>\n",
       "      <td>2017-09-19</td>\n",
       "      <td>NaN</td>\n",
       "      <td>NaN</td>\n",
       "      <td>NaN</td>\n",
       "      <td>Central</td>\n",
       "      <td>Single Family Residential</td>\n",
       "      <td>NaN</td>\n",
       "      <td>NaN</td>\n",
       "    </tr>\n",
       "    <tr>\n",
       "      <th>52315</th>\n",
       "      <td>NaN</td>\n",
       "      <td>NaN</td>\n",
       "      <td>261.0</td>\n",
       "      <td>2.0</td>\n",
       "      <td>NaN</td>\n",
       "      <td>NaN</td>\n",
       "      <td>NaN</td>\n",
       "      <td>11000655</td>\n",
       "      <td>673515</td>\n",
       "      <td>NaN</td>\n",
       "      <td>...</td>\n",
       "      <td>11000655</td>\n",
       "      <td>0.020615</td>\n",
       "      <td>2017-09-20</td>\n",
       "      <td>NaN</td>\n",
       "      <td>NaN</td>\n",
       "      <td>NaN</td>\n",
       "      <td>Central</td>\n",
       "      <td>Single Family Residential</td>\n",
       "      <td>NaN</td>\n",
       "      <td>NaN</td>\n",
       "    </tr>\n",
       "    <tr>\n",
       "      <th>52316</th>\n",
       "      <td>NaN</td>\n",
       "      <td>NaN</td>\n",
       "      <td>261.0</td>\n",
       "      <td>NaN</td>\n",
       "      <td>NaN</td>\n",
       "      <td>NaN</td>\n",
       "      <td>NaN</td>\n",
       "      <td>17239384</td>\n",
       "      <td>2968375</td>\n",
       "      <td>NaN</td>\n",
       "      <td>...</td>\n",
       "      <td>17239384</td>\n",
       "      <td>0.013209</td>\n",
       "      <td>2017-09-21</td>\n",
       "      <td>NaN</td>\n",
       "      <td>NaN</td>\n",
       "      <td>NaN</td>\n",
       "      <td>NaN</td>\n",
       "      <td>Single Family Residential</td>\n",
       "      <td>NaN</td>\n",
       "      <td>NaN</td>\n",
       "    </tr>\n",
       "    <tr>\n",
       "      <th>52317</th>\n",
       "      <td>NaN</td>\n",
       "      <td>NaN</td>\n",
       "      <td>261.0</td>\n",
       "      <td>2.0</td>\n",
       "      <td>NaN</td>\n",
       "      <td>NaN</td>\n",
       "      <td>1.0</td>\n",
       "      <td>12773139</td>\n",
       "      <td>1843709</td>\n",
       "      <td>NaN</td>\n",
       "      <td>...</td>\n",
       "      <td>12773139</td>\n",
       "      <td>0.037129</td>\n",
       "      <td>2017-09-21</td>\n",
       "      <td>Central</td>\n",
       "      <td>NaN</td>\n",
       "      <td>NaN</td>\n",
       "      <td>Central</td>\n",
       "      <td>Single Family Residential</td>\n",
       "      <td>NaN</td>\n",
       "      <td>NaN</td>\n",
       "    </tr>\n",
       "    <tr>\n",
       "      <th>52318</th>\n",
       "      <td>NaN</td>\n",
       "      <td>NaN</td>\n",
       "      <td>261.0</td>\n",
       "      <td>2.0</td>\n",
       "      <td>NaN</td>\n",
       "      <td>NaN</td>\n",
       "      <td>NaN</td>\n",
       "      <td>12826780</td>\n",
       "      <td>1187175</td>\n",
       "      <td>NaN</td>\n",
       "      <td>...</td>\n",
       "      <td>12826780</td>\n",
       "      <td>0.007204</td>\n",
       "      <td>2017-09-25</td>\n",
       "      <td>NaN</td>\n",
       "      <td>NaN</td>\n",
       "      <td>NaN</td>\n",
       "      <td>Central</td>\n",
       "      <td>Single Family Residential</td>\n",
       "      <td>NaN</td>\n",
       "      <td>NaN</td>\n",
       "    </tr>\n",
       "  </tbody>\n",
       "</table>\n",
       "<p>52319 rows × 71 columns</p>\n",
       "</div>"
      ],
      "text/plain": [
       "       typeconstructiontypeid  storytypeid  propertylandusetypeid  \\\n",
       "0                         NaN          NaN                  261.0   \n",
       "1                         NaN          NaN                  261.0   \n",
       "2                         NaN          NaN                  261.0   \n",
       "3                         NaN          NaN                  261.0   \n",
       "4                         NaN          NaN                  261.0   \n",
       "...                       ...          ...                    ...   \n",
       "52314                     NaN          NaN                  261.0   \n",
       "52315                     NaN          NaN                  261.0   \n",
       "52316                     NaN          NaN                  261.0   \n",
       "52317                     NaN          NaN                  261.0   \n",
       "52318                     NaN          NaN                  261.0   \n",
       "\n",
       "       heatingorsystemtypeid  buildingclasstypeid  architecturalstyletypeid  \\\n",
       "0                        NaN                  NaN                       NaN   \n",
       "1                        NaN                  NaN                       NaN   \n",
       "2                        NaN                  NaN                       NaN   \n",
       "3                        2.0                  NaN                       NaN   \n",
       "4                        2.0                  NaN                       NaN   \n",
       "...                      ...                  ...                       ...   \n",
       "52314                    2.0                  NaN                       NaN   \n",
       "52315                    2.0                  NaN                       NaN   \n",
       "52316                    NaN                  NaN                       NaN   \n",
       "52317                    2.0                  NaN                       NaN   \n",
       "52318                    2.0                  NaN                       NaN   \n",
       "\n",
       "       airconditioningtypeid  parcelid       id  basementsqft  ...  \\\n",
       "0                        NaN  14297519  1727539           NaN  ...   \n",
       "1                        NaN  17052889  1387261           NaN  ...   \n",
       "2                        NaN  14186244    11677           NaN  ...   \n",
       "3                        NaN  12177905  2288172           NaN  ...   \n",
       "4                        1.0  12095076   781532           NaN  ...   \n",
       "...                      ...       ...      ...           ...  ...   \n",
       "52314                    NaN  12412492  2274245           NaN  ...   \n",
       "52315                    NaN  11000655   673515           NaN  ...   \n",
       "52316                    NaN  17239384  2968375           NaN  ...   \n",
       "52317                    1.0  12773139  1843709           NaN  ...   \n",
       "52318                    NaN  12826780  1187175           NaN  ...   \n",
       "\n",
       "       parcelid.1  logerror  transactiondate  airconditioningdesc  \\\n",
       "0        14297519  0.025595       2017-01-01                  NaN   \n",
       "1        17052889  0.055619       2017-01-01                  NaN   \n",
       "2        14186244  0.005383       2017-01-01                  NaN   \n",
       "3        12177905 -0.103410       2017-01-01                  NaN   \n",
       "4        12095076 -0.001011       2017-01-01              Central   \n",
       "...           ...       ...              ...                  ...   \n",
       "52314    12412492  0.001082       2017-09-19                  NaN   \n",
       "52315    11000655  0.020615       2017-09-20                  NaN   \n",
       "52316    17239384  0.013209       2017-09-21                  NaN   \n",
       "52317    12773139  0.037129       2017-09-21              Central   \n",
       "52318    12826780  0.007204       2017-09-25                  NaN   \n",
       "\n",
       "       architecturalstyledesc  buildingclassdesc  heatingorsystemdesc  \\\n",
       "0                         NaN                NaN                  NaN   \n",
       "1                         NaN                NaN                  NaN   \n",
       "2                         NaN                NaN                  NaN   \n",
       "3                         NaN                NaN              Central   \n",
       "4                         NaN                NaN              Central   \n",
       "...                       ...                ...                  ...   \n",
       "52314                     NaN                NaN              Central   \n",
       "52315                     NaN                NaN              Central   \n",
       "52316                     NaN                NaN                  NaN   \n",
       "52317                     NaN                NaN              Central   \n",
       "52318                     NaN                NaN              Central   \n",
       "\n",
       "             propertylandusedesc  storydesc  typeconstructiondesc  \n",
       "0      Single Family Residential        NaN                   NaN  \n",
       "1      Single Family Residential        NaN                   NaN  \n",
       "2      Single Family Residential        NaN                   NaN  \n",
       "3      Single Family Residential        NaN                   NaN  \n",
       "4      Single Family Residential        NaN                   NaN  \n",
       "...                          ...        ...                   ...  \n",
       "52314  Single Family Residential        NaN                   NaN  \n",
       "52315  Single Family Residential        NaN                   NaN  \n",
       "52316  Single Family Residential        NaN                   NaN  \n",
       "52317  Single Family Residential        NaN                   NaN  \n",
       "52318  Single Family Residential        NaN                   NaN  \n",
       "\n",
       "[52319 rows x 71 columns]"
      ]
     },
     "execution_count": 4,
     "metadata": {},
     "output_type": "execute_result"
    }
   ],
   "source": [
    "df"
   ]
  },
  {
   "cell_type": "code",
   "execution_count": 5,
   "metadata": {},
   "outputs": [
    {
     "name": "stdout",
     "output_type": "stream",
     "text": [
      "Metric           Value\n",
      "----------  ----------\n",
      "Median      0.00693478\n",
      "Mean        0.0181355\n",
      "Difference  0.0112007\n"
     ]
    }
   ],
   "source": [
    "#statistic_table(df)\n",
    "#calculating median of property values \n",
    "median = df.logerror.median() \n",
    "\n",
    "#calculating mean of property values \n",
    "mean = df.logerror.mean()\n",
    "\n",
    "# difference between mean and median \n",
    "difference = mean - median\n",
    "\n",
    "#provides data for table\n",
    "stats = [[\"Median\", median], \n",
    "    [\"Mean\", mean],\n",
    "    [\"Difference\", difference]]\n",
    "        \n",
    "#define header names\n",
    "col_names = [\"Metric\", \"Value\"]\n",
    "  \n",
    "#display table\n",
    "print(tabulate(stats, headers=col_names))"
   ]
  },
  {
   "cell_type": "code",
   "execution_count": 6,
   "metadata": {},
   "outputs": [
    {
     "data": {
      "text/plain": [
       "[['Median', 0.00693477898541],\n",
       " ['Mean', 0.018135509392008628],\n",
       " ['Difference', 0.011200730406598629]]"
      ]
     },
     "execution_count": 6,
     "metadata": {},
     "output_type": "execute_result"
    }
   ],
   "source": [
    "stats"
   ]
  },
  {
   "cell_type": "code",
   "execution_count": 7,
   "metadata": {},
   "outputs": [
    {
     "data": {
      "text/plain": [
       "<bound method DataFrame.info of        typeconstructiontypeid  storytypeid  propertylandusetypeid  \\\n",
       "0                         NaN          NaN                  261.0   \n",
       "1                         NaN          NaN                  261.0   \n",
       "2                         NaN          NaN                  261.0   \n",
       "3                         NaN          NaN                  261.0   \n",
       "4                         NaN          NaN                  261.0   \n",
       "...                       ...          ...                    ...   \n",
       "52314                     NaN          NaN                  261.0   \n",
       "52315                     NaN          NaN                  261.0   \n",
       "52316                     NaN          NaN                  261.0   \n",
       "52317                     NaN          NaN                  261.0   \n",
       "52318                     NaN          NaN                  261.0   \n",
       "\n",
       "       heatingorsystemtypeid  buildingclasstypeid  architecturalstyletypeid  \\\n",
       "0                        NaN                  NaN                       NaN   \n",
       "1                        NaN                  NaN                       NaN   \n",
       "2                        NaN                  NaN                       NaN   \n",
       "3                        2.0                  NaN                       NaN   \n",
       "4                        2.0                  NaN                       NaN   \n",
       "...                      ...                  ...                       ...   \n",
       "52314                    2.0                  NaN                       NaN   \n",
       "52315                    2.0                  NaN                       NaN   \n",
       "52316                    NaN                  NaN                       NaN   \n",
       "52317                    2.0                  NaN                       NaN   \n",
       "52318                    2.0                  NaN                       NaN   \n",
       "\n",
       "       airconditioningtypeid  parcelid       id  basementsqft  ...  \\\n",
       "0                        NaN  14297519  1727539           NaN  ...   \n",
       "1                        NaN  17052889  1387261           NaN  ...   \n",
       "2                        NaN  14186244    11677           NaN  ...   \n",
       "3                        NaN  12177905  2288172           NaN  ...   \n",
       "4                        1.0  12095076   781532           NaN  ...   \n",
       "...                      ...       ...      ...           ...  ...   \n",
       "52314                    NaN  12412492  2274245           NaN  ...   \n",
       "52315                    NaN  11000655   673515           NaN  ...   \n",
       "52316                    NaN  17239384  2968375           NaN  ...   \n",
       "52317                    1.0  12773139  1843709           NaN  ...   \n",
       "52318                    NaN  12826780  1187175           NaN  ...   \n",
       "\n",
       "       parcelid.1  logerror  transactiondate  airconditioningdesc  \\\n",
       "0        14297519  0.025595       2017-01-01                  NaN   \n",
       "1        17052889  0.055619       2017-01-01                  NaN   \n",
       "2        14186244  0.005383       2017-01-01                  NaN   \n",
       "3        12177905 -0.103410       2017-01-01                  NaN   \n",
       "4        12095076 -0.001011       2017-01-01              Central   \n",
       "...           ...       ...              ...                  ...   \n",
       "52314    12412492  0.001082       2017-09-19                  NaN   \n",
       "52315    11000655  0.020615       2017-09-20                  NaN   \n",
       "52316    17239384  0.013209       2017-09-21                  NaN   \n",
       "52317    12773139  0.037129       2017-09-21              Central   \n",
       "52318    12826780  0.007204       2017-09-25                  NaN   \n",
       "\n",
       "       architecturalstyledesc  buildingclassdesc  heatingorsystemdesc  \\\n",
       "0                         NaN                NaN                  NaN   \n",
       "1                         NaN                NaN                  NaN   \n",
       "2                         NaN                NaN                  NaN   \n",
       "3                         NaN                NaN              Central   \n",
       "4                         NaN                NaN              Central   \n",
       "...                       ...                ...                  ...   \n",
       "52314                     NaN                NaN              Central   \n",
       "52315                     NaN                NaN              Central   \n",
       "52316                     NaN                NaN                  NaN   \n",
       "52317                     NaN                NaN              Central   \n",
       "52318                     NaN                NaN              Central   \n",
       "\n",
       "             propertylandusedesc  storydesc  typeconstructiondesc  \n",
       "0      Single Family Residential        NaN                   NaN  \n",
       "1      Single Family Residential        NaN                   NaN  \n",
       "2      Single Family Residential        NaN                   NaN  \n",
       "3      Single Family Residential        NaN                   NaN  \n",
       "4      Single Family Residential        NaN                   NaN  \n",
       "...                          ...        ...                   ...  \n",
       "52314  Single Family Residential        NaN                   NaN  \n",
       "52315  Single Family Residential        NaN                   NaN  \n",
       "52316  Single Family Residential        NaN                   NaN  \n",
       "52317  Single Family Residential        NaN                   NaN  \n",
       "52318  Single Family Residential        NaN                   NaN  \n",
       "\n",
       "[52319 rows x 71 columns]>"
      ]
     },
     "execution_count": 7,
     "metadata": {},
     "output_type": "execute_result"
    }
   ],
   "source": [
    "df.info\n"
   ]
  },
  {
   "cell_type": "code",
   "execution_count": 8,
   "metadata": {},
   "outputs": [
    {
     "data": {
      "text/plain": [
       "<AxesSubplot:xlabel='logerror', ylabel='Count'>"
      ]
     },
     "execution_count": 8,
     "metadata": {},
     "output_type": "execute_result"
    },
    {
     "data": {
      "image/png": "[encoded data removed]",
      "text/plain": [
       "<Figure size 432x288 with 1 Axes>"
      ]
     },
     "metadata": {
      "needs_background": "light"
     },
     "output_type": "display_data"
    }
   ],
   "source": [
    "  sns.histplot(data=df, x=\"logerror\")"
   ]
  },
  {
   "cell_type": "code",
   "execution_count": 9,
   "metadata": {},
   "outputs": [],
   "source": [
    "def bar_chart(data,x,y):\n",
    "    #Bar chart of Log Error\n",
    "    plt.title(\"Fips and Logerror\")\n",
    "    sns.barplot(x=\"fips\", y=\"logerror\", data=train)\n",
    "    mean_logerror = train.logerror.mean()\n",
    "    plt.axhline(mean_logerror, label=\"Logerror\", color='red', linestyle='dotted')\n",
    "    plt.xlabel('')\n",
    "    plt.legend()\n",
    "    plt.show()"
   ]
  },
  {
   "cell_type": "code",
   "execution_count": 11,
   "metadata": {},
   "outputs": [],
   "source": [
    "columns = ['buildingqualitytypeid','heatingorsystemdesc','heatingorsystemtypeid','unitcnt','propertyzoningdesc','propertylandusedesc','parcelid.1','id.1','censustractandblock']"
   ]
  },
  {
   "cell_type": "code",
   "execution_count": 12,
   "metadata": {},
   "outputs": [],
   "source": [
    "#using handle missing values function\n",
    "df = w.data_prep(df,columns)"
   ]
  },
  {
   "cell_type": "code",
   "execution_count": 13,
   "metadata": {},
   "outputs": [
    {
     "name": "stdout",
     "output_type": "stream",
     "text": [
      "<class 'pandas.core.frame.DataFrame'>\n",
      "Int64Index: 50604 entries, 0 to 52318\n",
      "Data columns (total 28 columns):\n",
      " #   Column                      Non-Null Count  Dtype  \n",
      "---  ------                      --------------  -----  \n",
      " 0   propertylandusetypeid       50604 non-null  float64\n",
      " 1   parcelid                    50604 non-null  int64  \n",
      " 2   id                          50604 non-null  int64  \n",
      " 3   baths                       50604 non-null  float64\n",
      " 4   beds                        50604 non-null  float64\n",
      " 5   calculatedbathnbr           50604 non-null  float64\n",
      " 6   sqft                        50604 non-null  float64\n",
      " 7   finishedsquarefeet12        50604 non-null  float64\n",
      " 8   fips                        50604 non-null  float64\n",
      " 9   fullbathcnt                 50604 non-null  float64\n",
      " 10  latitude                    50604 non-null  float64\n",
      " 11  longitude                   50604 non-null  float64\n",
      " 12  lotsizesquarefeet           50604 non-null  float64\n",
      " 13  propertycountylandusecode   50604 non-null  object \n",
      " 14  rawcensustractandblock      50604 non-null  float64\n",
      " 15  regionidcity                50604 non-null  float64\n",
      " 16  regionidcounty              50604 non-null  float64\n",
      " 17  regionidzip                 50604 non-null  float64\n",
      " 18  total_rooms                 50604 non-null  float64\n",
      " 19  age                         50604 non-null  float64\n",
      " 20  structuretaxvaluedollarcnt  50604 non-null  float64\n",
      " 21  property_value              50604 non-null  float64\n",
      " 22  assessmentyear              50604 non-null  float64\n",
      " 23  landtaxvaluedollarcnt       50604 non-null  float64\n",
      " 24  taxamount                   50604 non-null  float64\n",
      " 25  max_transactiondate         50604 non-null  object \n",
      " 26  logerror                    50604 non-null  float64\n",
      " 27  transactiondate             50604 non-null  object \n",
      "dtypes: float64(23), int64(2), object(3)\n",
      "memory usage: 11.2+ MB\n"
     ]
    }
   ],
   "source": [
    "df.info()"
   ]
  },
  {
   "cell_type": "markdown",
   "metadata": {},
   "source": []
  },
  {
   "cell_type": "code",
   "execution_count": 14,
   "metadata": {},
   "outputs": [
    {
     "name": "stderr",
     "output_type": "stream",
     "text": [
      "/Users/allantestaten/codeup-data-science/clustering-exercises/clustering-project/wrangle_zillow.py:75: SettingWithCopyWarning: \n",
      "A value is trying to be set on a copy of a slice from a DataFrame\n",
      "\n",
      "See the caveats in the documentation: https://pandas.pydata.org/pandas-docs/stable/user_guide/indexing.html#returning-a-view-versus-a-copy\n",
      "  df.orange_county[df.location == 1] = 1\n",
      "/Users/allantestaten/codeup-data-science/clustering-exercises/clustering-project/wrangle_zillow.py:76: SettingWithCopyWarning: \n",
      "A value is trying to be set on a copy of a slice from a DataFrame\n",
      "\n",
      "See the caveats in the documentation: https://pandas.pydata.org/pandas-docs/stable/user_guide/indexing.html#returning-a-view-versus-a-copy\n",
      "  df.ventura[df.location == 2] = 1\n",
      "/Users/allantestaten/codeup-data-science/clustering-exercises/clustering-project/wrangle_zillow.py:77: SettingWithCopyWarning: \n",
      "A value is trying to be set on a copy of a slice from a DataFrame\n",
      "\n",
      "See the caveats in the documentation: https://pandas.pydata.org/pandas-docs/stable/user_guide/indexing.html#returning-a-view-versus-a-copy\n",
      "  df.losangeles[df.location == 0] = 1\n"
     ]
    }
   ],
   "source": [
    "df = w.prepare_zillow(df)"
   ]
  },
  {
   "cell_type": "code",
   "execution_count": 15,
   "metadata": {},
   "outputs": [
    {
     "name": "stdout",
     "output_type": "stream",
     "text": [
      "<class 'pandas.core.frame.DataFrame'>\n",
      "Int64Index: 50604 entries, 0 to 52318\n",
      "Data columns (total 32 columns):\n",
      " #   Column                      Non-Null Count  Dtype  \n",
      "---  ------                      --------------  -----  \n",
      " 0   propertylandusetypeid       50604 non-null  float64\n",
      " 1   parcelid                    50604 non-null  int64  \n",
      " 2   id                          50604 non-null  int64  \n",
      " 3   baths                       50604 non-null  float64\n",
      " 4   beds                        50604 non-null  float64\n",
      " 5   calculatedbathnbr           50604 non-null  float64\n",
      " 6   sqft                        50604 non-null  float64\n",
      " 7   finishedsquarefeet12        50604 non-null  float64\n",
      " 8   fips                        50604 non-null  object \n",
      " 9   fullbathcnt                 50604 non-null  float64\n",
      " 10  latitude                    50604 non-null  float64\n",
      " 11  longitude                   50604 non-null  float64\n",
      " 12  lotsizesquarefeet           50604 non-null  float64\n",
      " 13  propertycountylandusecode   50604 non-null  object \n",
      " 14  rawcensustractandblock      50604 non-null  float64\n",
      " 15  regionidcity                50604 non-null  float64\n",
      " 16  regionidcounty              50604 non-null  float64\n",
      " 17  regionidzip                 50604 non-null  float64\n",
      " 18  total_rooms                 50604 non-null  float64\n",
      " 19  age                         50604 non-null  float64\n",
      " 20  structuretaxvaluedollarcnt  50604 non-null  float64\n",
      " 21  property_value              50604 non-null  float64\n",
      " 22  assessmentyear              50604 non-null  float64\n",
      " 23  landtaxvaluedollarcnt       50604 non-null  float64\n",
      " 24  taxamount                   50604 non-null  float64\n",
      " 25  max_transactiondate         50604 non-null  object \n",
      " 26  logerror                    50604 non-null  float64\n",
      " 27  transactiondate             50604 non-null  object \n",
      " 28  location                    50604 non-null  int64  \n",
      " 29  orange_county               50604 non-null  int64  \n",
      " 30  ventura                     50604 non-null  int64  \n",
      " 31  losangeles                  50604 non-null  int64  \n",
      "dtypes: float64(22), int64(6), object(4)\n",
      "memory usage: 12.7+ MB\n"
     ]
    }
   ],
   "source": [
    "df.info()"
   ]
  },
  {
   "cell_type": "code",
   "execution_count": 16,
   "metadata": {},
   "outputs": [],
   "source": [
    "train, validate, test = w.wrangle_zillow(df)"
   ]
  },
  {
   "cell_type": "code",
   "execution_count": 17,
   "metadata": {},
   "outputs": [
    {
     "data": {
      "text/html": [
       "<div>\n",
       "<style scoped>\n",
       "    .dataframe tbody tr th:only-of-type {\n",
       "        vertical-align: middle;\n",
       "    }\n",
       "\n",
       "    .dataframe tbody tr th {\n",
       "        vertical-align: top;\n",
       "    }\n",
       "\n",
       "    .dataframe thead th {\n",
       "        text-align: right;\n",
       "    }\n",
       "</style>\n",
       "<table border=\"1\" class=\"dataframe\">\n",
       "  <thead>\n",
       "    <tr style=\"text-align: right;\">\n",
       "      <th></th>\n",
       "      <th>propertylandusetypeid</th>\n",
       "      <th>parcelid</th>\n",
       "      <th>id</th>\n",
       "      <th>baths</th>\n",
       "      <th>beds</th>\n",
       "      <th>calculatedbathnbr</th>\n",
       "      <th>sqft</th>\n",
       "      <th>finishedsquarefeet12</th>\n",
       "      <th>fips</th>\n",
       "      <th>fullbathcnt</th>\n",
       "      <th>...</th>\n",
       "      <th>assessmentyear</th>\n",
       "      <th>landtaxvaluedollarcnt</th>\n",
       "      <th>taxamount</th>\n",
       "      <th>max_transactiondate</th>\n",
       "      <th>logerror</th>\n",
       "      <th>transactiondate</th>\n",
       "      <th>location</th>\n",
       "      <th>orange_county</th>\n",
       "      <th>ventura</th>\n",
       "      <th>losangeles</th>\n",
       "    </tr>\n",
       "  </thead>\n",
       "  <tbody>\n",
       "    <tr>\n",
       "      <th>13535</th>\n",
       "      <td>261.0</td>\n",
       "      <td>12397906</td>\n",
       "      <td>66906</td>\n",
       "      <td>1.0</td>\n",
       "      <td>2.0</td>\n",
       "      <td>1.0</td>\n",
       "      <td>872.0</td>\n",
       "      <td>872.0</td>\n",
       "      <td>Los Angeles CA</td>\n",
       "      <td>1.0</td>\n",
       "      <td>...</td>\n",
       "      <td>2016.0</td>\n",
       "      <td>266297.0</td>\n",
       "      <td>4357.93</td>\n",
       "      <td>2017-03-24</td>\n",
       "      <td>0.026998</td>\n",
       "      <td>2017-03-24</td>\n",
       "      <td>0</td>\n",
       "      <td>0</td>\n",
       "      <td>0</td>\n",
       "      <td>1</td>\n",
       "    </tr>\n",
       "    <tr>\n",
       "      <th>30453</th>\n",
       "      <td>261.0</td>\n",
       "      <td>14380619</td>\n",
       "      <td>2800936</td>\n",
       "      <td>3.0</td>\n",
       "      <td>3.0</td>\n",
       "      <td>3.0</td>\n",
       "      <td>2260.0</td>\n",
       "      <td>2260.0</td>\n",
       "      <td>Orange County CA</td>\n",
       "      <td>3.0</td>\n",
       "      <td>...</td>\n",
       "      <td>2016.0</td>\n",
       "      <td>142053.0</td>\n",
       "      <td>3515.14</td>\n",
       "      <td>2017-06-09</td>\n",
       "      <td>0.037181</td>\n",
       "      <td>2017-06-09</td>\n",
       "      <td>1</td>\n",
       "      <td>1</td>\n",
       "      <td>0</td>\n",
       "      <td>0</td>\n",
       "    </tr>\n",
       "    <tr>\n",
       "      <th>13337</th>\n",
       "      <td>261.0</td>\n",
       "      <td>12902896</td>\n",
       "      <td>1127949</td>\n",
       "      <td>2.0</td>\n",
       "      <td>3.0</td>\n",
       "      <td>2.0</td>\n",
       "      <td>1091.0</td>\n",
       "      <td>1091.0</td>\n",
       "      <td>Los Angeles CA</td>\n",
       "      <td>2.0</td>\n",
       "      <td>...</td>\n",
       "      <td>2016.0</td>\n",
       "      <td>50642.0</td>\n",
       "      <td>1893.90</td>\n",
       "      <td>2017-03-24</td>\n",
       "      <td>0.019205</td>\n",
       "      <td>2017-03-24</td>\n",
       "      <td>0</td>\n",
       "      <td>0</td>\n",
       "      <td>0</td>\n",
       "      <td>1</td>\n",
       "    </tr>\n",
       "    <tr>\n",
       "      <th>7660</th>\n",
       "      <td>261.0</td>\n",
       "      <td>11568321</td>\n",
       "      <td>2658421</td>\n",
       "      <td>6.0</td>\n",
       "      <td>5.0</td>\n",
       "      <td>6.0</td>\n",
       "      <td>4783.0</td>\n",
       "      <td>4783.0</td>\n",
       "      <td>Los Angeles CA</td>\n",
       "      <td>6.0</td>\n",
       "      <td>...</td>\n",
       "      <td>2016.0</td>\n",
       "      <td>2288518.0</td>\n",
       "      <td>47785.18</td>\n",
       "      <td>2017-02-22</td>\n",
       "      <td>0.037875</td>\n",
       "      <td>2017-02-22</td>\n",
       "      <td>0</td>\n",
       "      <td>0</td>\n",
       "      <td>0</td>\n",
       "      <td>1</td>\n",
       "    </tr>\n",
       "    <tr>\n",
       "      <th>34175</th>\n",
       "      <td>261.0</td>\n",
       "      <td>13100555</td>\n",
       "      <td>1758804</td>\n",
       "      <td>5.0</td>\n",
       "      <td>5.0</td>\n",
       "      <td>5.0</td>\n",
       "      <td>4425.0</td>\n",
       "      <td>4425.0</td>\n",
       "      <td>Los Angeles CA</td>\n",
       "      <td>5.0</td>\n",
       "      <td>...</td>\n",
       "      <td>2016.0</td>\n",
       "      <td>540465.0</td>\n",
       "      <td>14379.50</td>\n",
       "      <td>2017-06-27</td>\n",
       "      <td>0.002652</td>\n",
       "      <td>2017-06-27</td>\n",
       "      <td>0</td>\n",
       "      <td>0</td>\n",
       "      <td>0</td>\n",
       "      <td>1</td>\n",
       "    </tr>\n",
       "    <tr>\n",
       "      <th>...</th>\n",
       "      <td>...</td>\n",
       "      <td>...</td>\n",
       "      <td>...</td>\n",
       "      <td>...</td>\n",
       "      <td>...</td>\n",
       "      <td>...</td>\n",
       "      <td>...</td>\n",
       "      <td>...</td>\n",
       "      <td>...</td>\n",
       "      <td>...</td>\n",
       "      <td>...</td>\n",
       "      <td>...</td>\n",
       "      <td>...</td>\n",
       "      <td>...</td>\n",
       "      <td>...</td>\n",
       "      <td>...</td>\n",
       "      <td>...</td>\n",
       "      <td>...</td>\n",
       "      <td>...</td>\n",
       "      <td>...</td>\n",
       "      <td>...</td>\n",
       "    </tr>\n",
       "    <tr>\n",
       "      <th>38066</th>\n",
       "      <td>261.0</td>\n",
       "      <td>14238880</td>\n",
       "      <td>638264</td>\n",
       "      <td>2.0</td>\n",
       "      <td>3.0</td>\n",
       "      <td>2.0</td>\n",
       "      <td>1611.0</td>\n",
       "      <td>1611.0</td>\n",
       "      <td>Orange County CA</td>\n",
       "      <td>2.0</td>\n",
       "      <td>...</td>\n",
       "      <td>2016.0</td>\n",
       "      <td>548239.0</td>\n",
       "      <td>7041.04</td>\n",
       "      <td>2017-07-12</td>\n",
       "      <td>-0.006377</td>\n",
       "      <td>2017-07-12</td>\n",
       "      <td>1</td>\n",
       "      <td>1</td>\n",
       "      <td>0</td>\n",
       "      <td>0</td>\n",
       "    </tr>\n",
       "    <tr>\n",
       "      <th>48425</th>\n",
       "      <td>261.0</td>\n",
       "      <td>12438510</td>\n",
       "      <td>2110521</td>\n",
       "      <td>3.0</td>\n",
       "      <td>5.0</td>\n",
       "      <td>3.0</td>\n",
       "      <td>2652.0</td>\n",
       "      <td>2652.0</td>\n",
       "      <td>Los Angeles CA</td>\n",
       "      <td>3.0</td>\n",
       "      <td>...</td>\n",
       "      <td>2016.0</td>\n",
       "      <td>414596.0</td>\n",
       "      <td>9365.87</td>\n",
       "      <td>2017-08-30</td>\n",
       "      <td>-0.008494</td>\n",
       "      <td>2017-08-30</td>\n",
       "      <td>0</td>\n",
       "      <td>0</td>\n",
       "      <td>0</td>\n",
       "      <td>1</td>\n",
       "    </tr>\n",
       "    <tr>\n",
       "      <th>19647</th>\n",
       "      <td>261.0</td>\n",
       "      <td>11508139</td>\n",
       "      <td>2077101</td>\n",
       "      <td>2.0</td>\n",
       "      <td>3.0</td>\n",
       "      <td>2.0</td>\n",
       "      <td>1962.0</td>\n",
       "      <td>1962.0</td>\n",
       "      <td>Los Angeles CA</td>\n",
       "      <td>2.0</td>\n",
       "      <td>...</td>\n",
       "      <td>2016.0</td>\n",
       "      <td>276422.0</td>\n",
       "      <td>4630.60</td>\n",
       "      <td>2017-04-25</td>\n",
       "      <td>0.680864</td>\n",
       "      <td>2017-04-25</td>\n",
       "      <td>0</td>\n",
       "      <td>0</td>\n",
       "      <td>0</td>\n",
       "      <td>1</td>\n",
       "    </tr>\n",
       "    <tr>\n",
       "      <th>21717</th>\n",
       "      <td>261.0</td>\n",
       "      <td>14314819</td>\n",
       "      <td>161303</td>\n",
       "      <td>2.0</td>\n",
       "      <td>3.0</td>\n",
       "      <td>2.0</td>\n",
       "      <td>1714.0</td>\n",
       "      <td>1714.0</td>\n",
       "      <td>Orange County CA</td>\n",
       "      <td>2.0</td>\n",
       "      <td>...</td>\n",
       "      <td>2016.0</td>\n",
       "      <td>271335.0</td>\n",
       "      <td>4590.46</td>\n",
       "      <td>2017-05-03</td>\n",
       "      <td>0.038707</td>\n",
       "      <td>2017-05-03</td>\n",
       "      <td>1</td>\n",
       "      <td>1</td>\n",
       "      <td>0</td>\n",
       "      <td>0</td>\n",
       "    </tr>\n",
       "    <tr>\n",
       "      <th>14227</th>\n",
       "      <td>261.0</td>\n",
       "      <td>17165634</td>\n",
       "      <td>2804111</td>\n",
       "      <td>2.0</td>\n",
       "      <td>6.0</td>\n",
       "      <td>2.0</td>\n",
       "      <td>2526.0</td>\n",
       "      <td>2526.0</td>\n",
       "      <td>Ventura County CA</td>\n",
       "      <td>2.0</td>\n",
       "      <td>...</td>\n",
       "      <td>2016.0</td>\n",
       "      <td>14577.0</td>\n",
       "      <td>1082.46</td>\n",
       "      <td>2017-08-01</td>\n",
       "      <td>-0.050630</td>\n",
       "      <td>2017-08-01</td>\n",
       "      <td>2</td>\n",
       "      <td>0</td>\n",
       "      <td>1</td>\n",
       "      <td>0</td>\n",
       "    </tr>\n",
       "  </tbody>\n",
       "</table>\n",
       "<p>28338 rows × 32 columns</p>\n",
       "</div>"
      ],
      "text/plain": [
       "       propertylandusetypeid  parcelid       id  baths  beds  \\\n",
       "13535                  261.0  12397906    66906    1.0   2.0   \n",
       "30453                  261.0  14380619  2800936    3.0   3.0   \n",
       "13337                  261.0  12902896  1127949    2.0   3.0   \n",
       "7660                   261.0  11568321  2658421    6.0   5.0   \n",
       "34175                  261.0  13100555  1758804    5.0   5.0   \n",
       "...                      ...       ...      ...    ...   ...   \n",
       "38066                  261.0  14238880   638264    2.0   3.0   \n",
       "48425                  261.0  12438510  2110521    3.0   5.0   \n",
       "19647                  261.0  11508139  2077101    2.0   3.0   \n",
       "21717                  261.0  14314819   161303    2.0   3.0   \n",
       "14227                  261.0  17165634  2804111    2.0   6.0   \n",
       "\n",
       "       calculatedbathnbr    sqft  finishedsquarefeet12               fips  \\\n",
       "13535                1.0   872.0                 872.0     Los Angeles CA   \n",
       "30453                3.0  2260.0                2260.0   Orange County CA   \n",
       "13337                2.0  1091.0                1091.0     Los Angeles CA   \n",
       "7660                 6.0  4783.0                4783.0     Los Angeles CA   \n",
       "34175                5.0  4425.0                4425.0     Los Angeles CA   \n",
       "...                  ...     ...                   ...                ...   \n",
       "38066                2.0  1611.0                1611.0   Orange County CA   \n",
       "48425                3.0  2652.0                2652.0     Los Angeles CA   \n",
       "19647                2.0  1962.0                1962.0     Los Angeles CA   \n",
       "21717                2.0  1714.0                1714.0   Orange County CA   \n",
       "14227                2.0  2526.0                2526.0  Ventura County CA   \n",
       "\n",
       "       fullbathcnt  ...  assessmentyear  landtaxvaluedollarcnt  taxamount  \\\n",
       "13535          1.0  ...          2016.0               266297.0    4357.93   \n",
       "30453          3.0  ...          2016.0               142053.0    3515.14   \n",
       "13337          2.0  ...          2016.0                50642.0    1893.90   \n",
       "7660           6.0  ...          2016.0              2288518.0   47785.18   \n",
       "34175          5.0  ...          2016.0               540465.0   14379.50   \n",
       "...            ...  ...             ...                    ...        ...   \n",
       "38066          2.0  ...          2016.0               548239.0    7041.04   \n",
       "48425          3.0  ...          2016.0               414596.0    9365.87   \n",
       "19647          2.0  ...          2016.0               276422.0    4630.60   \n",
       "21717          2.0  ...          2016.0               271335.0    4590.46   \n",
       "14227          2.0  ...          2016.0                14577.0    1082.46   \n",
       "\n",
       "      max_transactiondate  logerror  transactiondate  location  orange_county  \\\n",
       "13535          2017-03-24  0.026998       2017-03-24         0              0   \n",
       "30453          2017-06-09  0.037181       2017-06-09         1              1   \n",
       "13337          2017-03-24  0.019205       2017-03-24         0              0   \n",
       "7660           2017-02-22  0.037875       2017-02-22         0              0   \n",
       "34175          2017-06-27  0.002652       2017-06-27         0              0   \n",
       "...                   ...       ...              ...       ...            ...   \n",
       "38066          2017-07-12 -0.006377       2017-07-12         1              1   \n",
       "48425          2017-08-30 -0.008494       2017-08-30         0              0   \n",
       "19647          2017-04-25  0.680864       2017-04-25         0              0   \n",
       "21717          2017-05-03  0.038707       2017-05-03         1              1   \n",
       "14227          2017-08-01 -0.050630       2017-08-01         2              0   \n",
       "\n",
       "       ventura  losangeles  \n",
       "13535        0           1  \n",
       "30453        0           0  \n",
       "13337        0           1  \n",
       "7660         0           1  \n",
       "34175        0           1  \n",
       "...        ...         ...  \n",
       "38066        0           0  \n",
       "48425        0           1  \n",
       "19647        0           1  \n",
       "21717        0           0  \n",
       "14227        1           0  \n",
       "\n",
       "[28338 rows x 32 columns]"
      ]
     },
     "execution_count": 17,
     "metadata": {},
     "output_type": "execute_result"
    }
   ],
   "source": [
    "train"
   ]
  },
  {
   "cell_type": "code",
   "execution_count": 18,
   "metadata": {},
   "outputs": [],
   "source": [
    "trainExplore = train\n",
    "trainExplore['logerror_bin'] = pd.cut(train.logerror, [-5,-1,-.75,-.5,-.25,0,.25,.50,.75, 1, 5])\n",
    "trainExplore['latitude_bin'] = pd.cut(train.latitude, [0,33600000,34200000,34600000,35000000])\n",
    "trainExplore['longitude_bin'] = pd.cut(train.longitude, [-119200000,-119000000,-118600000,-117800000,0])\n",
    "trainExplore['squarefeet_bin'] = pd.cut(train.sqft,[0,3000,8000,12000])\n",
    "trainExplore['age_bin'] = pd.cut(train.age, [0,30,60,90,120])\n",
    "trainExplore['lowerrors'] = pd.cut(train.logerror, [-.25,0,.25,.5])\n",
    "\n",
    "\n"
   ]
  },
  {
   "cell_type": "code",
   "execution_count": 19,
   "metadata": {},
   "outputs": [],
   "source": [
    "features = ['sqft','age','latitude','longitude','lotsizesquarefeet','beds','baths']\n"
   ]
  },
  {
   "cell_type": "code",
   "execution_count": 20,
   "metadata": {},
   "outputs": [],
   "source": [
    "train_df = train[features]\n",
    "validate_df = validate[features]\n",
    "test_df = test[features]"
   ]
  },
  {
   "cell_type": "code",
   "execution_count": 21,
   "metadata": {},
   "outputs": [
    {
     "data": {
      "text/plain": [
       "[Text(0.5, 1.0, 'Taxamount and Value')]"
      ]
     },
     "execution_count": 21,
     "metadata": {},
     "output_type": "execute_result"
    },
    {
     "data": {
      "image/png": "[encoded data removed]",
      "text/plain": [
       "<Figure size 432x288 with 1 Axes>"
      ]
     },
     "metadata": {
      "needs_background": "light"
     },
     "output_type": "display_data"
    }
   ],
   "source": [
    "sns.scatterplot(x=\"logerror\",\n",
    "                y=\"taxamount\", \n",
    "                data=train).set(title='Taxamount and Value')"
   ]
  },
  {
   "cell_type": "code",
   "execution_count": null,
   "metadata": {},
   "outputs": [],
   "source": []
  },
  {
   "cell_type": "code",
   "execution_count": null,
   "metadata": {},
   "outputs": [],
   "source": []
  },
  {
   "cell_type": "markdown",
   "metadata": {},
   "source": []
  },
  {
   "cell_type": "code",
   "execution_count": 22,
   "metadata": {},
   "outputs": [
    {
     "name": "stderr",
     "output_type": "stream",
     "text": [
      "/Users/allantestaten/codeup-data-science/clustering-exercises/clustering-project/wrangle_zillow.py:135: SettingWithCopyWarning: \n",
      "A value is trying to be set on a copy of a slice from a DataFrame.\n",
      "Try using .loc[row_indexer,col_indexer] = value instead\n",
      "\n",
      "See the caveats in the documentation: https://pandas.pydata.org/pandas-docs/stable/user_guide/indexing.html#returning-a-view-versus-a-copy\n",
      "  impdf[impfeats] = Scaler.fit_transform(impdf[impfeats])\n"
     ]
    },
    {
     "ename": "ValueError",
     "evalue": "too many values to unpack (expected 2)",
     "output_type": "error",
     "traceback": [
      "\u001b[0;31m---------------------------------------------------------------------------\u001b[0m",
      "\u001b[0;31mValueError\u001b[0m                                Traceback (most recent call last)",
      "Input \u001b[0;32mIn [22]\u001b[0m, in \u001b[0;36m<cell line: 1>\u001b[0;34m()\u001b[0m\n\u001b[0;32m----> 1\u001b[0m scaled_x_train, Scaler \u001b[38;5;241m=\u001b[39m w\u001b[38;5;241m.\u001b[39mscale_zillow(train_df,features)\n\u001b[1;32m      2\u001b[0m scaled_x_validate, Scaler \u001b[38;5;241m=\u001b[39m w\u001b[38;5;241m.\u001b[39mscale_zillow(validate_df, features)\n\u001b[1;32m      3\u001b[0m scaled_x_test, Scaler \u001b[38;5;241m=\u001b[39m w\u001b[38;5;241m.\u001b[39mscale_zillow(test_df, features)\n",
      "\u001b[0;31mValueError\u001b[0m: too many values to unpack (expected 2)"
     ]
    }
   ],
   "source": [
    "scaled_x_train, Scaler = w.scale_zillow(train_df,features)\n",
    "scaled_x_validate, Scaler = w.scale_zillow(validate_df, features)\n",
    "scaled_x_test, Scaler = w.scale_zillow(test_df, features)"
   ]
  },
  {
   "cell_type": "code",
   "execution_count": 23,
   "metadata": {},
   "outputs": [
    {
     "ename": "NameError",
     "evalue": "name 'scaled_x_train' is not defined",
     "output_type": "error",
     "traceback": [
      "\u001b[0;31m---------------------------------------------------------------------------\u001b[0m",
      "\u001b[0;31mNameError\u001b[0m                                 Traceback (most recent call last)",
      "Input \u001b[0;32mIn [23]\u001b[0m, in \u001b[0;36m<cell line: 1>\u001b[0;34m()\u001b[0m\n\u001b[0;32m----> 1\u001b[0m \u001b[43mscaled_x_train\u001b[49m\n",
      "\u001b[0;31mNameError\u001b[0m: name 'scaled_x_train' is not defined"
     ]
    }
   ],
   "source": [
    "scaled_x_train"
   ]
  },
  {
   "cell_type": "code",
   "execution_count": 24,
   "metadata": {},
   "outputs": [
    {
     "ename": "NameError",
     "evalue": "name 'scaled_x_train' is not defined",
     "output_type": "error",
     "traceback": [
      "\u001b[0;31m---------------------------------------------------------------------------\u001b[0m",
      "\u001b[0;31mNameError\u001b[0m                                 Traceback (most recent call last)",
      "Input \u001b[0;32mIn [24]\u001b[0m, in \u001b[0;36m<cell line: 2>\u001b[0;34m()\u001b[0m\n\u001b[1;32m      1\u001b[0m location \u001b[38;5;241m=\u001b[39m [\u001b[38;5;124m'\u001b[39m\u001b[38;5;124mlatitude\u001b[39m\u001b[38;5;124m'\u001b[39m,\u001b[38;5;124m'\u001b[39m\u001b[38;5;124mlongitude\u001b[39m\u001b[38;5;124m'\u001b[39m,\u001b[38;5;124m'\u001b[39m\u001b[38;5;124mage\u001b[39m\u001b[38;5;124m'\u001b[39m]\n\u001b[0;32m----> 2\u001b[0m location_x_train \u001b[38;5;241m=\u001b[39m \u001b[43mscaled_x_train\u001b[49m[location]\n\u001b[1;32m      3\u001b[0m structure \u001b[38;5;241m=\u001b[39m [\u001b[38;5;124m'\u001b[39m\u001b[38;5;124mbeds\u001b[39m\u001b[38;5;124m'\u001b[39m,\u001b[38;5;124m'\u001b[39m\u001b[38;5;124mbaths\u001b[39m\u001b[38;5;124m'\u001b[39m]\n\u001b[1;32m      4\u001b[0m structure_x_train \u001b[38;5;241m=\u001b[39m scaled_x_train[structure]\n",
      "\u001b[0;31mNameError\u001b[0m: name 'scaled_x_train' is not defined"
     ]
    }
   ],
   "source": [
    "location = ['latitude','longitude','age']\n",
    "location_x_train = scaled_x_train[location]\n",
    "structure = ['beds','baths']\n",
    "structure_x_train = scaled_x_train[structure]\n",
    "Foundation = ['sqft','lotsizesquarefeet']\n",
    "foundation_x_train = scaled_x_train[Foundation]\n"
   ]
  },
  {
   "cell_type": "code",
   "execution_count": 25,
   "metadata": {},
   "outputs": [
    {
     "ename": "NameError",
     "evalue": "name 'location_x_train' is not defined",
     "output_type": "error",
     "traceback": [
      "\u001b[0;31m---------------------------------------------------------------------------\u001b[0m",
      "\u001b[0;31mNameError\u001b[0m                                 Traceback (most recent call last)",
      "Input \u001b[0;32mIn [25]\u001b[0m, in \u001b[0;36m<cell line: 1>\u001b[0;34m()\u001b[0m\n\u001b[0;32m----> 1\u001b[0m location_x_train[\u001b[38;5;124m'\u001b[39m\u001b[38;5;124magebin\u001b[39m\u001b[38;5;124m'\u001b[39m] \u001b[38;5;241m=\u001b[39m  pd\u001b[38;5;241m.\u001b[39mcut(\u001b[43mlocation_x_train\u001b[49m\u001b[38;5;241m.\u001b[39mage, [\u001b[38;5;241m0\u001b[39m,\u001b[38;5;241m30\u001b[39m,\u001b[38;5;241m60\u001b[39m,\u001b[38;5;241m90\u001b[39m,\u001b[38;5;241m120\u001b[39m])\n",
      "\u001b[0;31mNameError\u001b[0m: name 'location_x_train' is not defined"
     ]
    }
   ],
   "source": [
    "location_x_train['agebin'] =  pd.cut(location_x_train.age, [0,30,60,90,120])"
   ]
  },
  {
   "cell_type": "code",
   "execution_count": 26,
   "metadata": {},
   "outputs": [
    {
     "data": {
      "text/html": [
       "<div>\n",
       "<style scoped>\n",
       "    .dataframe tbody tr th:only-of-type {\n",
       "        vertical-align: middle;\n",
       "    }\n",
       "\n",
       "    .dataframe tbody tr th {\n",
       "        vertical-align: top;\n",
       "    }\n",
       "\n",
       "    .dataframe thead th {\n",
       "        text-align: right;\n",
       "    }\n",
       "</style>\n",
       "<table border=\"1\" class=\"dataframe\">\n",
       "  <thead>\n",
       "    <tr style=\"text-align: right;\">\n",
       "      <th></th>\n",
       "      <th>sqft</th>\n",
       "      <th>age</th>\n",
       "      <th>latitude</th>\n",
       "      <th>longitude</th>\n",
       "      <th>lotsizesquarefeet</th>\n",
       "      <th>beds</th>\n",
       "      <th>baths</th>\n",
       "    </tr>\n",
       "  </thead>\n",
       "  <tbody>\n",
       "    <tr>\n",
       "      <th>13535</th>\n",
       "      <td>0.047065</td>\n",
       "      <td>0.496183</td>\n",
       "      <td>0.419008</td>\n",
       "      <td>0.721678</td>\n",
       "      <td>0.000709</td>\n",
       "      <td>0.181818</td>\n",
       "      <td>0.0</td>\n",
       "    </tr>\n",
       "    <tr>\n",
       "      <th>30453</th>\n",
       "      <td>0.137796</td>\n",
       "      <td>0.305344</td>\n",
       "      <td>0.187552</td>\n",
       "      <td>0.940035</td>\n",
       "      <td>0.000970</td>\n",
       "      <td>0.272727</td>\n",
       "      <td>0.2</td>\n",
       "    </tr>\n",
       "    <tr>\n",
       "      <th>13337</th>\n",
       "      <td>0.061381</td>\n",
       "      <td>0.419847</td>\n",
       "      <td>0.517215</td>\n",
       "      <td>0.862331</td>\n",
       "      <td>0.001040</td>\n",
       "      <td>0.272727</td>\n",
       "      <td>0.1</td>\n",
       "    </tr>\n",
       "    <tr>\n",
       "      <th>7660</th>\n",
       "      <td>0.302719</td>\n",
       "      <td>0.022901</td>\n",
       "      <td>0.478061</td>\n",
       "      <td>0.521215</td>\n",
       "      <td>0.001500</td>\n",
       "      <td>0.454545</td>\n",
       "      <td>0.5</td>\n",
       "    </tr>\n",
       "    <tr>\n",
       "      <th>34175</th>\n",
       "      <td>0.279318</td>\n",
       "      <td>0.129771</td>\n",
       "      <td>0.442146</td>\n",
       "      <td>0.853861</td>\n",
       "      <td>0.001455</td>\n",
       "      <td>0.454545</td>\n",
       "      <td>0.4</td>\n",
       "    </tr>\n",
       "  </tbody>\n",
       "</table>\n",
       "</div>"
      ],
      "text/plain": [
       "           sqft       age  latitude  longitude  lotsizesquarefeet      beds  \\\n",
       "13535  0.047065  0.496183  0.419008   0.721678           0.000709  0.181818   \n",
       "30453  0.137796  0.305344  0.187552   0.940035           0.000970  0.272727   \n",
       "13337  0.061381  0.419847  0.517215   0.862331           0.001040  0.272727   \n",
       "7660   0.302719  0.022901  0.478061   0.521215           0.001500  0.454545   \n",
       "34175  0.279318  0.129771  0.442146   0.853861           0.001455  0.454545   \n",
       "\n",
       "       baths  \n",
       "13535    0.0  \n",
       "30453    0.2  \n",
       "13337    0.1  \n",
       "7660     0.5  \n",
       "34175    0.4  "
      ]
     },
     "execution_count": 26,
     "metadata": {},
     "output_type": "execute_result"
    }
   ],
   "source": [
    "train_df.head()"
   ]
  },
  {
   "cell_type": "code",
   "execution_count": null,
   "metadata": {},
   "outputs": [],
   "source": []
  },
  {
   "cell_type": "code",
   "execution_count": 27,
   "metadata": {},
   "outputs": [],
   "source": [
    "train['logerror_bin'] = pd.cut(train.logerror, [-5,-1,-.75,-.5,-.25,0,.25,.50,.75, 1, 5])"
   ]
  },
  {
   "cell_type": "code",
   "execution_count": 28,
   "metadata": {},
   "outputs": [
    {
     "data": {
      "image/png": "[encoded data removed]",
      "text/plain": [
       "<Figure size 432x288 with 1 Axes>"
      ]
     },
     "metadata": {
      "needs_background": "light"
     },
     "output_type": "display_data"
    },
    {
     "data": {
      "image/png": "[encoded data removed]",
      "text/plain": [
       "<Figure size 432x288 with 1 Axes>"
      ]
     },
     "metadata": {
      "needs_background": "light"
     },
     "output_type": "display_data"
    },
    {
     "data": {
      "image/png": "[encoded data removed]",
      "text/plain": [
       "<Figure size 432x288 with 1 Axes>"
      ]
     },
     "metadata": {
      "needs_background": "light"
     },
     "output_type": "display_data"
    },
    {
     "data": {
      "image/png": "[encoded data removed]",
      "text/plain": [
       "<Figure size 432x288 with 1 Axes>"
      ]
     },
     "metadata": {
      "needs_background": "light"
     },
     "output_type": "display_data"
    },
    {
     "data": {
      "image/png": "[encoded data removed]",
      "text/plain": [
       "<Figure size 432x288 with 1 Axes>"
      ]
     },
     "metadata": {
      "needs_background": "light"
     },
     "output_type": "display_data"
    },
    {
     "data": {
      "image/png": "[encoded data removed]",
      "text/plain": [
       "<Figure size 432x288 with 1 Axes>"
      ]
     },
     "metadata": {
      "needs_background": "light"
     },
     "output_type": "display_data"
    },
    {
     "data": {
      "image/png": "[encoded data removed]",
      "text/plain": [
       "<Figure size 432x288 with 1 Axes>"
      ]
     },
     "metadata": {
      "needs_background": "light"
     },
     "output_type": "display_data"
    },
    {
     "data": {
      "image/png": "[encoded data removed]",
      "text/plain": [
       "<Figure size 432x288 with 1 Axes>"
      ]
     },
     "metadata": {
      "needs_background": "light"
     },
     "output_type": "display_data"
    },
    {
     "data": {
      "image/png": "[encoded data removed]",
      "text/plain": [
       "<Figure size 432x288 with 1 Axes>"
      ]
     },
     "metadata": {
      "needs_background": "light"
     },
     "output_type": "display_data"
    },
    {
     "data": {
      "image/png": "[encoded data removed]",
      "text/plain": [
       "<Figure size 432x288 with 1 Axes>"
      ]
     },
     "metadata": {
      "needs_background": "light"
     },
     "output_type": "display_data"
    }
   ],
   "source": [
    "for x in train.logerror_bin.value_counts().index:\n",
    "    plt.scatter(x='latitude', y='longitude', data=train[train.logerror_bin == x], s = 10)\n",
    "    plt.title(x)\n",
    "    plt.xlim(33400000,34800000)\n",
    "    plt.ylim(-119500000,-117500000)\n",
    "    plt.ticklabel_format(style='plain', axis='y')\n",
    "    plt.ticklabel_format(style='plain', axis='x')\n",
    "    plt.show()\n"
   ]
  },
  {
   "cell_type": "code",
   "execution_count": 29,
   "metadata": {},
   "outputs": [
    {
     "ename": "NameError",
     "evalue": "name 'scaled_x_train' is not defined",
     "output_type": "error",
     "traceback": [
      "\u001b[0;31m---------------------------------------------------------------------------\u001b[0m",
      "\u001b[0;31mNameError\u001b[0m                                 Traceback (most recent call last)",
      "Input \u001b[0;32mIn [29]\u001b[0m, in \u001b[0;36m<cell line: 3>\u001b[0;34m()\u001b[0m\n\u001b[1;32m      3\u001b[0m \u001b[38;5;28;01mfor\u001b[39;00m i \u001b[38;5;129;01min\u001b[39;00m \u001b[38;5;28mrange\u001b[39m(\u001b[38;5;241m2\u001b[39m,\u001b[38;5;241m10\u001b[39m):\n\u001b[1;32m      4\u001b[0m     kmeans \u001b[38;5;241m=\u001b[39m KMeans(n_clusters\u001b[38;5;241m=\u001b[39mi)\n\u001b[0;32m----> 5\u001b[0m     kmeans\u001b[38;5;241m.\u001b[39mfit(\u001b[43mscaled_x_train\u001b[49m[location])\n\u001b[1;32m      6\u001b[0m     location_x_train[\u001b[38;5;124m'\u001b[39m\u001b[38;5;124mbestLocation\u001b[39m\u001b[38;5;124m'\u001b[39m] \u001b[38;5;241m=\u001b[39m kmeans\u001b[38;5;241m.\u001b[39mpredict(scaled_x_train[location])\n\u001b[1;32m      7\u001b[0m     location_x_train[\u001b[38;5;124m'\u001b[39m\u001b[38;5;124mlocationcluster\u001b[39m\u001b[38;5;124m'\u001b[39m,i] \u001b[38;5;241m=\u001b[39m kmeans\u001b[38;5;241m.\u001b[39mpredict(scaled_x_train[location])\n",
      "\u001b[0;31mNameError\u001b[0m: name 'scaled_x_train' is not defined"
     ]
    }
   ],
   "source": [
    "clusters = pd.DataFrame([])\n",
    "best = pd.DataFrame([])\n",
    "for i in range(2,10):\n",
    "    kmeans = KMeans(n_clusters=i)\n",
    "    kmeans.fit(scaled_x_train[location])\n",
    "    location_x_train['bestLocation'] = kmeans.predict(scaled_x_train[location])\n",
    "    location_x_train['locationcluster',i] = kmeans.predict(scaled_x_train[location])\n",
    "    clusters['locationclusters',i] = kmeans.predict(scaled_x_train[location])"
   ]
  },
  {
   "cell_type": "code",
   "execution_count": 30,
   "metadata": {},
   "outputs": [
    {
     "ename": "NameError",
     "evalue": "name 'scaled_x_train' is not defined",
     "output_type": "error",
     "traceback": [
      "\u001b[0;31m---------------------------------------------------------------------------\u001b[0m",
      "\u001b[0;31mNameError\u001b[0m                                 Traceback (most recent call last)",
      "Input \u001b[0;32mIn [30]\u001b[0m, in \u001b[0;36m<cell line: 3>\u001b[0;34m()\u001b[0m\n\u001b[1;32m      3\u001b[0m \u001b[38;5;28;01mfor\u001b[39;00m i \u001b[38;5;129;01min\u001b[39;00m \u001b[38;5;28mrange\u001b[39m(\u001b[38;5;241m2\u001b[39m,\u001b[38;5;241m10\u001b[39m):\n\u001b[1;32m      4\u001b[0m     kmeans \u001b[38;5;241m=\u001b[39m KMeans(n_clusters\u001b[38;5;241m=\u001b[39mi)\n\u001b[0;32m----> 5\u001b[0m     kmeans\u001b[38;5;241m.\u001b[39mfit(\u001b[43mscaled_x_train\u001b[49m[structure])\n\u001b[1;32m      6\u001b[0m     structure_x_train[\u001b[38;5;124m'\u001b[39m\u001b[38;5;124mbestStructure\u001b[39m\u001b[38;5;124m'\u001b[39m] \u001b[38;5;241m=\u001b[39m kmeans\u001b[38;5;241m.\u001b[39mpredict(scaled_x_train[structure])\n\u001b[1;32m      7\u001b[0m     structure_x_train[\u001b[38;5;124m'\u001b[39m\u001b[38;5;124mstructurecluster\u001b[39m\u001b[38;5;124m'\u001b[39m,i] \u001b[38;5;241m=\u001b[39m kmeans\u001b[38;5;241m.\u001b[39mpredict(scaled_x_train[structure])\n",
      "\u001b[0;31mNameError\u001b[0m: name 'scaled_x_train' is not defined"
     ]
    }
   ],
   "source": [
    "clusters = pd.DataFrame([])\n",
    "best = pd.DataFrame([])\n",
    "for i in range(2,10):\n",
    "    kmeans = KMeans(n_clusters=i)\n",
    "    kmeans.fit(scaled_x_train[structure])\n",
    "    structure_x_train['bestStructure'] = kmeans.predict(scaled_x_train[structure])\n",
    "    structure_x_train['structurecluster',i] = kmeans.predict(scaled_x_train[structure])\n",
    "    clusters['structureclusters',i] = kmeans.predict(scaled_x_train[structure])"
   ]
  },
  {
   "cell_type": "code",
   "execution_count": 31,
   "metadata": {},
   "outputs": [
    {
     "ename": "NameError",
     "evalue": "name 'scaled_x_train' is not defined",
     "output_type": "error",
     "traceback": [
      "\u001b[0;31m---------------------------------------------------------------------------\u001b[0m",
      "\u001b[0;31mNameError\u001b[0m                                 Traceback (most recent call last)",
      "Input \u001b[0;32mIn [31]\u001b[0m, in \u001b[0;36m<cell line: 3>\u001b[0;34m()\u001b[0m\n\u001b[1;32m      3\u001b[0m \u001b[38;5;28;01mfor\u001b[39;00m i \u001b[38;5;129;01min\u001b[39;00m \u001b[38;5;28mrange\u001b[39m(\u001b[38;5;241m2\u001b[39m,\u001b[38;5;241m10\u001b[39m):\n\u001b[1;32m      4\u001b[0m     kmeans \u001b[38;5;241m=\u001b[39m KMeans(n_clusters\u001b[38;5;241m=\u001b[39mi)\n\u001b[0;32m----> 5\u001b[0m     kmeans\u001b[38;5;241m.\u001b[39mfit(\u001b[43mscaled_x_train\u001b[49m[Foundation])\n\u001b[1;32m      6\u001b[0m     foundation_x_train[\u001b[38;5;124m'\u001b[39m\u001b[38;5;124mbestFoundation\u001b[39m\u001b[38;5;124m'\u001b[39m] \u001b[38;5;241m=\u001b[39m kmeans\u001b[38;5;241m.\u001b[39mpredict(scaled_x_train[Foundation])\n\u001b[1;32m      7\u001b[0m     foundation_x_train[\u001b[38;5;124m'\u001b[39m\u001b[38;5;124mfoundationcluster\u001b[39m\u001b[38;5;124m'\u001b[39m,i] \u001b[38;5;241m=\u001b[39m kmeans\u001b[38;5;241m.\u001b[39mpredict(scaled_x_train[Foundation])\n",
      "\u001b[0;31mNameError\u001b[0m: name 'scaled_x_train' is not defined"
     ]
    }
   ],
   "source": [
    "clusters = pd.DataFrame([])\n",
    "best = pd.DataFrame([])\n",
    "for i in range(2,10):\n",
    "    kmeans = KMeans(n_clusters=i)\n",
    "    kmeans.fit(scaled_x_train[Foundation])\n",
    "    foundation_x_train['bestFoundation'] = kmeans.predict(scaled_x_train[Foundation])\n",
    "    foundation_x_train['foundationcluster',i] = kmeans.predict(scaled_x_train[Foundation])\n",
    "    clusters['foundationclusters',i] = kmeans.predict(scaled_x_train[Foundation])"
   ]
  },
  {
   "cell_type": "code",
   "execution_count": 32,
   "metadata": {},
   "outputs": [
    {
     "ename": "NameError",
     "evalue": "name 'scaled_x_train' is not defined",
     "output_type": "error",
     "traceback": [
      "\u001b[0;31m---------------------------------------------------------------------------\u001b[0m",
      "\u001b[0;31mNameError\u001b[0m                                 Traceback (most recent call last)",
      "Input \u001b[0;32mIn [32]\u001b[0m, in \u001b[0;36m<cell line: 2>\u001b[0;34m()\u001b[0m\n\u001b[1;32m      1\u001b[0m kmeans \u001b[38;5;241m=\u001b[39m KMeans(n_clusters\u001b[38;5;241m=\u001b[39m\u001b[38;5;241m5\u001b[39m, random_state \u001b[38;5;241m=\u001b[39m \u001b[38;5;241m123\u001b[39m)\n\u001b[0;32m----> 2\u001b[0m kmeans\u001b[38;5;241m.\u001b[39mfit(\u001b[43mscaled_x_train\u001b[49m[structure])\n\u001b[1;32m      3\u001b[0m structure_x_train[\u001b[38;5;124m'\u001b[39m\u001b[38;5;124mbestStructure\u001b[39m\u001b[38;5;124m'\u001b[39m] \u001b[38;5;241m=\u001b[39m kmeans\u001b[38;5;241m.\u001b[39mpredict(scaled_x_train[structure])\n",
      "\u001b[0;31mNameError\u001b[0m: name 'scaled_x_train' is not defined"
     ]
    }
   ],
   "source": [
    "kmeans = KMeans(n_clusters=5, random_state = 123)\n",
    "kmeans.fit(scaled_x_train[structure])\n",
    "structure_x_train['bestStructure'] = kmeans.predict(scaled_x_train[structure])"
   ]
  },
  {
   "cell_type": "code",
   "execution_count": 33,
   "metadata": {},
   "outputs": [
    {
     "ename": "NameError",
     "evalue": "name 'scaled_x_train' is not defined",
     "output_type": "error",
     "traceback": [
      "\u001b[0;31m---------------------------------------------------------------------------\u001b[0m",
      "\u001b[0;31mNameError\u001b[0m                                 Traceback (most recent call last)",
      "Input \u001b[0;32mIn [33]\u001b[0m, in \u001b[0;36m<cell line: 2>\u001b[0;34m()\u001b[0m\n\u001b[1;32m      1\u001b[0m kmeans \u001b[38;5;241m=\u001b[39m KMeans(n_clusters\u001b[38;5;241m=\u001b[39m\u001b[38;5;241m5\u001b[39m, random_state \u001b[38;5;241m=\u001b[39m \u001b[38;5;241m123\u001b[39m)\n\u001b[0;32m----> 2\u001b[0m kmeans\u001b[38;5;241m.\u001b[39mfit(\u001b[43mscaled_x_train\u001b[49m[location])\n\u001b[1;32m      3\u001b[0m location_x_train[\u001b[38;5;124m'\u001b[39m\u001b[38;5;124mbestLocation\u001b[39m\u001b[38;5;124m'\u001b[39m] \u001b[38;5;241m=\u001b[39m kmeans\u001b[38;5;241m.\u001b[39mpredict(scaled_x_train[location])\n\u001b[1;32m      4\u001b[0m scaled_x_validate[\u001b[38;5;124m'\u001b[39m\u001b[38;5;124mbestLocation\u001b[39m\u001b[38;5;124m'\u001b[39m] \u001b[38;5;241m=\u001b[39m kmeans\u001b[38;5;241m.\u001b[39mpredict(scaled_x_validate[location])\n",
      "\u001b[0;31mNameError\u001b[0m: name 'scaled_x_train' is not defined"
     ]
    }
   ],
   "source": [
    "kmeans = KMeans(n_clusters=5, random_state = 123)\n",
    "kmeans.fit(scaled_x_train[location])\n",
    "location_x_train['bestLocation'] = kmeans.predict(scaled_x_train[location])\n",
    "scaled_x_validate['bestLocation'] = kmeans.predict(scaled_x_validate[location])\n",
    "scaled_x_test['bestLocation'] = kmeans.predict(scaled_x_test[location])\n",
    "train['bestLocation'] = kmeans.predict(scaled_x_train[location])\n"
   ]
  },
  {
   "cell_type": "code",
   "execution_count": 34,
   "metadata": {},
   "outputs": [
    {
     "ename": "NameError",
     "evalue": "name 'scaled_x_train' is not defined",
     "output_type": "error",
     "traceback": [
      "\u001b[0;31m---------------------------------------------------------------------------\u001b[0m",
      "\u001b[0;31mNameError\u001b[0m                                 Traceback (most recent call last)",
      "Input \u001b[0;32mIn [34]\u001b[0m, in \u001b[0;36m<cell line: 2>\u001b[0;34m()\u001b[0m\n\u001b[1;32m      1\u001b[0m kmeans \u001b[38;5;241m=\u001b[39m KMeans(n_clusters\u001b[38;5;241m=\u001b[39m\u001b[38;5;241m4\u001b[39m, random_state \u001b[38;5;241m=\u001b[39m \u001b[38;5;241m123\u001b[39m)\n\u001b[0;32m----> 2\u001b[0m kmeans\u001b[38;5;241m.\u001b[39mfit(\u001b[43mscaled_x_train\u001b[49m[Foundation])\n\u001b[1;32m      3\u001b[0m foundation_x_train[\u001b[38;5;124m'\u001b[39m\u001b[38;5;124mbestFoundation\u001b[39m\u001b[38;5;124m'\u001b[39m] \u001b[38;5;241m=\u001b[39m kmeans\u001b[38;5;241m.\u001b[39mpredict(scaled_x_train[Foundation])\n\u001b[1;32m      4\u001b[0m scaled_x_validate[\u001b[38;5;124m'\u001b[39m\u001b[38;5;124mbestFoundation\u001b[39m\u001b[38;5;124m'\u001b[39m] \u001b[38;5;241m=\u001b[39m kmeans\u001b[38;5;241m.\u001b[39mpredict(scaled_x_validate[Foundation])\n",
      "\u001b[0;31mNameError\u001b[0m: name 'scaled_x_train' is not defined"
     ]
    }
   ],
   "source": [
    "kmeans = KMeans(n_clusters=4, random_state = 123)\n",
    "kmeans.fit(scaled_x_train[Foundation])\n",
    "foundation_x_train['bestFoundation'] = kmeans.predict(scaled_x_train[Foundation])\n",
    "scaled_x_validate['bestFoundation'] = kmeans.predict(scaled_x_validate[Foundation])\n",
    "scaled_x_test['bestFoundation'] = kmeans.predict(scaled_x_test[Foundation])\n",
    "train['bestFoundation'] = kmeans.predict(scaled_x_train[Foundation])"
   ]
  },
  {
   "cell_type": "code",
   "execution_count": 35,
   "metadata": {},
   "outputs": [
    {
     "ename": "NameError",
     "evalue": "name 'foundation_x_train' is not defined",
     "output_type": "error",
     "traceback": [
      "\u001b[0;31m---------------------------------------------------------------------------\u001b[0m",
      "\u001b[0;31mNameError\u001b[0m                                 Traceback (most recent call last)",
      "Input \u001b[0;32mIn [35]\u001b[0m, in \u001b[0;36m<cell line: 1>\u001b[0;34m()\u001b[0m\n\u001b[1;32m      1\u001b[0m \u001b[38;5;28;01mwith\u001b[39;00m plt\u001b[38;5;241m.\u001b[39mstyle\u001b[38;5;241m.\u001b[39mcontext(\u001b[38;5;124m'\u001b[39m\u001b[38;5;124mseaborn-whitegrid\u001b[39m\u001b[38;5;124m'\u001b[39m):\n\u001b[1;32m      2\u001b[0m     plt\u001b[38;5;241m.\u001b[39mfigure(figsize\u001b[38;5;241m=\u001b[39m(\u001b[38;5;241m9\u001b[39m, \u001b[38;5;241m6\u001b[39m))\n\u001b[0;32m----> 3\u001b[0m     pd\u001b[38;5;241m.\u001b[39mSeries({k: KMeans(k)\u001b[38;5;241m.\u001b[39mfit(foundation_x_train)\u001b[38;5;241m.\u001b[39minertia_ \u001b[38;5;28;01mfor\u001b[39;00m k \u001b[38;5;129;01min\u001b[39;00m \u001b[38;5;28mrange\u001b[39m(\u001b[38;5;241m2\u001b[39m, \u001b[38;5;241m12\u001b[39m)})\u001b[38;5;241m.\u001b[39mplot(marker\u001b[38;5;241m=\u001b[39m\u001b[38;5;124m'\u001b[39m\u001b[38;5;124mx\u001b[39m\u001b[38;5;124m'\u001b[39m)\n\u001b[1;32m      4\u001b[0m     plt\u001b[38;5;241m.\u001b[39mxticks(\u001b[38;5;28mrange\u001b[39m(\u001b[38;5;241m2\u001b[39m, \u001b[38;5;241m12\u001b[39m))\n\u001b[1;32m      5\u001b[0m     plt\u001b[38;5;241m.\u001b[39mxlabel(\u001b[38;5;124m'\u001b[39m\u001b[38;5;124mk\u001b[39m\u001b[38;5;124m'\u001b[39m)\n",
      "Input \u001b[0;32mIn [35]\u001b[0m, in \u001b[0;36m<dictcomp>\u001b[0;34m(.0)\u001b[0m\n\u001b[1;32m      1\u001b[0m \u001b[38;5;28;01mwith\u001b[39;00m plt\u001b[38;5;241m.\u001b[39mstyle\u001b[38;5;241m.\u001b[39mcontext(\u001b[38;5;124m'\u001b[39m\u001b[38;5;124mseaborn-whitegrid\u001b[39m\u001b[38;5;124m'\u001b[39m):\n\u001b[1;32m      2\u001b[0m     plt\u001b[38;5;241m.\u001b[39mfigure(figsize\u001b[38;5;241m=\u001b[39m(\u001b[38;5;241m9\u001b[39m, \u001b[38;5;241m6\u001b[39m))\n\u001b[0;32m----> 3\u001b[0m     pd\u001b[38;5;241m.\u001b[39mSeries({k: KMeans(k)\u001b[38;5;241m.\u001b[39mfit(\u001b[43mfoundation_x_train\u001b[49m)\u001b[38;5;241m.\u001b[39minertia_ \u001b[38;5;28;01mfor\u001b[39;00m k \u001b[38;5;129;01min\u001b[39;00m \u001b[38;5;28mrange\u001b[39m(\u001b[38;5;241m2\u001b[39m, \u001b[38;5;241m12\u001b[39m)})\u001b[38;5;241m.\u001b[39mplot(marker\u001b[38;5;241m=\u001b[39m\u001b[38;5;124m'\u001b[39m\u001b[38;5;124mx\u001b[39m\u001b[38;5;124m'\u001b[39m)\n\u001b[1;32m      4\u001b[0m     plt\u001b[38;5;241m.\u001b[39mxticks(\u001b[38;5;28mrange\u001b[39m(\u001b[38;5;241m2\u001b[39m, \u001b[38;5;241m12\u001b[39m))\n\u001b[1;32m      5\u001b[0m     plt\u001b[38;5;241m.\u001b[39mxlabel(\u001b[38;5;124m'\u001b[39m\u001b[38;5;124mk\u001b[39m\u001b[38;5;124m'\u001b[39m)\n",
      "\u001b[0;31mNameError\u001b[0m: name 'foundation_x_train' is not defined"
     ]
    },
    {
     "data": {
      "text/plain": [
       "<Figure size 648x432 with 0 Axes>"
      ]
     },
     "metadata": {},
     "output_type": "display_data"
    }
   ],
   "source": [
    "with plt.style.context('seaborn-whitegrid'):\n",
    "    plt.figure(figsize=(9, 6))\n",
    "    pd.Series({k: KMeans(k).fit(foundation_x_train).inertia_ for k in range(2, 12)}).plot(marker='x')\n",
    "    plt.xticks(range(2, 12))\n",
    "    plt.xlabel('k')\n",
    "    plt.ylabel('inertia')\n",
    "    plt.title('Change in inertia as k increases')\n"
   ]
  },
  {
   "cell_type": "code",
   "execution_count": 36,
   "metadata": {},
   "outputs": [
    {
     "ename": "NameError",
     "evalue": "name 'location_x_train' is not defined",
     "output_type": "error",
     "traceback": [
      "\u001b[0;31m---------------------------------------------------------------------------\u001b[0m",
      "\u001b[0;31mNameError\u001b[0m                                 Traceback (most recent call last)",
      "Input \u001b[0;32mIn [36]\u001b[0m, in \u001b[0;36m<cell line: 1>\u001b[0;34m()\u001b[0m\n\u001b[0;32m----> 1\u001b[0m \u001b[43mlocation_x_train\u001b[49m\n",
      "\u001b[0;31mNameError\u001b[0m: name 'location_x_train' is not defined"
     ]
    }
   ],
   "source": [
    "location_x_train"
   ]
  },
  {
   "cell_type": "code",
   "execution_count": 37,
   "metadata": {},
   "outputs": [
    {
     "ename": "NameError",
     "evalue": "name 'location_x_train' is not defined",
     "output_type": "error",
     "traceback": [
      "\u001b[0;31m---------------------------------------------------------------------------\u001b[0m",
      "\u001b[0;31mNameError\u001b[0m                                 Traceback (most recent call last)",
      "Input \u001b[0;32mIn [37]\u001b[0m, in \u001b[0;36m<cell line: 1>\u001b[0;34m()\u001b[0m\n\u001b[0;32m----> 1\u001b[0m \u001b[38;5;28;01mfor\u001b[39;00m x \u001b[38;5;129;01min\u001b[39;00m \u001b[43mlocation_x_train\u001b[49m[\u001b[38;5;124m'\u001b[39m\u001b[38;5;124mbestLocation\u001b[39m\u001b[38;5;124m'\u001b[39m]\u001b[38;5;241m.\u001b[39mvalue_counts()\u001b[38;5;241m.\u001b[39mindex:\n\u001b[1;32m      2\u001b[0m     plt\u001b[38;5;241m.\u001b[39mscatter(x\u001b[38;5;241m=\u001b[39mlocation_x_train\u001b[38;5;241m.\u001b[39mlatitude[location_x_train\u001b[38;5;241m.\u001b[39mbestLocation \u001b[38;5;241m==\u001b[39m x], y\u001b[38;5;241m=\u001b[39mlocation_x_train\u001b[38;5;241m.\u001b[39mlongitude[location_x_train\u001b[38;5;241m.\u001b[39mbestLocation \u001b[38;5;241m==\u001b[39m x], c \u001b[38;5;241m=\u001b[39m location_x_train\u001b[38;5;241m.\u001b[39mage[location_x_train\u001b[38;5;241m.\u001b[39mbestLocation \u001b[38;5;241m==\u001b[39m x], s \u001b[38;5;241m=\u001b[39m \u001b[38;5;241m10\u001b[39m)\n\u001b[1;32m      3\u001b[0m     plt\u001b[38;5;241m.\u001b[39mtitle(x)\n",
      "\u001b[0;31mNameError\u001b[0m: name 'location_x_train' is not defined"
     ]
    }
   ],
   "source": [
    "for x in location_x_train['bestLocation'].value_counts().index:\n",
    "    plt.scatter(x=location_x_train.latitude[location_x_train.bestLocation == x], y=location_x_train.longitude[location_x_train.bestLocation == x], c = location_x_train.age[location_x_train.bestLocation == x], s = 10)\n",
    "    plt.title(x)\n",
    "    plt.xlim(0,1)\n",
    "    plt.ylim(0,1)\n",
    "    plt.show()\n"
   ]
  },
  {
   "cell_type": "code",
   "execution_count": 38,
   "metadata": {},
   "outputs": [
    {
     "ename": "NameError",
     "evalue": "name 'location_x_train' is not defined",
     "output_type": "error",
     "traceback": [
      "\u001b[0;31m---------------------------------------------------------------------------\u001b[0m",
      "\u001b[0;31mNameError\u001b[0m                                 Traceback (most recent call last)",
      "Input \u001b[0;32mIn [38]\u001b[0m, in \u001b[0;36m<cell line: 1>\u001b[0;34m()\u001b[0m\n\u001b[0;32m----> 1\u001b[0m \u001b[43mlocation_x_train\u001b[49m[\u001b[38;5;124m'\u001b[39m\u001b[38;5;124mbestLocation\u001b[39m\u001b[38;5;124m'\u001b[39m]\u001b[38;5;241m.\u001b[39mvalue_counts()\u001b[38;5;241m.\u001b[39mindex\n",
      "\u001b[0;31mNameError\u001b[0m: name 'location_x_train' is not defined"
     ]
    }
   ],
   "source": [
    "location_x_train['bestLocation'].value_counts().index"
   ]
  },
  {
   "cell_type": "code",
   "execution_count": 39,
   "metadata": {},
   "outputs": [
    {
     "data": {
      "text/html": [
       "<div>\n",
       "<style scoped>\n",
       "    .dataframe tbody tr th:only-of-type {\n",
       "        vertical-align: middle;\n",
       "    }\n",
       "\n",
       "    .dataframe tbody tr th {\n",
       "        vertical-align: top;\n",
       "    }\n",
       "\n",
       "    .dataframe thead th {\n",
       "        text-align: right;\n",
       "    }\n",
       "</style>\n",
       "<table border=\"1\" class=\"dataframe\">\n",
       "  <thead>\n",
       "    <tr style=\"text-align: right;\">\n",
       "      <th></th>\n",
       "      <th>sqft</th>\n",
       "      <th>age</th>\n",
       "      <th>latitude</th>\n",
       "      <th>longitude</th>\n",
       "      <th>lotsizesquarefeet</th>\n",
       "      <th>beds</th>\n",
       "      <th>baths</th>\n",
       "    </tr>\n",
       "  </thead>\n",
       "  <tbody>\n",
       "    <tr>\n",
       "      <th>13535</th>\n",
       "      <td>0.047065</td>\n",
       "      <td>0.496183</td>\n",
       "      <td>0.419008</td>\n",
       "      <td>0.721678</td>\n",
       "      <td>0.000709</td>\n",
       "      <td>0.181818</td>\n",
       "      <td>0.0</td>\n",
       "    </tr>\n",
       "    <tr>\n",
       "      <th>30453</th>\n",
       "      <td>0.137796</td>\n",
       "      <td>0.305344</td>\n",
       "      <td>0.187552</td>\n",
       "      <td>0.940035</td>\n",
       "      <td>0.000970</td>\n",
       "      <td>0.272727</td>\n",
       "      <td>0.2</td>\n",
       "    </tr>\n",
       "    <tr>\n",
       "      <th>13337</th>\n",
       "      <td>0.061381</td>\n",
       "      <td>0.419847</td>\n",
       "      <td>0.517215</td>\n",
       "      <td>0.862331</td>\n",
       "      <td>0.001040</td>\n",
       "      <td>0.272727</td>\n",
       "      <td>0.1</td>\n",
       "    </tr>\n",
       "    <tr>\n",
       "      <th>7660</th>\n",
       "      <td>0.302719</td>\n",
       "      <td>0.022901</td>\n",
       "      <td>0.478061</td>\n",
       "      <td>0.521215</td>\n",
       "      <td>0.001500</td>\n",
       "      <td>0.454545</td>\n",
       "      <td>0.5</td>\n",
       "    </tr>\n",
       "    <tr>\n",
       "      <th>34175</th>\n",
       "      <td>0.279318</td>\n",
       "      <td>0.129771</td>\n",
       "      <td>0.442146</td>\n",
       "      <td>0.853861</td>\n",
       "      <td>0.001455</td>\n",
       "      <td>0.454545</td>\n",
       "      <td>0.4</td>\n",
       "    </tr>\n",
       "  </tbody>\n",
       "</table>\n",
       "</div>"
      ],
      "text/plain": [
       "           sqft       age  latitude  longitude  lotsizesquarefeet      beds  \\\n",
       "13535  0.047065  0.496183  0.419008   0.721678           0.000709  0.181818   \n",
       "30453  0.137796  0.305344  0.187552   0.940035           0.000970  0.272727   \n",
       "13337  0.061381  0.419847  0.517215   0.862331           0.001040  0.272727   \n",
       "7660   0.302719  0.022901  0.478061   0.521215           0.001500  0.454545   \n",
       "34175  0.279318  0.129771  0.442146   0.853861           0.001455  0.454545   \n",
       "\n",
       "       baths  \n",
       "13535    0.0  \n",
       "30453    0.2  \n",
       "13337    0.1  \n",
       "7660     0.5  \n",
       "34175    0.4  "
      ]
     },
     "execution_count": 39,
     "metadata": {},
     "output_type": "execute_result"
    }
   ],
   "source": [
    "train_df.head()"
   ]
  },
  {
   "cell_type": "code",
   "execution_count": 40,
   "metadata": {},
   "outputs": [
    {
     "name": "stdout",
     "output_type": "stream",
     "text": [
      "<class 'pandas.core.frame.DataFrame'>\n",
      "Index: 0 entries\n",
      "Empty DataFrame"
     ]
    }
   ],
   "source": [
    "clusters.info()"
   ]
  },
  {
   "cell_type": "code",
   "execution_count": null,
   "metadata": {},
   "outputs": [],
   "source": []
  },
  {
   "cell_type": "code",
   "execution_count": null,
   "metadata": {},
   "outputs": [],
   "source": []
  },
  {
   "cell_type": "code",
   "execution_count": 41,
   "metadata": {},
   "outputs": [
    {
     "ename": "NameError",
     "evalue": "name 'structure_x_train' is not defined",
     "output_type": "error",
     "traceback": [
      "\u001b[0;31m---------------------------------------------------------------------------\u001b[0m",
      "\u001b[0;31mNameError\u001b[0m                                 Traceback (most recent call last)",
      "Input \u001b[0;32mIn [41]\u001b[0m, in \u001b[0;36m<cell line: 1>\u001b[0;34m()\u001b[0m\n\u001b[0;32m----> 1\u001b[0m plt\u001b[38;5;241m.\u001b[39mscatter(x\u001b[38;5;241m=\u001b[39m\u001b[43mstructure_x_train\u001b[49m\u001b[38;5;241m.\u001b[39mbeds, y\u001b[38;5;241m=\u001b[39mstructure_x_train\u001b[38;5;241m.\u001b[39mbaths, c \u001b[38;5;241m=\u001b[39m structure_x_train\u001b[38;5;241m.\u001b[39mbestStructure , s \u001b[38;5;241m=\u001b[39m \u001b[38;5;241m50\u001b[39m)\n\u001b[1;32m      3\u001b[0m plt\u001b[38;5;241m.\u001b[39mxlim(\u001b[38;5;241m0\u001b[39m,\u001b[38;5;241m1\u001b[39m)\n\u001b[1;32m      4\u001b[0m plt\u001b[38;5;241m.\u001b[39mylim(\u001b[38;5;241m0\u001b[39m,\u001b[38;5;241m1\u001b[39m)\n",
      "\u001b[0;31mNameError\u001b[0m: name 'structure_x_train' is not defined"
     ]
    }
   ],
   "source": [
    "plt.scatter(x=structure_x_train.beds, y=structure_x_train.baths, c = structure_x_train.bestStructure , s = 50)\n",
    "\n",
    "plt.xlim(0,1)\n",
    "plt.ylim(0,1)\n",
    "plt.show()"
   ]
  },
  {
   "cell_type": "code",
   "execution_count": 42,
   "metadata": {},
   "outputs": [
    {
     "ename": "NameError",
     "evalue": "name 'foundation_x_train' is not defined",
     "output_type": "error",
     "traceback": [
      "\u001b[0;31m---------------------------------------------------------------------------\u001b[0m",
      "\u001b[0;31mNameError\u001b[0m                                 Traceback (most recent call last)",
      "Input \u001b[0;32mIn [42]\u001b[0m, in \u001b[0;36m<cell line: 1>\u001b[0;34m()\u001b[0m\n\u001b[0;32m----> 1\u001b[0m \u001b[38;5;28;01mfor\u001b[39;00m x \u001b[38;5;129;01min\u001b[39;00m \u001b[43mfoundation_x_train\u001b[49m[\u001b[38;5;124m'\u001b[39m\u001b[38;5;124mbestFoundation\u001b[39m\u001b[38;5;124m'\u001b[39m]\u001b[38;5;241m.\u001b[39mvalue_counts()\u001b[38;5;241m.\u001b[39mindex:\n\u001b[1;32m      2\u001b[0m     plt\u001b[38;5;241m.\u001b[39mscatter(x \u001b[38;5;241m=\u001b[39m foundation_x_train\u001b[38;5;241m.\u001b[39msqft, y \u001b[38;5;241m=\u001b[39m foundation_x_train\u001b[38;5;241m.\u001b[39mlotsizesquarefeet, c \u001b[38;5;241m=\u001b[39m foundation_x_train\u001b[38;5;241m.\u001b[39mbestFoundation, s \u001b[38;5;241m=\u001b[39m \u001b[38;5;241m50\u001b[39m)\n",
      "\u001b[0;31mNameError\u001b[0m: name 'foundation_x_train' is not defined"
     ]
    }
   ],
   "source": [
    "for x in foundation_x_train['bestFoundation'].value_counts().index:\n",
    "    plt.scatter(x = foundation_x_train.sqft, y = foundation_x_train.lotsizesquarefeet, c = foundation_x_train.bestFoundation, s = 50)"
   ]
  },
  {
   "cell_type": "code",
   "execution_count": 43,
   "metadata": {},
   "outputs": [
    {
     "ename": "NameError",
     "evalue": "name 'foundation_x_train' is not defined",
     "output_type": "error",
     "traceback": [
      "\u001b[0;31m---------------------------------------------------------------------------\u001b[0m",
      "\u001b[0;31mNameError\u001b[0m                                 Traceback (most recent call last)",
      "Input \u001b[0;32mIn [43]\u001b[0m, in \u001b[0;36m<cell line: 1>\u001b[0;34m()\u001b[0m\n\u001b[0;32m----> 1\u001b[0m \u001b[38;5;28;01mfor\u001b[39;00m x \u001b[38;5;129;01min\u001b[39;00m \u001b[43mfoundation_x_train\u001b[49m[\u001b[38;5;124m'\u001b[39m\u001b[38;5;124mbestFoundation\u001b[39m\u001b[38;5;124m'\u001b[39m]\u001b[38;5;241m.\u001b[39mvalue_counts()\u001b[38;5;241m.\u001b[39mindex:\n\u001b[1;32m      2\u001b[0m     plt\u001b[38;5;241m.\u001b[39mscatter(foundation_x_train\u001b[38;5;241m.\u001b[39msqft[foundation_x_train\u001b[38;5;241m.\u001b[39mbestFoundation \u001b[38;5;241m==\u001b[39m x], foundation_x_train\u001b[38;5;241m.\u001b[39mlotsizesquarefeet[foundation_x_train\u001b[38;5;241m.\u001b[39mbestFoundation \u001b[38;5;241m==\u001b[39m x], c \u001b[38;5;241m=\u001b[39m train\u001b[38;5;241m.\u001b[39mlogerror[foundation_x_train\u001b[38;5;241m.\u001b[39mbestFoundation \u001b[38;5;241m==\u001b[39m x])\n\u001b[1;32m      3\u001b[0m     plt\u001b[38;5;241m.\u001b[39mtitle(x)\n",
      "\u001b[0;31mNameError\u001b[0m: name 'foundation_x_train' is not defined"
     ]
    }
   ],
   "source": [
    "for x in foundation_x_train['bestFoundation'].value_counts().index:\n",
    "    plt.scatter(foundation_x_train.sqft[foundation_x_train.bestFoundation == x], foundation_x_train.lotsizesquarefeet[foundation_x_train.bestFoundation == x], c = train.logerror[foundation_x_train.bestFoundation == x])\n",
    "    plt.title(x)\n",
    "    plt.xlim(0,1)\n",
    "    plt.ylim(0,1)\n",
    "    plt.show()\n"
   ]
  },
  {
   "cell_type": "code",
   "execution_count": 44,
   "metadata": {},
   "outputs": [
    {
     "ename": "NameError",
     "evalue": "name 'foundation_x_train' is not defined",
     "output_type": "error",
     "traceback": [
      "\u001b[0;31m---------------------------------------------------------------------------\u001b[0m",
      "\u001b[0;31mNameError\u001b[0m                                 Traceback (most recent call last)",
      "Input \u001b[0;32mIn [44]\u001b[0m, in \u001b[0;36m<cell line: 1>\u001b[0;34m()\u001b[0m\n\u001b[0;32m----> 1\u001b[0m plt\u001b[38;5;241m.\u001b[39mscatter(x \u001b[38;5;241m=\u001b[39m \u001b[43mfoundation_x_train\u001b[49m\u001b[38;5;241m.\u001b[39msqft, y \u001b[38;5;241m=\u001b[39m foundation_x_train\u001b[38;5;241m.\u001b[39mlotsizesquarefeet, c \u001b[38;5;241m=\u001b[39m foundation_x_train\u001b[38;5;241m.\u001b[39mbestFoundation, s \u001b[38;5;241m=\u001b[39m \u001b[38;5;241m50\u001b[39m)\n",
      "\u001b[0;31mNameError\u001b[0m: name 'foundation_x_train' is not defined"
     ]
    }
   ],
   "source": [
    "\n",
    "plt.scatter(x = foundation_x_train.sqft, y = foundation_x_train.lotsizesquarefeet, c = foundation_x_train.bestFoundation, s = 50)"
   ]
  },
  {
   "cell_type": "code",
   "execution_count": 45,
   "metadata": {},
   "outputs": [
    {
     "ename": "NameError",
     "evalue": "name 'foundation_x_train' is not defined",
     "output_type": "error",
     "traceback": [
      "\u001b[0;31m---------------------------------------------------------------------------\u001b[0m",
      "\u001b[0;31mNameError\u001b[0m                                 Traceback (most recent call last)",
      "Input \u001b[0;32mIn [45]\u001b[0m, in \u001b[0;36m<cell line: 1>\u001b[0;34m()\u001b[0m\n\u001b[0;32m----> 1\u001b[0m \u001b[43mfoundation_x_train\u001b[49m\u001b[38;5;241m.\u001b[39msqft\n",
      "\u001b[0;31mNameError\u001b[0m: name 'foundation_x_train' is not defined"
     ]
    }
   ],
   "source": [
    "foundation_x_train.sqft"
   ]
  },
  {
   "cell_type": "code",
   "execution_count": 46,
   "metadata": {},
   "outputs": [
    {
     "ename": "NameError",
     "evalue": "name 'scaled_x_train' is not defined",
     "output_type": "error",
     "traceback": [
      "\u001b[0;31m---------------------------------------------------------------------------\u001b[0m",
      "\u001b[0;31mNameError\u001b[0m                                 Traceback (most recent call last)",
      "Input \u001b[0;32mIn [46]\u001b[0m, in \u001b[0;36m<cell line: 1>\u001b[0;34m()\u001b[0m\n\u001b[0;32m----> 1\u001b[0m \u001b[43mscaled_x_train\u001b[49m\n",
      "\u001b[0;31mNameError\u001b[0m: name 'scaled_x_train' is not defined"
     ]
    }
   ],
   "source": [
    "scaled_x_train"
   ]
  },
  {
   "cell_type": "code",
   "execution_count": 47,
   "metadata": {},
   "outputs": [
    {
     "ename": "NameError",
     "evalue": "name 'foundation_x_train' is not defined",
     "output_type": "error",
     "traceback": [
      "\u001b[0;31m---------------------------------------------------------------------------\u001b[0m",
      "\u001b[0;31mNameError\u001b[0m                                 Traceback (most recent call last)",
      "Input \u001b[0;32mIn [47]\u001b[0m, in \u001b[0;36m<cell line: 1>\u001b[0;34m()\u001b[0m\n\u001b[0;32m----> 1\u001b[0m \u001b[43mfoundation_x_train\u001b[49m\n",
      "\u001b[0;31mNameError\u001b[0m: name 'foundation_x_train' is not defined"
     ]
    }
   ],
   "source": [
    "foundation_x_train\n"
   ]
  },
  {
   "cell_type": "code",
   "execution_count": 48,
   "metadata": {},
   "outputs": [
    {
     "data": {
      "text/html": [
       "<div>\n",
       "<style scoped>\n",
       "    .dataframe tbody tr th:only-of-type {\n",
       "        vertical-align: middle;\n",
       "    }\n",
       "\n",
       "    .dataframe tbody tr th {\n",
       "        vertical-align: top;\n",
       "    }\n",
       "\n",
       "    .dataframe thead th {\n",
       "        text-align: right;\n",
       "    }\n",
       "</style>\n",
       "<table border=\"1\" class=\"dataframe\">\n",
       "  <thead>\n",
       "    <tr style=\"text-align: right;\">\n",
       "      <th></th>\n",
       "      <th>propertylandusetypeid</th>\n",
       "      <th>parcelid</th>\n",
       "      <th>id</th>\n",
       "      <th>baths</th>\n",
       "      <th>beds</th>\n",
       "      <th>calculatedbathnbr</th>\n",
       "      <th>sqft</th>\n",
       "      <th>finishedsquarefeet12</th>\n",
       "      <th>fips</th>\n",
       "      <th>fullbathcnt</th>\n",
       "      <th>...</th>\n",
       "      <th>location</th>\n",
       "      <th>orange_county</th>\n",
       "      <th>ventura</th>\n",
       "      <th>losangeles</th>\n",
       "      <th>logerror_bin</th>\n",
       "      <th>latitude_bin</th>\n",
       "      <th>longitude_bin</th>\n",
       "      <th>squarefeet_bin</th>\n",
       "      <th>age_bin</th>\n",
       "      <th>lowerrors</th>\n",
       "    </tr>\n",
       "  </thead>\n",
       "  <tbody>\n",
       "    <tr>\n",
       "      <th>13535</th>\n",
       "      <td>261.0</td>\n",
       "      <td>12397906</td>\n",
       "      <td>66906</td>\n",
       "      <td>1.0</td>\n",
       "      <td>2.0</td>\n",
       "      <td>1.0</td>\n",
       "      <td>872.0</td>\n",
       "      <td>872.0</td>\n",
       "      <td>Los Angeles CA</td>\n",
       "      <td>1.0</td>\n",
       "      <td>...</td>\n",
       "      <td>0</td>\n",
       "      <td>0</td>\n",
       "      <td>0</td>\n",
       "      <td>1</td>\n",
       "      <td>(0.0, 0.25]</td>\n",
       "      <td>(33600000, 34200000]</td>\n",
       "      <td>(-118600000, -117800000]</td>\n",
       "      <td>(0, 3000]</td>\n",
       "      <td>(60, 90]</td>\n",
       "      <td>(0.0, 0.25]</td>\n",
       "    </tr>\n",
       "    <tr>\n",
       "      <th>30453</th>\n",
       "      <td>261.0</td>\n",
       "      <td>14380619</td>\n",
       "      <td>2800936</td>\n",
       "      <td>3.0</td>\n",
       "      <td>3.0</td>\n",
       "      <td>3.0</td>\n",
       "      <td>2260.0</td>\n",
       "      <td>2260.0</td>\n",
       "      <td>Orange County CA</td>\n",
       "      <td>3.0</td>\n",
       "      <td>...</td>\n",
       "      <td>1</td>\n",
       "      <td>1</td>\n",
       "      <td>0</td>\n",
       "      <td>0</td>\n",
       "      <td>(0.0, 0.25]</td>\n",
       "      <td>(33600000, 34200000]</td>\n",
       "      <td>(-117800000, 0]</td>\n",
       "      <td>(0, 3000]</td>\n",
       "      <td>(30, 60]</td>\n",
       "      <td>(0.0, 0.25]</td>\n",
       "    </tr>\n",
       "    <tr>\n",
       "      <th>13337</th>\n",
       "      <td>261.0</td>\n",
       "      <td>12902896</td>\n",
       "      <td>1127949</td>\n",
       "      <td>2.0</td>\n",
       "      <td>3.0</td>\n",
       "      <td>2.0</td>\n",
       "      <td>1091.0</td>\n",
       "      <td>1091.0</td>\n",
       "      <td>Los Angeles CA</td>\n",
       "      <td>2.0</td>\n",
       "      <td>...</td>\n",
       "      <td>0</td>\n",
       "      <td>0</td>\n",
       "      <td>0</td>\n",
       "      <td>1</td>\n",
       "      <td>(0.0, 0.25]</td>\n",
       "      <td>(33600000, 34200000]</td>\n",
       "      <td>(-118600000, -117800000]</td>\n",
       "      <td>(0, 3000]</td>\n",
       "      <td>(60, 90]</td>\n",
       "      <td>(0.0, 0.25]</td>\n",
       "    </tr>\n",
       "    <tr>\n",
       "      <th>7660</th>\n",
       "      <td>261.0</td>\n",
       "      <td>11568321</td>\n",
       "      <td>2658421</td>\n",
       "      <td>6.0</td>\n",
       "      <td>5.0</td>\n",
       "      <td>6.0</td>\n",
       "      <td>4783.0</td>\n",
       "      <td>4783.0</td>\n",
       "      <td>Los Angeles CA</td>\n",
       "      <td>6.0</td>\n",
       "      <td>...</td>\n",
       "      <td>0</td>\n",
       "      <td>0</td>\n",
       "      <td>0</td>\n",
       "      <td>1</td>\n",
       "      <td>(0.0, 0.25]</td>\n",
       "      <td>(33600000, 34200000]</td>\n",
       "      <td>(-118600000, -117800000]</td>\n",
       "      <td>(3000, 8000]</td>\n",
       "      <td>(0, 30]</td>\n",
       "      <td>(0.0, 0.25]</td>\n",
       "    </tr>\n",
       "    <tr>\n",
       "      <th>34175</th>\n",
       "      <td>261.0</td>\n",
       "      <td>13100555</td>\n",
       "      <td>1758804</td>\n",
       "      <td>5.0</td>\n",
       "      <td>5.0</td>\n",
       "      <td>5.0</td>\n",
       "      <td>4425.0</td>\n",
       "      <td>4425.0</td>\n",
       "      <td>Los Angeles CA</td>\n",
       "      <td>5.0</td>\n",
       "      <td>...</td>\n",
       "      <td>0</td>\n",
       "      <td>0</td>\n",
       "      <td>0</td>\n",
       "      <td>1</td>\n",
       "      <td>(0.0, 0.25]</td>\n",
       "      <td>(33600000, 34200000]</td>\n",
       "      <td>(-118600000, -117800000]</td>\n",
       "      <td>(3000, 8000]</td>\n",
       "      <td>(0, 30]</td>\n",
       "      <td>(0.0, 0.25]</td>\n",
       "    </tr>\n",
       "    <tr>\n",
       "      <th>...</th>\n",
       "      <td>...</td>\n",
       "      <td>...</td>\n",
       "      <td>...</td>\n",
       "      <td>...</td>\n",
       "      <td>...</td>\n",
       "      <td>...</td>\n",
       "      <td>...</td>\n",
       "      <td>...</td>\n",
       "      <td>...</td>\n",
       "      <td>...</td>\n",
       "      <td>...</td>\n",
       "      <td>...</td>\n",
       "      <td>...</td>\n",
       "      <td>...</td>\n",
       "      <td>...</td>\n",
       "      <td>...</td>\n",
       "      <td>...</td>\n",
       "      <td>...</td>\n",
       "      <td>...</td>\n",
       "      <td>...</td>\n",
       "      <td>...</td>\n",
       "    </tr>\n",
       "    <tr>\n",
       "      <th>38066</th>\n",
       "      <td>261.0</td>\n",
       "      <td>14238880</td>\n",
       "      <td>638264</td>\n",
       "      <td>2.0</td>\n",
       "      <td>3.0</td>\n",
       "      <td>2.0</td>\n",
       "      <td>1611.0</td>\n",
       "      <td>1611.0</td>\n",
       "      <td>Orange County CA</td>\n",
       "      <td>2.0</td>\n",
       "      <td>...</td>\n",
       "      <td>1</td>\n",
       "      <td>1</td>\n",
       "      <td>0</td>\n",
       "      <td>0</td>\n",
       "      <td>(-0.25, 0.0]</td>\n",
       "      <td>(33600000, 34200000]</td>\n",
       "      <td>(-118600000, -117800000]</td>\n",
       "      <td>(0, 3000]</td>\n",
       "      <td>(60, 90]</td>\n",
       "      <td>(-0.25, 0.0]</td>\n",
       "    </tr>\n",
       "    <tr>\n",
       "      <th>48425</th>\n",
       "      <td>261.0</td>\n",
       "      <td>12438510</td>\n",
       "      <td>2110521</td>\n",
       "      <td>3.0</td>\n",
       "      <td>5.0</td>\n",
       "      <td>3.0</td>\n",
       "      <td>2652.0</td>\n",
       "      <td>2652.0</td>\n",
       "      <td>Los Angeles CA</td>\n",
       "      <td>3.0</td>\n",
       "      <td>...</td>\n",
       "      <td>0</td>\n",
       "      <td>0</td>\n",
       "      <td>0</td>\n",
       "      <td>1</td>\n",
       "      <td>(-0.25, 0.0]</td>\n",
       "      <td>(33600000, 34200000]</td>\n",
       "      <td>(-118600000, -117800000]</td>\n",
       "      <td>(0, 3000]</td>\n",
       "      <td>(30, 60]</td>\n",
       "      <td>(-0.25, 0.0]</td>\n",
       "    </tr>\n",
       "    <tr>\n",
       "      <th>19647</th>\n",
       "      <td>261.0</td>\n",
       "      <td>11508139</td>\n",
       "      <td>2077101</td>\n",
       "      <td>2.0</td>\n",
       "      <td>3.0</td>\n",
       "      <td>2.0</td>\n",
       "      <td>1962.0</td>\n",
       "      <td>1962.0</td>\n",
       "      <td>Los Angeles CA</td>\n",
       "      <td>2.0</td>\n",
       "      <td>...</td>\n",
       "      <td>0</td>\n",
       "      <td>0</td>\n",
       "      <td>0</td>\n",
       "      <td>1</td>\n",
       "      <td>(0.5, 0.75]</td>\n",
       "      <td>(33600000, 34200000]</td>\n",
       "      <td>(-118600000, -117800000]</td>\n",
       "      <td>(0, 3000]</td>\n",
       "      <td>(60, 90]</td>\n",
       "      <td>NaN</td>\n",
       "    </tr>\n",
       "    <tr>\n",
       "      <th>21717</th>\n",
       "      <td>261.0</td>\n",
       "      <td>14314819</td>\n",
       "      <td>161303</td>\n",
       "      <td>2.0</td>\n",
       "      <td>3.0</td>\n",
       "      <td>2.0</td>\n",
       "      <td>1714.0</td>\n",
       "      <td>1714.0</td>\n",
       "      <td>Orange County CA</td>\n",
       "      <td>2.0</td>\n",
       "      <td>...</td>\n",
       "      <td>1</td>\n",
       "      <td>1</td>\n",
       "      <td>0</td>\n",
       "      <td>0</td>\n",
       "      <td>(0.0, 0.25]</td>\n",
       "      <td>(33600000, 34200000]</td>\n",
       "      <td>(-118600000, -117800000]</td>\n",
       "      <td>(0, 3000]</td>\n",
       "      <td>(30, 60]</td>\n",
       "      <td>(0.0, 0.25]</td>\n",
       "    </tr>\n",
       "    <tr>\n",
       "      <th>14227</th>\n",
       "      <td>261.0</td>\n",
       "      <td>17165634</td>\n",
       "      <td>2804111</td>\n",
       "      <td>2.0</td>\n",
       "      <td>6.0</td>\n",
       "      <td>2.0</td>\n",
       "      <td>2526.0</td>\n",
       "      <td>2526.0</td>\n",
       "      <td>Ventura County CA</td>\n",
       "      <td>2.0</td>\n",
       "      <td>...</td>\n",
       "      <td>2</td>\n",
       "      <td>0</td>\n",
       "      <td>1</td>\n",
       "      <td>0</td>\n",
       "      <td>(-0.25, 0.0]</td>\n",
       "      <td>(33600000, 34200000]</td>\n",
       "      <td>(-119200000, -119000000]</td>\n",
       "      <td>(0, 3000]</td>\n",
       "      <td>(60, 90]</td>\n",
       "      <td>(-0.25, 0.0]</td>\n",
       "    </tr>\n",
       "  </tbody>\n",
       "</table>\n",
       "<p>28338 rows × 38 columns</p>\n",
       "</div>"
      ],
      "text/plain": [
       "       propertylandusetypeid  parcelid       id  baths  beds  \\\n",
       "13535                  261.0  12397906    66906    1.0   2.0   \n",
       "30453                  261.0  14380619  2800936    3.0   3.0   \n",
       "13337                  261.0  12902896  1127949    2.0   3.0   \n",
       "7660                   261.0  11568321  2658421    6.0   5.0   \n",
       "34175                  261.0  13100555  1758804    5.0   5.0   \n",
       "...                      ...       ...      ...    ...   ...   \n",
       "38066                  261.0  14238880   638264    2.0   3.0   \n",
       "48425                  261.0  12438510  2110521    3.0   5.0   \n",
       "19647                  261.0  11508139  2077101    2.0   3.0   \n",
       "21717                  261.0  14314819   161303    2.0   3.0   \n",
       "14227                  261.0  17165634  2804111    2.0   6.0   \n",
       "\n",
       "       calculatedbathnbr    sqft  finishedsquarefeet12               fips  \\\n",
       "13535                1.0   872.0                 872.0     Los Angeles CA   \n",
       "30453                3.0  2260.0                2260.0   Orange County CA   \n",
       "13337                2.0  1091.0                1091.0     Los Angeles CA   \n",
       "7660                 6.0  4783.0                4783.0     Los Angeles CA   \n",
       "34175                5.0  4425.0                4425.0     Los Angeles CA   \n",
       "...                  ...     ...                   ...                ...   \n",
       "38066                2.0  1611.0                1611.0   Orange County CA   \n",
       "48425                3.0  2652.0                2652.0     Los Angeles CA   \n",
       "19647                2.0  1962.0                1962.0     Los Angeles CA   \n",
       "21717                2.0  1714.0                1714.0   Orange County CA   \n",
       "14227                2.0  2526.0                2526.0  Ventura County CA   \n",
       "\n",
       "       fullbathcnt  ...  location  orange_county  ventura losangeles  \\\n",
       "13535          1.0  ...         0              0        0          1   \n",
       "30453          3.0  ...         1              1        0          0   \n",
       "13337          2.0  ...         0              0        0          1   \n",
       "7660           6.0  ...         0              0        0          1   \n",
       "34175          5.0  ...         0              0        0          1   \n",
       "...            ...  ...       ...            ...      ...        ...   \n",
       "38066          2.0  ...         1              1        0          0   \n",
       "48425          3.0  ...         0              0        0          1   \n",
       "19647          2.0  ...         0              0        0          1   \n",
       "21717          2.0  ...         1              1        0          0   \n",
       "14227          2.0  ...         2              0        1          0   \n",
       "\n",
       "       logerror_bin          latitude_bin             longitude_bin  \\\n",
       "13535   (0.0, 0.25]  (33600000, 34200000]  (-118600000, -117800000]   \n",
       "30453   (0.0, 0.25]  (33600000, 34200000]           (-117800000, 0]   \n",
       "13337   (0.0, 0.25]  (33600000, 34200000]  (-118600000, -117800000]   \n",
       "7660    (0.0, 0.25]  (33600000, 34200000]  (-118600000, -117800000]   \n",
       "34175   (0.0, 0.25]  (33600000, 34200000]  (-118600000, -117800000]   \n",
       "...             ...                   ...                       ...   \n",
       "38066  (-0.25, 0.0]  (33600000, 34200000]  (-118600000, -117800000]   \n",
       "48425  (-0.25, 0.0]  (33600000, 34200000]  (-118600000, -117800000]   \n",
       "19647   (0.5, 0.75]  (33600000, 34200000]  (-118600000, -117800000]   \n",
       "21717   (0.0, 0.25]  (33600000, 34200000]  (-118600000, -117800000]   \n",
       "14227  (-0.25, 0.0]  (33600000, 34200000]  (-119200000, -119000000]   \n",
       "\n",
       "       squarefeet_bin   age_bin     lowerrors  \n",
       "13535       (0, 3000]  (60, 90]   (0.0, 0.25]  \n",
       "30453       (0, 3000]  (30, 60]   (0.0, 0.25]  \n",
       "13337       (0, 3000]  (60, 90]   (0.0, 0.25]  \n",
       "7660     (3000, 8000]   (0, 30]   (0.0, 0.25]  \n",
       "34175    (3000, 8000]   (0, 30]   (0.0, 0.25]  \n",
       "...               ...       ...           ...  \n",
       "38066       (0, 3000]  (60, 90]  (-0.25, 0.0]  \n",
       "48425       (0, 3000]  (30, 60]  (-0.25, 0.0]  \n",
       "19647       (0, 3000]  (60, 90]           NaN  \n",
       "21717       (0, 3000]  (30, 60]   (0.0, 0.25]  \n",
       "14227       (0, 3000]  (60, 90]  (-0.25, 0.0]  \n",
       "\n",
       "[28338 rows x 38 columns]"
      ]
     },
     "execution_count": 48,
     "metadata": {},
     "output_type": "execute_result"
    }
   ],
   "source": [
    "train"
   ]
  },
  {
   "cell_type": "code",
   "execution_count": 49,
   "metadata": {},
   "outputs": [
    {
     "ename": "AttributeError",
     "evalue": "'DataFrame' object has no attribute 'bestLocation'",
     "output_type": "error",
     "traceback": [
      "\u001b[0;31m---------------------------------------------------------------------------\u001b[0m",
      "\u001b[0;31mAttributeError\u001b[0m                            Traceback (most recent call last)",
      "Input \u001b[0;32mIn [49]\u001b[0m, in \u001b[0;36m<cell line: 1>\u001b[0;34m()\u001b[0m\n\u001b[0;32m----> 1\u001b[0m locationCluster1Sample \u001b[38;5;241m=\u001b[39m train[\u001b[43mtrain\u001b[49m\u001b[38;5;241;43m.\u001b[39;49m\u001b[43mbestLocation\u001b[49m \u001b[38;5;241m==\u001b[39m \u001b[38;5;241m4\u001b[39m]\u001b[38;5;241m.\u001b[39mlogerror\n",
      "File \u001b[0;32m/opt/homebrew/anaconda3/lib/python3.9/site-packages/pandas/core/generic.py:5575\u001b[0m, in \u001b[0;36mNDFrame.__getattr__\u001b[0;34m(self, name)\u001b[0m\n\u001b[1;32m   5568\u001b[0m \u001b[38;5;28;01mif\u001b[39;00m (\n\u001b[1;32m   5569\u001b[0m     name \u001b[38;5;129;01mnot\u001b[39;00m \u001b[38;5;129;01min\u001b[39;00m \u001b[38;5;28mself\u001b[39m\u001b[38;5;241m.\u001b[39m_internal_names_set\n\u001b[1;32m   5570\u001b[0m     \u001b[38;5;129;01mand\u001b[39;00m name \u001b[38;5;129;01mnot\u001b[39;00m \u001b[38;5;129;01min\u001b[39;00m \u001b[38;5;28mself\u001b[39m\u001b[38;5;241m.\u001b[39m_metadata\n\u001b[1;32m   5571\u001b[0m     \u001b[38;5;129;01mand\u001b[39;00m name \u001b[38;5;129;01mnot\u001b[39;00m \u001b[38;5;129;01min\u001b[39;00m \u001b[38;5;28mself\u001b[39m\u001b[38;5;241m.\u001b[39m_accessors\n\u001b[1;32m   5572\u001b[0m     \u001b[38;5;129;01mand\u001b[39;00m \u001b[38;5;28mself\u001b[39m\u001b[38;5;241m.\u001b[39m_info_axis\u001b[38;5;241m.\u001b[39m_can_hold_identifiers_and_holds_name(name)\n\u001b[1;32m   5573\u001b[0m ):\n\u001b[1;32m   5574\u001b[0m     \u001b[38;5;28;01mreturn\u001b[39;00m \u001b[38;5;28mself\u001b[39m[name]\n\u001b[0;32m-> 5575\u001b[0m \u001b[38;5;28;01mreturn\u001b[39;00m \u001b[38;5;28;43mobject\u001b[39;49m\u001b[38;5;241;43m.\u001b[39;49m\u001b[38;5;21;43m__getattribute__\u001b[39;49m\u001b[43m(\u001b[49m\u001b[38;5;28;43mself\u001b[39;49m\u001b[43m,\u001b[49m\u001b[43m \u001b[49m\u001b[43mname\u001b[49m\u001b[43m)\u001b[49m\n",
      "\u001b[0;31mAttributeError\u001b[0m: 'DataFrame' object has no attribute 'bestLocation'"
     ]
    }
   ],
   "source": [
    "locationCluster1Sample = train[train.bestLocation == 4].logerror"
   ]
  },
  {
   "cell_type": "code",
   "execution_count": 50,
   "metadata": {},
   "outputs": [],
   "source": [
    "alpha = .05\n"
   ]
  },
  {
   "cell_type": "markdown",
   "metadata": {},
   "source": [
    "Hnull - mean log error of people within locationcluster two is the same as mean log error of total population\n",
    "Halt - mean log error of people within locationcluster two is different than the mean log error of total population."
   ]
  },
  {
   "cell_type": "markdown",
   "metadata": {},
   "source": [
    "loc cluster 1"
   ]
  },
  {
   "cell_type": "code",
   "execution_count": 51,
   "metadata": {},
   "outputs": [],
   "source": [
    "overall_mean = train.logerror.mean()"
   ]
  },
  {
   "cell_type": "code",
   "execution_count": 52,
   "metadata": {},
   "outputs": [
    {
     "ename": "AttributeError",
     "evalue": "'list' object has no attribute 'ttest_1samp'",
     "output_type": "error",
     "traceback": [
      "\u001b[0;31m---------------------------------------------------------------------------\u001b[0m",
      "\u001b[0;31mAttributeError\u001b[0m                            Traceback (most recent call last)",
      "Input \u001b[0;32mIn [52]\u001b[0m, in \u001b[0;36m<cell line: 1>\u001b[0;34m()\u001b[0m\n\u001b[0;32m----> 1\u001b[0m t,p \u001b[38;5;241m=\u001b[39m \u001b[43mstats\u001b[49m\u001b[38;5;241;43m.\u001b[39;49m\u001b[43mttest_1samp\u001b[49m(locationCluster1Sample,overall_mean)\n\u001b[1;32m      2\u001b[0m \u001b[38;5;28mprint\u001b[39m(t,p\u001b[38;5;241m/\u001b[39m\u001b[38;5;241m2\u001b[39m,alpha)\n",
      "\u001b[0;31mAttributeError\u001b[0m: 'list' object has no attribute 'ttest_1samp'"
     ]
    }
   ],
   "source": [
    "t,p = stats.ttest_1samp(locationCluster1Sample,overall_mean)\n",
    "print(t,p/2,alpha)"
   ]
  },
  {
   "cell_type": "code",
   "execution_count": 53,
   "metadata": {},
   "outputs": [
    {
     "ename": "NameError",
     "evalue": "name 'p' is not defined",
     "output_type": "error",
     "traceback": [
      "\u001b[0;31m---------------------------------------------------------------------------\u001b[0m",
      "\u001b[0;31mNameError\u001b[0m                                 Traceback (most recent call last)",
      "Input \u001b[0;32mIn [53]\u001b[0m, in \u001b[0;36m<cell line: 1>\u001b[0;34m()\u001b[0m\n\u001b[0;32m----> 1\u001b[0m \u001b[38;5;28;01mif\u001b[39;00m \u001b[43mp\u001b[49m\u001b[38;5;241m/\u001b[39m\u001b[38;5;241m2\u001b[39m \u001b[38;5;241m>\u001b[39m alpha:\n\u001b[1;32m      2\u001b[0m     \u001b[38;5;28mprint\u001b[39m(\u001b[38;5;124m\"\u001b[39m\u001b[38;5;124mWe fail to reject $H_\u001b[39m\u001b[38;5;132;01m{0}\u001b[39;00m\u001b[38;5;124m$\u001b[39m\u001b[38;5;124m\"\u001b[39m)\n\u001b[1;32m      3\u001b[0m \u001b[38;5;28;01melif\u001b[39;00m t \u001b[38;5;241m<\u001b[39m \u001b[38;5;241m0\u001b[39m:\n",
      "\u001b[0;31mNameError\u001b[0m: name 'p' is not defined"
     ]
    }
   ],
   "source": [
    "if p/2 > alpha:\n",
    "    print(\"We fail to reject $H_{0}$\")\n",
    "elif t < 0:\n",
    "    print(\"We fail to reject $H_{0}$\")\n",
    "else:\n",
    "    print(\"We reject $H_{0}$\")\n"
   ]
  },
  {
   "cell_type": "markdown",
   "metadata": {},
   "source": [
    "As you can see location cluster 1 does not have the same mean as the population"
   ]
  },
  {
   "cell_type": "code",
   "execution_count": 54,
   "metadata": {},
   "outputs": [
    {
     "ename": "AttributeError",
     "evalue": "'DataFrame' object has no attribute 'bestFoundation'",
     "output_type": "error",
     "traceback": [
      "\u001b[0;31m---------------------------------------------------------------------------\u001b[0m",
      "\u001b[0;31mAttributeError\u001b[0m                            Traceback (most recent call last)",
      "Input \u001b[0;32mIn [54]\u001b[0m, in \u001b[0;36m<cell line: 1>\u001b[0;34m()\u001b[0m\n\u001b[0;32m----> 1\u001b[0m foundationCluster1Sample \u001b[38;5;241m=\u001b[39m train[\u001b[43mtrain\u001b[49m\u001b[38;5;241;43m.\u001b[39;49m\u001b[43mbestFoundation\u001b[49m \u001b[38;5;241m==\u001b[39m \u001b[38;5;241m2\u001b[39m]\u001b[38;5;241m.\u001b[39mlogerror\n",
      "File \u001b[0;32m/opt/homebrew/anaconda3/lib/python3.9/site-packages/pandas/core/generic.py:5575\u001b[0m, in \u001b[0;36mNDFrame.__getattr__\u001b[0;34m(self, name)\u001b[0m\n\u001b[1;32m   5568\u001b[0m \u001b[38;5;28;01mif\u001b[39;00m (\n\u001b[1;32m   5569\u001b[0m     name \u001b[38;5;129;01mnot\u001b[39;00m \u001b[38;5;129;01min\u001b[39;00m \u001b[38;5;28mself\u001b[39m\u001b[38;5;241m.\u001b[39m_internal_names_set\n\u001b[1;32m   5570\u001b[0m     \u001b[38;5;129;01mand\u001b[39;00m name \u001b[38;5;129;01mnot\u001b[39;00m \u001b[38;5;129;01min\u001b[39;00m \u001b[38;5;28mself\u001b[39m\u001b[38;5;241m.\u001b[39m_metadata\n\u001b[1;32m   5571\u001b[0m     \u001b[38;5;129;01mand\u001b[39;00m name \u001b[38;5;129;01mnot\u001b[39;00m \u001b[38;5;129;01min\u001b[39;00m \u001b[38;5;28mself\u001b[39m\u001b[38;5;241m.\u001b[39m_accessors\n\u001b[1;32m   5572\u001b[0m     \u001b[38;5;129;01mand\u001b[39;00m \u001b[38;5;28mself\u001b[39m\u001b[38;5;241m.\u001b[39m_info_axis\u001b[38;5;241m.\u001b[39m_can_hold_identifiers_and_holds_name(name)\n\u001b[1;32m   5573\u001b[0m ):\n\u001b[1;32m   5574\u001b[0m     \u001b[38;5;28;01mreturn\u001b[39;00m \u001b[38;5;28mself\u001b[39m[name]\n\u001b[0;32m-> 5575\u001b[0m \u001b[38;5;28;01mreturn\u001b[39;00m \u001b[38;5;28;43mobject\u001b[39;49m\u001b[38;5;241;43m.\u001b[39;49m\u001b[38;5;21;43m__getattribute__\u001b[39;49m\u001b[43m(\u001b[49m\u001b[38;5;28;43mself\u001b[39;49m\u001b[43m,\u001b[49m\u001b[43m \u001b[49m\u001b[43mname\u001b[49m\u001b[43m)\u001b[49m\n",
      "\u001b[0;31mAttributeError\u001b[0m: 'DataFrame' object has no attribute 'bestFoundation'"
     ]
    }
   ],
   "source": [
    "foundationCluster1Sample = train[train.bestFoundation == 2].logerror"
   ]
  },
  {
   "cell_type": "markdown",
   "metadata": {},
   "source": [
    "Hnull - mean log error of people in foundationcluster1 is same as general population\n",
    "Halt - mean log error of people in foundationcluster1 is different than general population"
   ]
  },
  {
   "cell_type": "code",
   "execution_count": 55,
   "metadata": {},
   "outputs": [
    {
     "ename": "AttributeError",
     "evalue": "'list' object has no attribute 'ttest_1samp'",
     "output_type": "error",
     "traceback": [
      "\u001b[0;31m---------------------------------------------------------------------------\u001b[0m",
      "\u001b[0;31mAttributeError\u001b[0m                            Traceback (most recent call last)",
      "Input \u001b[0;32mIn [55]\u001b[0m, in \u001b[0;36m<cell line: 1>\u001b[0;34m()\u001b[0m\n\u001b[0;32m----> 1\u001b[0m t,p \u001b[38;5;241m=\u001b[39m \u001b[43mstats\u001b[49m\u001b[38;5;241;43m.\u001b[39;49m\u001b[43mttest_1samp\u001b[49m(foundationCluster2Sample,overall_mean)\n\u001b[1;32m      2\u001b[0m \u001b[38;5;28mprint\u001b[39m(t,p\u001b[38;5;241m/\u001b[39m\u001b[38;5;241m2\u001b[39m,alpha)\n",
      "\u001b[0;31mAttributeError\u001b[0m: 'list' object has no attribute 'ttest_1samp'"
     ]
    }
   ],
   "source": [
    "t,p = stats.ttest_1samp(foundationCluster2Sample,overall_mean)\n",
    "print(t,p/2,alpha)"
   ]
  },
  {
   "cell_type": "code",
   "execution_count": 56,
   "metadata": {},
   "outputs": [
    {
     "ename": "NameError",
     "evalue": "name 'p' is not defined",
     "output_type": "error",
     "traceback": [
      "\u001b[0;31m---------------------------------------------------------------------------\u001b[0m",
      "\u001b[0;31mNameError\u001b[0m                                 Traceback (most recent call last)",
      "Input \u001b[0;32mIn [56]\u001b[0m, in \u001b[0;36m<cell line: 1>\u001b[0;34m()\u001b[0m\n\u001b[0;32m----> 1\u001b[0m \u001b[38;5;28;01mif\u001b[39;00m \u001b[43mp\u001b[49m\u001b[38;5;241m/\u001b[39m\u001b[38;5;241m2\u001b[39m \u001b[38;5;241m>\u001b[39m alpha:\n\u001b[1;32m      2\u001b[0m     \u001b[38;5;28mprint\u001b[39m(\u001b[38;5;124m\"\u001b[39m\u001b[38;5;124mWe fail to reject $H_\u001b[39m\u001b[38;5;132;01m{0}\u001b[39;00m\u001b[38;5;124m$\u001b[39m\u001b[38;5;124m\"\u001b[39m)\n\u001b[1;32m      3\u001b[0m \u001b[38;5;28;01melif\u001b[39;00m t \u001b[38;5;241m<\u001b[39m \u001b[38;5;241m0\u001b[39m:\n",
      "\u001b[0;31mNameError\u001b[0m: name 'p' is not defined"
     ]
    }
   ],
   "source": [
    "if p/2 > alpha:\n",
    "    print(\"We fail to reject $H_{0}$\")\n",
    "elif t < 0:\n",
    "    print(\"We fail to reject $H_{0}$\")\n",
    "else:\n",
    "    print(\"We reject $H_{0}$\")\n"
   ]
  },
  {
   "cell_type": "markdown",
   "metadata": {},
   "source": [
    "cluster 2"
   ]
  },
  {
   "cell_type": "code",
   "execution_count": 57,
   "metadata": {},
   "outputs": [
    {
     "ename": "NameError",
     "evalue": "name 'location_x_train' is not defined",
     "output_type": "error",
     "traceback": [
      "\u001b[0;31m---------------------------------------------------------------------------\u001b[0m",
      "\u001b[0;31mNameError\u001b[0m                                 Traceback (most recent call last)",
      "Input \u001b[0;32mIn [57]\u001b[0m, in \u001b[0;36m<cell line: 1>\u001b[0;34m()\u001b[0m\n\u001b[0;32m----> 1\u001b[0m pd\u001b[38;5;241m.\u001b[39mget_dummies(\u001b[43mlocation_x_train\u001b[49m[\u001b[38;5;124m'\u001b[39m\u001b[38;5;124mbestLocation\u001b[39m\u001b[38;5;124m'\u001b[39m])\n",
      "\u001b[0;31mNameError\u001b[0m: name 'location_x_train' is not defined"
     ]
    }
   ],
   "source": [
    "pd.get_dummies(location_x_train['bestLocation'])"
   ]
  },
  {
   "cell_type": "code",
   "execution_count": 58,
   "metadata": {},
   "outputs": [
    {
     "ename": "NameError",
     "evalue": "name 'location_x_train' is not defined",
     "output_type": "error",
     "traceback": [
      "\u001b[0;31m---------------------------------------------------------------------------\u001b[0m",
      "\u001b[0;31mNameError\u001b[0m                                 Traceback (most recent call last)",
      "Input \u001b[0;32mIn [58]\u001b[0m, in \u001b[0;36m<cell line: 1>\u001b[0;34m()\u001b[0m\n\u001b[0;32m----> 1\u001b[0m scaled_x_train[[\u001b[38;5;124m'\u001b[39m\u001b[38;5;124mLCluster0\u001b[39m\u001b[38;5;124m'\u001b[39m,\u001b[38;5;124m'\u001b[39m\u001b[38;5;124mLCluster1\u001b[39m\u001b[38;5;124m'\u001b[39m,\u001b[38;5;124m'\u001b[39m\u001b[38;5;124mLCluster2\u001b[39m\u001b[38;5;124m'\u001b[39m,\u001b[38;5;124m'\u001b[39m\u001b[38;5;124mLCluster3\u001b[39m\u001b[38;5;124m'\u001b[39m,\u001b[38;5;124m'\u001b[39m\u001b[38;5;124mLCluster4\u001b[39m\u001b[38;5;124m'\u001b[39m]] \u001b[38;5;241m=\u001b[39m pd\u001b[38;5;241m.\u001b[39mget_dummies(\u001b[43mlocation_x_train\u001b[49m[\u001b[38;5;124m'\u001b[39m\u001b[38;5;124mbestLocation\u001b[39m\u001b[38;5;124m'\u001b[39m])\n\u001b[1;32m      2\u001b[0m scaled_x_train[[\u001b[38;5;124m'\u001b[39m\u001b[38;5;124mFCluster0\u001b[39m\u001b[38;5;124m'\u001b[39m,\u001b[38;5;124m'\u001b[39m\u001b[38;5;124mFCluster1\u001b[39m\u001b[38;5;124m'\u001b[39m,\u001b[38;5;124m'\u001b[39m\u001b[38;5;124mFCluster2\u001b[39m\u001b[38;5;124m'\u001b[39m,\u001b[38;5;124m'\u001b[39m\u001b[38;5;124mFCluster3\u001b[39m\u001b[38;5;124m'\u001b[39m]] \u001b[38;5;241m=\u001b[39mpd\u001b[38;5;241m.\u001b[39mget_dummies(foundation_x_train[\u001b[38;5;124m'\u001b[39m\u001b[38;5;124mbestFoundation\u001b[39m\u001b[38;5;124m'\u001b[39m])\n\u001b[1;32m      3\u001b[0m scaled_x_validate[[\u001b[38;5;124m'\u001b[39m\u001b[38;5;124mLCluster0\u001b[39m\u001b[38;5;124m'\u001b[39m,\u001b[38;5;124m'\u001b[39m\u001b[38;5;124mLCluster1\u001b[39m\u001b[38;5;124m'\u001b[39m,\u001b[38;5;124m'\u001b[39m\u001b[38;5;124mLCluster2\u001b[39m\u001b[38;5;124m'\u001b[39m,\u001b[38;5;124m'\u001b[39m\u001b[38;5;124mLCluster3\u001b[39m\u001b[38;5;124m'\u001b[39m,\u001b[38;5;124m'\u001b[39m\u001b[38;5;124mLCluster4\u001b[39m\u001b[38;5;124m'\u001b[39m]] \u001b[38;5;241m=\u001b[39m pd\u001b[38;5;241m.\u001b[39mget_dummies(scaled_x_validate[\u001b[38;5;124m'\u001b[39m\u001b[38;5;124mbestLocation\u001b[39m\u001b[38;5;124m'\u001b[39m])\n",
      "\u001b[0;31mNameError\u001b[0m: name 'location_x_train' is not defined"
     ]
    }
   ],
   "source": [
    "scaled_x_train[['LCluster0','LCluster1','LCluster2','LCluster3','LCluster4']] = pd.get_dummies(location_x_train['bestLocation'])\n",
    "scaled_x_train[['FCluster0','FCluster1','FCluster2','FCluster3']] =pd.get_dummies(foundation_x_train['bestFoundation'])\n",
    "scaled_x_validate[['LCluster0','LCluster1','LCluster2','LCluster3','LCluster4']] = pd.get_dummies(scaled_x_validate['bestLocation'])\n",
    "scaled_x_validate[['FCluster0','FCluster1','FCluster2','FCluster3']] =pd.get_dummies(scaled_x_validate['bestFoundation'])\n",
    "scaled_x_test[['LCluster0','LCluster1','LCluster2','LCluster3','LCluster4']] = pd.get_dummies(scaled_x_test['bestLocation'])\n",
    "scaled_x_test[['FCluster0','FCluster1','FCluster2','FCluster3']] =pd.get_dummies(scaled_x_test['bestFoundation'])"
   ]
  },
  {
   "cell_type": "code",
   "execution_count": 59,
   "metadata": {},
   "outputs": [
    {
     "ename": "NameError",
     "evalue": "name 'scaled_x_train' is not defined",
     "output_type": "error",
     "traceback": [
      "\u001b[0;31m---------------------------------------------------------------------------\u001b[0m",
      "\u001b[0;31mNameError\u001b[0m                                 Traceback (most recent call last)",
      "Input \u001b[0;32mIn [59]\u001b[0m, in \u001b[0;36m<cell line: 1>\u001b[0;34m()\u001b[0m\n\u001b[0;32m----> 1\u001b[0m scaled_x_train \u001b[38;5;241m=\u001b[39m \u001b[43mscaled_x_train\u001b[49m\u001b[38;5;241m.\u001b[39mdrop(columns \u001b[38;5;241m=\u001b[39m [\u001b[38;5;124m'\u001b[39m\u001b[38;5;124mLCluster1\u001b[39m\u001b[38;5;124m'\u001b[39m,\u001b[38;5;124m'\u001b[39m\u001b[38;5;124mLCluster2\u001b[39m\u001b[38;5;124m'\u001b[39m,\u001b[38;5;124m'\u001b[39m\u001b[38;5;124mLCluster3\u001b[39m\u001b[38;5;124m'\u001b[39m,\u001b[38;5;124m'\u001b[39m\u001b[38;5;124mFCluster0\u001b[39m\u001b[38;5;124m'\u001b[39m,\u001b[38;5;124m'\u001b[39m\u001b[38;5;124mFCluster1\u001b[39m\u001b[38;5;124m'\u001b[39m,\u001b[38;5;124m'\u001b[39m\u001b[38;5;124mFCluster3\u001b[39m\u001b[38;5;124m'\u001b[39m])\n\u001b[1;32m      2\u001b[0m scaled_x_validate \u001b[38;5;241m=\u001b[39m scaled_x_validate\u001b[38;5;241m.\u001b[39mdrop(columns \u001b[38;5;241m=\u001b[39m [\u001b[38;5;124m'\u001b[39m\u001b[38;5;124mbestLocation\u001b[39m\u001b[38;5;124m'\u001b[39m,\u001b[38;5;124m'\u001b[39m\u001b[38;5;124mLCluster1\u001b[39m\u001b[38;5;124m'\u001b[39m,\u001b[38;5;124m'\u001b[39m\u001b[38;5;124mLCluster2\u001b[39m\u001b[38;5;124m'\u001b[39m,\u001b[38;5;124m'\u001b[39m\u001b[38;5;124mLCluster3\u001b[39m\u001b[38;5;124m'\u001b[39m,\u001b[38;5;124m'\u001b[39m\u001b[38;5;124mFCluster0\u001b[39m\u001b[38;5;124m'\u001b[39m,\u001b[38;5;124m'\u001b[39m\u001b[38;5;124mFCluster1\u001b[39m\u001b[38;5;124m'\u001b[39m,\u001b[38;5;124m'\u001b[39m\u001b[38;5;124mFCluster3\u001b[39m\u001b[38;5;124m'\u001b[39m])\n\u001b[1;32m      3\u001b[0m scaled_x_test \u001b[38;5;241m=\u001b[39m scaled_x_test\u001b[38;5;241m.\u001b[39mdrop(columns \u001b[38;5;241m=\u001b[39m [\u001b[38;5;124m'\u001b[39m\u001b[38;5;124mbestLocation\u001b[39m\u001b[38;5;124m'\u001b[39m,\u001b[38;5;124m'\u001b[39m\u001b[38;5;124mbestFoundation\u001b[39m\u001b[38;5;124m'\u001b[39m,\u001b[38;5;124m'\u001b[39m\u001b[38;5;124mLCluster1\u001b[39m\u001b[38;5;124m'\u001b[39m,\u001b[38;5;124m'\u001b[39m\u001b[38;5;124mLCluster2\u001b[39m\u001b[38;5;124m'\u001b[39m,\u001b[38;5;124m'\u001b[39m\u001b[38;5;124mLCluster3\u001b[39m\u001b[38;5;124m'\u001b[39m,\u001b[38;5;124m'\u001b[39m\u001b[38;5;124mFCluster0\u001b[39m\u001b[38;5;124m'\u001b[39m,\u001b[38;5;124m'\u001b[39m\u001b[38;5;124mFCluster1\u001b[39m\u001b[38;5;124m'\u001b[39m,\u001b[38;5;124m'\u001b[39m\u001b[38;5;124mFCluster3\u001b[39m\u001b[38;5;124m'\u001b[39m])\n",
      "\u001b[0;31mNameError\u001b[0m: name 'scaled_x_train' is not defined"
     ]
    }
   ],
   "source": [
    "scaled_x_train = scaled_x_train.drop(columns = ['LCluster1','LCluster2','LCluster3','FCluster0','FCluster1','FCluster3'])\n",
    "scaled_x_validate = scaled_x_validate.drop(columns = ['bestLocation','LCluster1','LCluster2','LCluster3','FCluster0','FCluster1','FCluster3'])\n",
    "scaled_x_test = scaled_x_test.drop(columns = ['bestLocation','bestFoundation','LCluster1','LCluster2','LCluster3','FCluster0','FCluster1','FCluster3'])"
   ]
  },
  {
   "cell_type": "code",
   "execution_count": 60,
   "metadata": {},
   "outputs": [],
   "source": [
    "#unscaled_x_train = scaled_x_train\n",
    "#unscaled_x_validate = scaled_x_validate\n"
   ]
  },
  {
   "cell_type": "code",
   "execution_count": 61,
   "metadata": {},
   "outputs": [],
   "source": [
    "y_train = train.logerror\n",
    "y_train = pd.DataFrame(y_train)\n",
    "x_validate = validate[features]\n",
    "y_validate = validate.logerror\n",
    "y_validate = pd.DataFrame(y_validate)\n",
    "x_test = test[features]\n",
    "y_test = test.logerror"
   ]
  },
  {
   "cell_type": "code",
   "execution_count": 63,
   "metadata": {},
   "outputs": [
    {
     "ename": "NameError",
     "evalue": "name 'scaled_x_train' is not defined",
     "output_type": "error",
     "traceback": [
      "\u001b[0;31m---------------------------------------------------------------------------\u001b[0m",
      "\u001b[0;31mNameError\u001b[0m                                 Traceback (most recent call last)",
      "Input \u001b[0;32mIn [63]\u001b[0m, in \u001b[0;36m<cell line: 7>\u001b[0;34m()\u001b[0m\n\u001b[1;32m      3\u001b[0m lars \u001b[38;5;241m=\u001b[39m LassoLars(alpha\u001b[38;5;241m=\u001b[39m\u001b[38;5;241m1.0\u001b[39m)\n\u001b[1;32m      5\u001b[0m \u001b[38;5;66;03m# fit the model\u001b[39;00m\n\u001b[0;32m----> 7\u001b[0m lars\u001b[38;5;241m.\u001b[39mfit(\u001b[43mscaled_x_train\u001b[49m, y_train\u001b[38;5;241m.\u001b[39mlogerror)\n\u001b[1;32m      9\u001b[0m \u001b[38;5;66;03m# predict train\u001b[39;00m\n\u001b[1;32m     10\u001b[0m y_train[\u001b[38;5;124m'\u001b[39m\u001b[38;5;124mlogerror_pred_lars\u001b[39m\u001b[38;5;124m'\u001b[39m] \u001b[38;5;241m=\u001b[39m lars\u001b[38;5;241m.\u001b[39mpredict(scaled_x_train)\n",
      "\u001b[0;31mNameError\u001b[0m: name 'scaled_x_train' is not defined"
     ]
    }
   ],
   "source": [
    "\n",
    "#This is where I create my Lasso Lars model\n",
    "# create the model object\n",
    "lars = LassoLars(alpha=1.0)\n",
    "\n",
    "# fit the model\n",
    "\n",
    "lars.fit(scaled_x_train, y_train.logerror)\n",
    "\n",
    "# predict train\n",
    "y_train['logerror_pred_lars'] = lars.predict(scaled_x_train)\n",
    "\n",
    "# evaluate: rmse\n",
    "rmse_train = mean_squared_error(y_train.logerror, y_train.logerror_pred_lars) ** (1 / 2)\n",
    "\n",
    "# predict validate\n",
    "y_validate['logerror_pred_lars'] = lars.predict(x_validate)\n",
    "\n",
    "# evaluate: rmse\n",
    "rmse_validate = mean_squared_error(y_validate.logerror, y_validate.logerror_pred_lars) ** (1 / 2)\n",
    "\n",
    "print(\"RMSE for Lasso + Lars\\nTraining/In-Sample: \", rmse_train,\n",
    "      \"\\nValidation/Out-of-Sample: \", rmse_validate)\n"
   ]
  },
  {
   "cell_type": "code",
   "execution_count": null,
   "metadata": {},
   "outputs": [],
   "source": [
    "scaled_x_validate"
   ]
  },
  {
   "cell_type": "code",
   "execution_count": null,
   "metadata": {},
   "outputs": [],
   "source": [
    "scaled_x_train"
   ]
  },
  {
   "cell_type": "code",
   "execution_count": null,
   "metadata": {},
   "outputs": [],
   "source": [
    "train['LCluster0'] = scaled_x_train.LCluster0\n",
    "train['LCluster4'] = scaled_x_train.LCluster4\n",
    "train['FCluster2'] = scaled_x_train.FCluster2"
   ]
  },
  {
   "cell_type": "code",
   "execution_count": null,
   "metadata": {},
   "outputs": [],
   "source": [
    "modeling_feats = ['sqft','age','latitude','longitude','lotsizesquarefeet','beds','baths','LCluster0','LCluster4','FCluster2','taxvaluedollarcnt']\n",
    "location_feats = ['latitude','longitude','age','LCluster0','LCluster4']\n",
    "foundation_feats = ['sqft','lotsizesquarefeet','FCluster2']\n",
    "modeling_train_location = train[location_feats]\n",
    "modeling_train_foundation = train[foundation_feats]"
   ]
  },
  {
   "cell_type": "code",
   "execution_count": null,
   "metadata": {},
   "outputs": [],
   "source": [
    "scaled_x_train"
   ]
  },
  {
   "cell_type": "code",
   "execution_count": null,
   "metadata": {},
   "outputs": [],
   "source": [
    "scaled_model_train_location = w.scale_zillow(train, location_feats)"
   ]
  },
  {
   "cell_type": "code",
   "execution_count": null,
   "metadata": {},
   "outputs": [],
   "source": [
    "scaled_model_train_location = pd.DataFrame(scaled_model_train_location)"
   ]
  },
  {
   "cell_type": "code",
   "execution_count": null,
   "metadata": {},
   "outputs": [],
   "source": [
    "modeling_train_location"
   ]
  },
  {
   "cell_type": "code",
   "execution_count": 71,
   "metadata": {},
   "outputs": [
    {
     "name": "stdout",
     "output_type": "stream",
     "text": [
      "RMSE using Median\n",
      "Train/In-Sample:  0.18\n"
     ]
    }
   ],
   "source": [
    "# compute prop_value_pred_median\n",
    "logerror_pred_median = y_train['logerror'].median()\n",
    "y_train['logerror_pred_median'] = logerror_pred_median\n",
    "y_validate['logerror_pred_median'] = logerror_pred_median\n",
    "\n",
    "# RMSE of prop_value_pred_median\n",
    "rmse_baseline_train = mean_squared_error(y_train.logerror, y_train.logerror_pred_median)**(1/2)\n",
    "rmse_baseline_validate = mean_squared_error(y_validate.logerror, y_validate.logerror_pred_median)**(1/2)\n",
    "\n",
    "#printing results of baseline model\n",
    "print(\"RMSE using Median\\nTrain/In-Sample: \", round(rmse_baseline_train, 2),)\n"
   ]
  },
  {
   "cell_type": "code",
   "execution_count": null,
   "metadata": {},
   "outputs": [],
   "source": [
    "\n",
    "#This is where I create my Lasso Lars model\n",
    "# create the model object\n",
    "lars = LassoLars(alpha=1.0)\n",
    "\n",
    "# fit the model\n",
    "\n",
    "lars.fit(modeling_train_location, y_train.logerror)\n",
    "\n",
    "# predict train\n",
    "y_train['logerror_pred_lars'] = lars.predict(modeling_train_location)\n",
    "\n",
    "# evaluate: rmse\n",
    "rmse_train = mean_squared_error(y_train.logerror, y_train.logerror_pred_lars) ** (1 / 2)\n",
    "\n",
    "# predict validate\n",
    "y_validate['logerror_pred_lars'] = lars.predict(scaled_x_validate[location_feats])\n",
    "\n",
    "# evaluate: rmse\n",
    "rmse_validate = mean_squared_error(y_validate.logerror, y_validate.logerror_pred_lars) ** (1 / 2)\n",
    "\n",
    "print(\"RMSE for Lasso + Lars\\nTraining/In-Sample: \", rmse_train,\n",
    "      \"\\nValidation/Out-of-Sample: \", rmse_validate)\n"
   ]
  },
  {
   "cell_type": "code",
   "execution_count": null,
   "metadata": {},
   "outputs": [],
   "source": [
    "foundation_feats"
   ]
  },
  {
   "cell_type": "code",
   "execution_count": null,
   "metadata": {},
   "outputs": [],
   "source": [
    "\n",
    "#This is where I create my Lasso Lars model\n",
    "# create the model object\n",
    "lars = LassoLars(alpha=1.0)\n",
    "\n",
    "# fit the model\n",
    "\n",
    "lars.fit(modeling_train_foundation, y_train.logerror)\n",
    "\n",
    "# predict train\n",
    "y_train['logerror_pred_lars'] = lars.predict(modeling_train_foundation)\n",
    "\n",
    "# evaluate: rmse\n",
    "rmse_train = mean_squared_error(y_train.logerror, y_train.logerror_pred_lars) ** (1 / 2)\n",
    "\n",
    "# predict validate\n",
    "y_validate['logerror_pred_lars'] = lars.predict(scaled_x_validate[foundation_feats])\n",
    "\n",
    "# evaluate: rmse\n",
    "rmse_validate = mean_squared_error(y_validate.logerror, y_validate.logerror_pred_lars) ** (1 / 2)\n",
    "\n",
    "print(\"RMSE for Lasso + Lars\\nTraining/In-Sample: \", rmse_train,\n",
    "      \"\\nValidation/Out-of-Sample: \", rmse_validate)\n"
   ]
  },
  {
   "cell_type": "code",
   "execution_count": null,
   "metadata": {},
   "outputs": [],
   "source": [
    "def polynomialmodel(scaled_x_train[location_feats],scaled_x_validate[location_feats],scaled_x_test[location_feats],y_validate)\n",
    "pf = PolynomialFeatures(degree=2)\n",
    "\n",
    "# fit and transform X_train_scaled\n",
    "x_train_degree2Location = pf.fit_transform(scaled_x_train[location_feats])\n",
    "\n",
    "# transform X_validate_scaled & X_test_scaled\n",
    "x_validate_degree2Location = pf.transform(scaled_x_validate[location_feats])\n",
    "x_test_degree2Location = pf.transform(scaled_x_test[location_feats])\n",
    "\n",
    "# create the model object\n",
    "lm2Location = LinearRegression(normalize=True)\n",
    "\n",
    "# fit the model to our training data. We must specify the column in y_train,\n",
    "# since we have converted it to a dataframe from a series!\n",
    "lm2Location.fit(x_train_degree2Location, y_train.logerror)\n",
    "\n",
    "# predict train\n",
    "y_train['logerror_pred_lm2Loc'] = lm2Location.predict(x_train_degree2Location)\n",
    "\n",
    "# evaluate: rmse\n",
    "rmse_train = mean_squared_error(y_train.logerror, y_train.logerror_pred_lm2Loc) ** (1 / 2)\n",
    "\n",
    "# predict validate\n",
    "y_validate['logerror_pred_lm2Loc'] = lm2Location.predict(x_validate_degree2Location)\n",
    "\n",
    "# evaluate: rmse\n",
    "rmse_validate = mean_squared_error(validate.logerror, y_validate.logerror_pred_lm2Loc) ** (1 / 2)\n",
    "\n",
    "print(\"RMSE for Polynomial Model, degrees=2\\nTraining/In-Sample: \", rmse_train,\n",
    "      \"\\nValidation/Out-of-Sample: \", rmse_validate)"
   ]
  },
  {
   "cell_type": "code",
   "execution_count": null,
   "metadata": {},
   "outputs": [],
   "source": [
    "validate"
   ]
  },
  {
   "cell_type": "code",
   "execution_count": null,
   "metadata": {},
   "outputs": [],
   "source": [
    "modeling_train_location"
   ]
  },
  {
   "cell_type": "code",
   "execution_count": null,
   "metadata": {},
   "outputs": [],
   "source": [
    "modeling_train_foundation"
   ]
  },
  {
   "cell_type": "code",
   "execution_count": null,
   "metadata": {},
   "outputs": [],
   "source": [
    "y_train"
   ]
  },
  {
   "cell_type": "code",
   "execution_count": null,
   "metadata": {},
   "outputs": [],
   "source": []
  }
 ],
 "metadata": {
  "kernelspec": {
   "display_name": "Python 3 (ipykernel)",
   "language": "python",
   "name": "python3"
  },
  "language_info": {
   "codemirror_mode": {
    "name": "ipython",
    "version": 3
   },
   "file_extension": ".py",
   "mimetype": "text/x-python",
   "name": "python",
   "nbconvert_exporter": "python",
   "pygments_lexer": "ipython3",
   "version": "3.9.12"
  }
 },
 "nbformat": 4,
 "nbformat_minor": 1
}
