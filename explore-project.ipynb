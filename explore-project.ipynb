{
 "cells": [
  {
   "cell_type": "code",
   "execution_count": 1,
   "metadata": {
    "collapsed": true
   },
   "outputs": [],
   "source": [
    "import pandas as pd\n",
    "import numpy as np\n",
    "import matplotlib.pyplot as plt\n",
    "from sklearn.preprocessing import MinMaxScaler\n",
    "from env import get_db_url\n",
    "import wrangle_zillow as w\n",
    "from sklearn.preprocessing import MinMaxScaler\n",
    "from sklearn.cluster import KMeans"
   ]
  },
  {
   "cell_type": "code",
   "execution_count": 2,
   "outputs": [],
   "source": [
    "# creating df variable"
   ],
   "metadata": {
    "collapsed": false
   }
  },
  {
   "cell_type": "code",
   "execution_count": 3,
   "outputs": [],
   "source": [
    "df = w.get_zillow_data()"
   ],
   "metadata": {
    "collapsed": false
   }
  },
  {
   "cell_type": "code",
   "execution_count": 3,
   "outputs": [],
   "source": [],
   "metadata": {
    "collapsed": false
   }
  },
  {
   "cell_type": "code",
   "execution_count": 4,
   "outputs": [],
   "source": [
    "columns = ['buildingqualitytypeid','heatingorsystemdesc','heatingorsystemtypeid','unitcnt','propertyzoningdesc','propertylandusedesc','parcelid.1','id.1','censustractandblock']"
   ],
   "metadata": {
    "collapsed": false
   }
  },
  {
   "cell_type": "code",
   "execution_count": 5,
   "outputs": [],
   "source": [
    "#using handle missing values function\n",
    "df = w.data_prep(df,columns)"
   ],
   "metadata": {
    "collapsed": false
   }
  },
  {
   "cell_type": "code",
   "execution_count": 6,
   "outputs": [
    {
     "name": "stdout",
     "output_type": "stream",
     "text": [
      "<class 'pandas.core.frame.DataFrame'>\n",
      "Int64Index: 50604 entries, 0 to 52318\n",
      "Data columns (total 28 columns):\n",
      " #   Column                      Non-Null Count  Dtype  \n",
      "---  ------                      --------------  -----  \n",
      " 0   propertylandusetypeid       50604 non-null  float64\n",
      " 1   parcelid                    50604 non-null  int64  \n",
      " 2   id                          50604 non-null  int64  \n",
      " 3   baths                       50604 non-null  float64\n",
      " 4   beds                        50604 non-null  float64\n",
      " 5   calculatedbathnbr           50604 non-null  float64\n",
      " 6   sqft                        50604 non-null  float64\n",
      " 7   finishedsquarefeet12        50604 non-null  float64\n",
      " 8   fips                        50604 non-null  float64\n",
      " 9   fullbathcnt                 50604 non-null  float64\n",
      " 10  latitude                    50604 non-null  float64\n",
      " 11  longitude                   50604 non-null  float64\n",
      " 12  lotsizesquarefeet           50604 non-null  float64\n",
      " 13  propertycountylandusecode   50604 non-null  object \n",
      " 14  rawcensustractandblock      50604 non-null  float64\n",
      " 15  regionidcity                50604 non-null  float64\n",
      " 16  regionidcounty              50604 non-null  float64\n",
      " 17  regionidzip                 50604 non-null  float64\n",
      " 18  total_rooms                 50604 non-null  float64\n",
      " 19  age                         50604 non-null  float64\n",
      " 20  structuretaxvaluedollarcnt  50604 non-null  float64\n",
      " 21  property_value              50604 non-null  float64\n",
      " 22  assessmentyear              50604 non-null  float64\n",
      " 23  landtaxvaluedollarcnt       50604 non-null  float64\n",
      " 24  taxamount                   50604 non-null  float64\n",
      " 25  max_transactiondate         50604 non-null  object \n",
      " 26  logerror                    50604 non-null  float64\n",
      " 27  transactiondate             50604 non-null  object \n",
      "dtypes: float64(23), int64(2), object(3)\n",
      "memory usage: 11.2+ MB\n"
     ]
    }
   ],
   "source": [
    "df.info()"
   ],
   "metadata": {
    "collapsed": false
   }
  },
  {
   "cell_type": "markdown",
   "source": [],
   "metadata": {
    "collapsed": false
   }
  },
  {
   "cell_type": "code",
   "execution_count": 7,
   "outputs": [
    {
     "name": "stderr",
     "output_type": "stream",
     "text": [
      "/Users/zacharystufflebeme/codeup-data-science/zach-allante/clustering-project/wrangle_zillow.py:75: SettingWithCopyWarning: \n",
      "A value is trying to be set on a copy of a slice from a DataFrame\n",
      "\n",
      "See the caveats in the documentation: https://pandas.pydata.org/pandas-docs/stable/user_guide/indexing.html#returning-a-view-versus-a-copy\n",
      "  df.orange_county[df.location == 1] = 1\n",
      "/Users/zacharystufflebeme/codeup-data-science/zach-allante/clustering-project/wrangle_zillow.py:76: SettingWithCopyWarning: \n",
      "A value is trying to be set on a copy of a slice from a DataFrame\n",
      "\n",
      "See the caveats in the documentation: https://pandas.pydata.org/pandas-docs/stable/user_guide/indexing.html#returning-a-view-versus-a-copy\n",
      "  df.ventura[df.location == 2] = 1\n",
      "/Users/zacharystufflebeme/codeup-data-science/zach-allante/clustering-project/wrangle_zillow.py:77: SettingWithCopyWarning: \n",
      "A value is trying to be set on a copy of a slice from a DataFrame\n",
      "\n",
      "See the caveats in the documentation: https://pandas.pydata.org/pandas-docs/stable/user_guide/indexing.html#returning-a-view-versus-a-copy\n",
      "  df.losangeles[df.location == 0] = 1\n"
     ]
    }
   ],
   "source": [
    "df = w.prepare_zillow(df)"
   ],
   "metadata": {
    "collapsed": false
   }
  },
  {
   "cell_type": "code",
   "execution_count": 8,
   "outputs": [
    {
     "name": "stdout",
     "output_type": "stream",
     "text": [
      "<class 'pandas.core.frame.DataFrame'>\n",
      "Int64Index: 50604 entries, 0 to 52318\n",
      "Data columns (total 32 columns):\n",
      " #   Column                      Non-Null Count  Dtype  \n",
      "---  ------                      --------------  -----  \n",
      " 0   propertylandusetypeid       50604 non-null  float64\n",
      " 1   parcelid                    50604 non-null  int64  \n",
      " 2   id                          50604 non-null  int64  \n",
      " 3   baths                       50604 non-null  float64\n",
      " 4   beds                        50604 non-null  float64\n",
      " 5   calculatedbathnbr           50604 non-null  float64\n",
      " 6   sqft                        50604 non-null  float64\n",
      " 7   finishedsquarefeet12        50604 non-null  float64\n",
      " 8   fips                        50604 non-null  object \n",
      " 9   fullbathcnt                 50604 non-null  float64\n",
      " 10  latitude                    50604 non-null  float64\n",
      " 11  longitude                   50604 non-null  float64\n",
      " 12  lotsizesquarefeet           50604 non-null  float64\n",
      " 13  propertycountylandusecode   50604 non-null  object \n",
      " 14  rawcensustractandblock      50604 non-null  float64\n",
      " 15  regionidcity                50604 non-null  float64\n",
      " 16  regionidcounty              50604 non-null  float64\n",
      " 17  regionidzip                 50604 non-null  float64\n",
      " 18  total_rooms                 50604 non-null  float64\n",
      " 19  age                         50604 non-null  float64\n",
      " 20  structuretaxvaluedollarcnt  50604 non-null  float64\n",
      " 21  property_value              50604 non-null  float64\n",
      " 22  assessmentyear              50604 non-null  float64\n",
      " 23  landtaxvaluedollarcnt       50604 non-null  float64\n",
      " 24  taxamount                   50604 non-null  float64\n",
      " 25  max_transactiondate         50604 non-null  object \n",
      " 26  logerror                    50604 non-null  float64\n",
      " 27  transactiondate             50604 non-null  object \n",
      " 28  location                    50604 non-null  int64  \n",
      " 29  orange_county               50604 non-null  int64  \n",
      " 30  ventura                     50604 non-null  int64  \n",
      " 31  losangeles                  50604 non-null  int64  \n",
      "dtypes: float64(22), int64(6), object(4)\n",
      "memory usage: 12.7+ MB\n"
     ]
    }
   ],
   "source": [
    "df.info()"
   ],
   "metadata": {
    "collapsed": false
   }
  },
  {
   "cell_type": "code",
   "execution_count": 9,
   "outputs": [],
   "source": [
    "train, validate, test = w.wrangle_zillow(df)"
   ],
   "metadata": {
    "collapsed": false
   }
  },
  {
   "cell_type": "code",
   "execution_count": 10,
   "outputs": [
    {
     "data": {
      "text/plain": "       propertylandusetypeid  parcelid       id  baths  beds  \\\n13535                  261.0  12397906    66906    1.0   2.0   \n30453                  261.0  14380619  2800936    3.0   3.0   \n13337                  261.0  12902896  1127949    2.0   3.0   \n7660                   261.0  11568321  2658421    6.0   5.0   \n34175                  261.0  13100555  1758804    5.0   5.0   \n...                      ...       ...      ...    ...   ...   \n38066                  261.0  14238880   638264    2.0   3.0   \n48425                  261.0  12438510  2110521    3.0   5.0   \n19647                  261.0  11508139  2077101    2.0   3.0   \n21717                  261.0  14314819   161303    2.0   3.0   \n14227                  261.0  17165634  2804111    2.0   6.0   \n\n       calculatedbathnbr    sqft  finishedsquarefeet12               fips  \\\n13535                1.0   872.0                 872.0     Los Angeles CA   \n30453                3.0  2260.0                2260.0   Orange County CA   \n13337                2.0  1091.0                1091.0     Los Angeles CA   \n7660                 6.0  4783.0                4783.0     Los Angeles CA   \n34175                5.0  4425.0                4425.0     Los Angeles CA   \n...                  ...     ...                   ...                ...   \n38066                2.0  1611.0                1611.0   Orange County CA   \n48425                3.0  2652.0                2652.0     Los Angeles CA   \n19647                2.0  1962.0                1962.0     Los Angeles CA   \n21717                2.0  1714.0                1714.0   Orange County CA   \n14227                2.0  2526.0                2526.0  Ventura County CA   \n\n       fullbathcnt  ...  assessmentyear  landtaxvaluedollarcnt  taxamount  \\\n13535          1.0  ...          2016.0               266297.0    4357.93   \n30453          3.0  ...          2016.0               142053.0    3515.14   \n13337          2.0  ...          2016.0                50642.0    1893.90   \n7660           6.0  ...          2016.0              2288518.0   47785.18   \n34175          5.0  ...          2016.0               540465.0   14379.50   \n...            ...  ...             ...                    ...        ...   \n38066          2.0  ...          2016.0               548239.0    7041.04   \n48425          3.0  ...          2016.0               414596.0    9365.87   \n19647          2.0  ...          2016.0               276422.0    4630.60   \n21717          2.0  ...          2016.0               271335.0    4590.46   \n14227          2.0  ...          2016.0                14577.0    1082.46   \n\n      max_transactiondate  logerror  transactiondate  location  orange_county  \\\n13535          2017-03-24  0.026998       2017-03-24         0              0   \n30453          2017-06-09  0.037181       2017-06-09         1              1   \n13337          2017-03-24  0.019205       2017-03-24         0              0   \n7660           2017-02-22  0.037875       2017-02-22         0              0   \n34175          2017-06-27  0.002652       2017-06-27         0              0   \n...                   ...       ...              ...       ...            ...   \n38066          2017-07-12 -0.006377       2017-07-12         1              1   \n48425          2017-08-30 -0.008494       2017-08-30         0              0   \n19647          2017-04-25  0.680864       2017-04-25         0              0   \n21717          2017-05-03  0.038707       2017-05-03         1              1   \n14227          2017-08-01 -0.050630       2017-08-01         2              0   \n\n       ventura  losangeles  \n13535        0           1  \n30453        0           0  \n13337        0           1  \n7660         0           1  \n34175        0           1  \n...        ...         ...  \n38066        0           0  \n48425        0           1  \n19647        0           1  \n21717        0           0  \n14227        1           0  \n\n[28338 rows x 32 columns]",
      "text/html": "<div>\n<style scoped>\n    .dataframe tbody tr th:only-of-type {\n        vertical-align: middle;\n    }\n\n    .dataframe tbody tr th {\n        vertical-align: top;\n    }\n\n    .dataframe thead th {\n        text-align: right;\n    }\n</style>\n<table border=\"1\" class=\"dataframe\">\n  <thead>\n    <tr style=\"text-align: right;\">\n      <th></th>\n      <th>propertylandusetypeid</th>\n      <th>parcelid</th>\n      <th>id</th>\n      <th>baths</th>\n      <th>beds</th>\n      <th>calculatedbathnbr</th>\n      <th>sqft</th>\n      <th>finishedsquarefeet12</th>\n      <th>fips</th>\n      <th>fullbathcnt</th>\n      <th>...</th>\n      <th>assessmentyear</th>\n      <th>landtaxvaluedollarcnt</th>\n      <th>taxamount</th>\n      <th>max_transactiondate</th>\n      <th>logerror</th>\n      <th>transactiondate</th>\n      <th>location</th>\n      <th>orange_county</th>\n      <th>ventura</th>\n      <th>losangeles</th>\n    </tr>\n  </thead>\n  <tbody>\n    <tr>\n      <th>13535</th>\n      <td>261.0</td>\n      <td>12397906</td>\n      <td>66906</td>\n      <td>1.0</td>\n      <td>2.0</td>\n      <td>1.0</td>\n      <td>872.0</td>\n      <td>872.0</td>\n      <td>Los Angeles CA</td>\n      <td>1.0</td>\n      <td>...</td>\n      <td>2016.0</td>\n      <td>266297.0</td>\n      <td>4357.93</td>\n      <td>2017-03-24</td>\n      <td>0.026998</td>\n      <td>2017-03-24</td>\n      <td>0</td>\n      <td>0</td>\n      <td>0</td>\n      <td>1</td>\n    </tr>\n    <tr>\n      <th>30453</th>\n      <td>261.0</td>\n      <td>14380619</td>\n      <td>2800936</td>\n      <td>3.0</td>\n      <td>3.0</td>\n      <td>3.0</td>\n      <td>2260.0</td>\n      <td>2260.0</td>\n      <td>Orange County CA</td>\n      <td>3.0</td>\n      <td>...</td>\n      <td>2016.0</td>\n      <td>142053.0</td>\n      <td>3515.14</td>\n      <td>2017-06-09</td>\n      <td>0.037181</td>\n      <td>2017-06-09</td>\n      <td>1</td>\n      <td>1</td>\n      <td>0</td>\n      <td>0</td>\n    </tr>\n    <tr>\n      <th>13337</th>\n      <td>261.0</td>\n      <td>12902896</td>\n      <td>1127949</td>\n      <td>2.0</td>\n      <td>3.0</td>\n      <td>2.0</td>\n      <td>1091.0</td>\n      <td>1091.0</td>\n      <td>Los Angeles CA</td>\n      <td>2.0</td>\n      <td>...</td>\n      <td>2016.0</td>\n      <td>50642.0</td>\n      <td>1893.90</td>\n      <td>2017-03-24</td>\n      <td>0.019205</td>\n      <td>2017-03-24</td>\n      <td>0</td>\n      <td>0</td>\n      <td>0</td>\n      <td>1</td>\n    </tr>\n    <tr>\n      <th>7660</th>\n      <td>261.0</td>\n      <td>11568321</td>\n      <td>2658421</td>\n      <td>6.0</td>\n      <td>5.0</td>\n      <td>6.0</td>\n      <td>4783.0</td>\n      <td>4783.0</td>\n      <td>Los Angeles CA</td>\n      <td>6.0</td>\n      <td>...</td>\n      <td>2016.0</td>\n      <td>2288518.0</td>\n      <td>47785.18</td>\n      <td>2017-02-22</td>\n      <td>0.037875</td>\n      <td>2017-02-22</td>\n      <td>0</td>\n      <td>0</td>\n      <td>0</td>\n      <td>1</td>\n    </tr>\n    <tr>\n      <th>34175</th>\n      <td>261.0</td>\n      <td>13100555</td>\n      <td>1758804</td>\n      <td>5.0</td>\n      <td>5.0</td>\n      <td>5.0</td>\n      <td>4425.0</td>\n      <td>4425.0</td>\n      <td>Los Angeles CA</td>\n      <td>5.0</td>\n      <td>...</td>\n      <td>2016.0</td>\n      <td>540465.0</td>\n      <td>14379.50</td>\n      <td>2017-06-27</td>\n      <td>0.002652</td>\n      <td>2017-06-27</td>\n      <td>0</td>\n      <td>0</td>\n      <td>0</td>\n      <td>1</td>\n    </tr>\n    <tr>\n      <th>...</th>\n      <td>...</td>\n      <td>...</td>\n      <td>...</td>\n      <td>...</td>\n      <td>...</td>\n      <td>...</td>\n      <td>...</td>\n      <td>...</td>\n      <td>...</td>\n      <td>...</td>\n      <td>...</td>\n      <td>...</td>\n      <td>...</td>\n      <td>...</td>\n      <td>...</td>\n      <td>...</td>\n      <td>...</td>\n      <td>...</td>\n      <td>...</td>\n      <td>...</td>\n      <td>...</td>\n    </tr>\n    <tr>\n      <th>38066</th>\n      <td>261.0</td>\n      <td>14238880</td>\n      <td>638264</td>\n      <td>2.0</td>\n      <td>3.0</td>\n      <td>2.0</td>\n      <td>1611.0</td>\n      <td>1611.0</td>\n      <td>Orange County CA</td>\n      <td>2.0</td>\n      <td>...</td>\n      <td>2016.0</td>\n      <td>548239.0</td>\n      <td>7041.04</td>\n      <td>2017-07-12</td>\n      <td>-0.006377</td>\n      <td>2017-07-12</td>\n      <td>1</td>\n      <td>1</td>\n      <td>0</td>\n      <td>0</td>\n    </tr>\n    <tr>\n      <th>48425</th>\n      <td>261.0</td>\n      <td>12438510</td>\n      <td>2110521</td>\n      <td>3.0</td>\n      <td>5.0</td>\n      <td>3.0</td>\n      <td>2652.0</td>\n      <td>2652.0</td>\n      <td>Los Angeles CA</td>\n      <td>3.0</td>\n      <td>...</td>\n      <td>2016.0</td>\n      <td>414596.0</td>\n      <td>9365.87</td>\n      <td>2017-08-30</td>\n      <td>-0.008494</td>\n      <td>2017-08-30</td>\n      <td>0</td>\n      <td>0</td>\n      <td>0</td>\n      <td>1</td>\n    </tr>\n    <tr>\n      <th>19647</th>\n      <td>261.0</td>\n      <td>11508139</td>\n      <td>2077101</td>\n      <td>2.0</td>\n      <td>3.0</td>\n      <td>2.0</td>\n      <td>1962.0</td>\n      <td>1962.0</td>\n      <td>Los Angeles CA</td>\n      <td>2.0</td>\n      <td>...</td>\n      <td>2016.0</td>\n      <td>276422.0</td>\n      <td>4630.60</td>\n      <td>2017-04-25</td>\n      <td>0.680864</td>\n      <td>2017-04-25</td>\n      <td>0</td>\n      <td>0</td>\n      <td>0</td>\n      <td>1</td>\n    </tr>\n    <tr>\n      <th>21717</th>\n      <td>261.0</td>\n      <td>14314819</td>\n      <td>161303</td>\n      <td>2.0</td>\n      <td>3.0</td>\n      <td>2.0</td>\n      <td>1714.0</td>\n      <td>1714.0</td>\n      <td>Orange County CA</td>\n      <td>2.0</td>\n      <td>...</td>\n      <td>2016.0</td>\n      <td>271335.0</td>\n      <td>4590.46</td>\n      <td>2017-05-03</td>\n      <td>0.038707</td>\n      <td>2017-05-03</td>\n      <td>1</td>\n      <td>1</td>\n      <td>0</td>\n      <td>0</td>\n    </tr>\n    <tr>\n      <th>14227</th>\n      <td>261.0</td>\n      <td>17165634</td>\n      <td>2804111</td>\n      <td>2.0</td>\n      <td>6.0</td>\n      <td>2.0</td>\n      <td>2526.0</td>\n      <td>2526.0</td>\n      <td>Ventura County CA</td>\n      <td>2.0</td>\n      <td>...</td>\n      <td>2016.0</td>\n      <td>14577.0</td>\n      <td>1082.46</td>\n      <td>2017-08-01</td>\n      <td>-0.050630</td>\n      <td>2017-08-01</td>\n      <td>2</td>\n      <td>0</td>\n      <td>1</td>\n      <td>0</td>\n    </tr>\n  </tbody>\n</table>\n<p>28338 rows × 32 columns</p>\n</div>"
     },
     "execution_count": 10,
     "metadata": {},
     "output_type": "execute_result"
    }
   ],
   "source": [
    "train"
   ],
   "metadata": {
    "collapsed": false
   }
  },
  {
   "cell_type": "code",
   "execution_count": 11,
   "outputs": [],
   "source": [
    "trainExplore = train\n",
    "trainExplore['logerror_bin'] = pd.cut(train.logerror, [-5,-1,-.75,-.5,-.25,0,.25,.50,.75, 1, 5])\n",
    "trainExplore['latitude_bin'] = pd.cut(train.latitude, [0,33600000,34200000,34600000,35000000])\n",
    "trainExplore['longitude_bin'] = pd.cut(train.longitude, [-119200000,-119000000,-118600000,-117800000,0])\n",
    "trainExplore['squarefeet_bin'] = pd.cut(train.sqft,[0,3000,8000,12000])\n",
    "trainExplore['age_bin'] = pd.cut(train.age, [0,30,60,90,120])\n",
    "trainExplore['lowerrors'] = pd.cut(train.logerror, [-.25,0,.25,.5])\n",
    "train = train[train.lotsizesquarefeet < 100000]"
   ],
   "metadata": {
    "collapsed": false
   }
  },
  {
   "cell_type": "code",
   "execution_count": 12,
   "outputs": [],
   "source": [
    "impfeats = ['sqft','age','latitude','longitude','lotsizesquarefeet']\n"
   ],
   "metadata": {
    "collapsed": false
   }
  },
  {
   "cell_type": "code",
   "execution_count": 13,
   "outputs": [],
   "source": [
    "trainv= train.dropna()"
   ],
   "metadata": {
    "collapsed": false
   }
  },
  {
   "cell_type": "code",
   "execution_count": 14,
   "outputs": [],
   "source": [
    "imp_df = train[impfeats]"
   ],
   "metadata": {
    "collapsed": false
   }
  },
  {
   "cell_type": "code",
   "execution_count": 15,
   "outputs": [
    {
     "data": {
      "text/plain": "         sqft   age    latitude    longitude  lotsizesquarefeet\n13535   872.0  71.0  33957440.0 -118094485.0             5180.0\n30453  2260.0  46.0  33616842.0 -117684836.0             7000.0\n13337  1091.0  61.0  34101957.0 -117830613.0             7487.0\n7660   4783.0   9.0  34044340.0 -118470565.0            10689.0\n34175  4425.0  23.0  33991489.0 -117846502.0            10375.0",
      "text/html": "<div>\n<style scoped>\n    .dataframe tbody tr th:only-of-type {\n        vertical-align: middle;\n    }\n\n    .dataframe tbody tr th {\n        vertical-align: top;\n    }\n\n    .dataframe thead th {\n        text-align: right;\n    }\n</style>\n<table border=\"1\" class=\"dataframe\">\n  <thead>\n    <tr style=\"text-align: right;\">\n      <th></th>\n      <th>sqft</th>\n      <th>age</th>\n      <th>latitude</th>\n      <th>longitude</th>\n      <th>lotsizesquarefeet</th>\n    </tr>\n  </thead>\n  <tbody>\n    <tr>\n      <th>13535</th>\n      <td>872.0</td>\n      <td>71.0</td>\n      <td>33957440.0</td>\n      <td>-118094485.0</td>\n      <td>5180.0</td>\n    </tr>\n    <tr>\n      <th>30453</th>\n      <td>2260.0</td>\n      <td>46.0</td>\n      <td>33616842.0</td>\n      <td>-117684836.0</td>\n      <td>7000.0</td>\n    </tr>\n    <tr>\n      <th>13337</th>\n      <td>1091.0</td>\n      <td>61.0</td>\n      <td>34101957.0</td>\n      <td>-117830613.0</td>\n      <td>7487.0</td>\n    </tr>\n    <tr>\n      <th>7660</th>\n      <td>4783.0</td>\n      <td>9.0</td>\n      <td>34044340.0</td>\n      <td>-118470565.0</td>\n      <td>10689.0</td>\n    </tr>\n    <tr>\n      <th>34175</th>\n      <td>4425.0</td>\n      <td>23.0</td>\n      <td>33991489.0</td>\n      <td>-117846502.0</td>\n      <td>10375.0</td>\n    </tr>\n  </tbody>\n</table>\n</div>"
     },
     "execution_count": 15,
     "metadata": {},
     "output_type": "execute_result"
    }
   ],
   "source": [
    "imp_df.head()"
   ],
   "metadata": {
    "collapsed": false
   }
  },
  {
   "cell_type": "code",
   "execution_count": 16,
   "outputs": [
    {
     "data": {
      "text/plain": "       propertylandusetypeid  parcelid       id  baths  beds  \\\n13535                  261.0  12397906    66906    1.0   2.0   \n30453                  261.0  14380619  2800936    3.0   3.0   \n13337                  261.0  12902896  1127949    2.0   3.0   \n7660                   261.0  11568321  2658421    6.0   5.0   \n34175                  261.0  13100555  1758804    5.0   5.0   \n...                      ...       ...      ...    ...   ...   \n38066                  261.0  14238880   638264    2.0   3.0   \n48425                  261.0  12438510  2110521    3.0   5.0   \n19647                  261.0  11508139  2077101    2.0   3.0   \n21717                  261.0  14314819   161303    2.0   3.0   \n14227                  261.0  17165634  2804111    2.0   6.0   \n\n       calculatedbathnbr    sqft  finishedsquarefeet12               fips  \\\n13535                1.0   872.0                 872.0     Los Angeles CA   \n30453                3.0  2260.0                2260.0   Orange County CA   \n13337                2.0  1091.0                1091.0     Los Angeles CA   \n7660                 6.0  4783.0                4783.0     Los Angeles CA   \n34175                5.0  4425.0                4425.0     Los Angeles CA   \n...                  ...     ...                   ...                ...   \n38066                2.0  1611.0                1611.0   Orange County CA   \n48425                3.0  2652.0                2652.0     Los Angeles CA   \n19647                2.0  1962.0                1962.0     Los Angeles CA   \n21717                2.0  1714.0                1714.0   Orange County CA   \n14227                2.0  2526.0                2526.0  Ventura County CA   \n\n       fullbathcnt  ...  location  orange_county  ventura losangeles  \\\n13535          1.0  ...         0              0        0          1   \n30453          3.0  ...         1              1        0          0   \n13337          2.0  ...         0              0        0          1   \n7660           6.0  ...         0              0        0          1   \n34175          5.0  ...         0              0        0          1   \n...            ...  ...       ...            ...      ...        ...   \n38066          2.0  ...         1              1        0          0   \n48425          3.0  ...         0              0        0          1   \n19647          2.0  ...         0              0        0          1   \n21717          2.0  ...         1              1        0          0   \n14227          2.0  ...         2              0        1          0   \n\n       logerror_bin          latitude_bin             longitude_bin  \\\n13535   (0.0, 0.25]  (33600000, 34200000]  (-118600000, -117800000]   \n30453   (0.0, 0.25]  (33600000, 34200000]           (-117800000, 0]   \n13337   (0.0, 0.25]  (33600000, 34200000]  (-118600000, -117800000]   \n7660    (0.0, 0.25]  (33600000, 34200000]  (-118600000, -117800000]   \n34175   (0.0, 0.25]  (33600000, 34200000]  (-118600000, -117800000]   \n...             ...                   ...                       ...   \n38066  (-0.25, 0.0]  (33600000, 34200000]  (-118600000, -117800000]   \n48425  (-0.25, 0.0]  (33600000, 34200000]  (-118600000, -117800000]   \n19647   (0.5, 0.75]  (33600000, 34200000]  (-118600000, -117800000]   \n21717   (0.0, 0.25]  (33600000, 34200000]  (-118600000, -117800000]   \n14227  (-0.25, 0.0]  (33600000, 34200000]  (-119200000, -119000000]   \n\n       squarefeet_bin   age_bin     lowerrors  \n13535       (0, 3000]  (60, 90]   (0.0, 0.25]  \n30453       (0, 3000]  (30, 60]   (0.0, 0.25]  \n13337       (0, 3000]  (60, 90]   (0.0, 0.25]  \n7660     (3000, 8000]   (0, 30]   (0.0, 0.25]  \n34175    (3000, 8000]   (0, 30]   (0.0, 0.25]  \n...               ...       ...           ...  \n38066       (0, 3000]  (60, 90]  (-0.25, 0.0]  \n48425       (0, 3000]  (30, 60]  (-0.25, 0.0]  \n19647       (0, 3000]  (60, 90]           NaN  \n21717       (0, 3000]  (30, 60]   (0.0, 0.25]  \n14227       (0, 3000]  (60, 90]  (-0.25, 0.0]  \n\n[28162 rows x 38 columns]",
      "text/html": "<div>\n<style scoped>\n    .dataframe tbody tr th:only-of-type {\n        vertical-align: middle;\n    }\n\n    .dataframe tbody tr th {\n        vertical-align: top;\n    }\n\n    .dataframe thead th {\n        text-align: right;\n    }\n</style>\n<table border=\"1\" class=\"dataframe\">\n  <thead>\n    <tr style=\"text-align: right;\">\n      <th></th>\n      <th>propertylandusetypeid</th>\n      <th>parcelid</th>\n      <th>id</th>\n      <th>baths</th>\n      <th>beds</th>\n      <th>calculatedbathnbr</th>\n      <th>sqft</th>\n      <th>finishedsquarefeet12</th>\n      <th>fips</th>\n      <th>fullbathcnt</th>\n      <th>...</th>\n      <th>location</th>\n      <th>orange_county</th>\n      <th>ventura</th>\n      <th>losangeles</th>\n      <th>logerror_bin</th>\n      <th>latitude_bin</th>\n      <th>longitude_bin</th>\n      <th>squarefeet_bin</th>\n      <th>age_bin</th>\n      <th>lowerrors</th>\n    </tr>\n  </thead>\n  <tbody>\n    <tr>\n      <th>13535</th>\n      <td>261.0</td>\n      <td>12397906</td>\n      <td>66906</td>\n      <td>1.0</td>\n      <td>2.0</td>\n      <td>1.0</td>\n      <td>872.0</td>\n      <td>872.0</td>\n      <td>Los Angeles CA</td>\n      <td>1.0</td>\n      <td>...</td>\n      <td>0</td>\n      <td>0</td>\n      <td>0</td>\n      <td>1</td>\n      <td>(0.0, 0.25]</td>\n      <td>(33600000, 34200000]</td>\n      <td>(-118600000, -117800000]</td>\n      <td>(0, 3000]</td>\n      <td>(60, 90]</td>\n      <td>(0.0, 0.25]</td>\n    </tr>\n    <tr>\n      <th>30453</th>\n      <td>261.0</td>\n      <td>14380619</td>\n      <td>2800936</td>\n      <td>3.0</td>\n      <td>3.0</td>\n      <td>3.0</td>\n      <td>2260.0</td>\n      <td>2260.0</td>\n      <td>Orange County CA</td>\n      <td>3.0</td>\n      <td>...</td>\n      <td>1</td>\n      <td>1</td>\n      <td>0</td>\n      <td>0</td>\n      <td>(0.0, 0.25]</td>\n      <td>(33600000, 34200000]</td>\n      <td>(-117800000, 0]</td>\n      <td>(0, 3000]</td>\n      <td>(30, 60]</td>\n      <td>(0.0, 0.25]</td>\n    </tr>\n    <tr>\n      <th>13337</th>\n      <td>261.0</td>\n      <td>12902896</td>\n      <td>1127949</td>\n      <td>2.0</td>\n      <td>3.0</td>\n      <td>2.0</td>\n      <td>1091.0</td>\n      <td>1091.0</td>\n      <td>Los Angeles CA</td>\n      <td>2.0</td>\n      <td>...</td>\n      <td>0</td>\n      <td>0</td>\n      <td>0</td>\n      <td>1</td>\n      <td>(0.0, 0.25]</td>\n      <td>(33600000, 34200000]</td>\n      <td>(-118600000, -117800000]</td>\n      <td>(0, 3000]</td>\n      <td>(60, 90]</td>\n      <td>(0.0, 0.25]</td>\n    </tr>\n    <tr>\n      <th>7660</th>\n      <td>261.0</td>\n      <td>11568321</td>\n      <td>2658421</td>\n      <td>6.0</td>\n      <td>5.0</td>\n      <td>6.0</td>\n      <td>4783.0</td>\n      <td>4783.0</td>\n      <td>Los Angeles CA</td>\n      <td>6.0</td>\n      <td>...</td>\n      <td>0</td>\n      <td>0</td>\n      <td>0</td>\n      <td>1</td>\n      <td>(0.0, 0.25]</td>\n      <td>(33600000, 34200000]</td>\n      <td>(-118600000, -117800000]</td>\n      <td>(3000, 8000]</td>\n      <td>(0, 30]</td>\n      <td>(0.0, 0.25]</td>\n    </tr>\n    <tr>\n      <th>34175</th>\n      <td>261.0</td>\n      <td>13100555</td>\n      <td>1758804</td>\n      <td>5.0</td>\n      <td>5.0</td>\n      <td>5.0</td>\n      <td>4425.0</td>\n      <td>4425.0</td>\n      <td>Los Angeles CA</td>\n      <td>5.0</td>\n      <td>...</td>\n      <td>0</td>\n      <td>0</td>\n      <td>0</td>\n      <td>1</td>\n      <td>(0.0, 0.25]</td>\n      <td>(33600000, 34200000]</td>\n      <td>(-118600000, -117800000]</td>\n      <td>(3000, 8000]</td>\n      <td>(0, 30]</td>\n      <td>(0.0, 0.25]</td>\n    </tr>\n    <tr>\n      <th>...</th>\n      <td>...</td>\n      <td>...</td>\n      <td>...</td>\n      <td>...</td>\n      <td>...</td>\n      <td>...</td>\n      <td>...</td>\n      <td>...</td>\n      <td>...</td>\n      <td>...</td>\n      <td>...</td>\n      <td>...</td>\n      <td>...</td>\n      <td>...</td>\n      <td>...</td>\n      <td>...</td>\n      <td>...</td>\n      <td>...</td>\n      <td>...</td>\n      <td>...</td>\n      <td>...</td>\n    </tr>\n    <tr>\n      <th>38066</th>\n      <td>261.0</td>\n      <td>14238880</td>\n      <td>638264</td>\n      <td>2.0</td>\n      <td>3.0</td>\n      <td>2.0</td>\n      <td>1611.0</td>\n      <td>1611.0</td>\n      <td>Orange County CA</td>\n      <td>2.0</td>\n      <td>...</td>\n      <td>1</td>\n      <td>1</td>\n      <td>0</td>\n      <td>0</td>\n      <td>(-0.25, 0.0]</td>\n      <td>(33600000, 34200000]</td>\n      <td>(-118600000, -117800000]</td>\n      <td>(0, 3000]</td>\n      <td>(60, 90]</td>\n      <td>(-0.25, 0.0]</td>\n    </tr>\n    <tr>\n      <th>48425</th>\n      <td>261.0</td>\n      <td>12438510</td>\n      <td>2110521</td>\n      <td>3.0</td>\n      <td>5.0</td>\n      <td>3.0</td>\n      <td>2652.0</td>\n      <td>2652.0</td>\n      <td>Los Angeles CA</td>\n      <td>3.0</td>\n      <td>...</td>\n      <td>0</td>\n      <td>0</td>\n      <td>0</td>\n      <td>1</td>\n      <td>(-0.25, 0.0]</td>\n      <td>(33600000, 34200000]</td>\n      <td>(-118600000, -117800000]</td>\n      <td>(0, 3000]</td>\n      <td>(30, 60]</td>\n      <td>(-0.25, 0.0]</td>\n    </tr>\n    <tr>\n      <th>19647</th>\n      <td>261.0</td>\n      <td>11508139</td>\n      <td>2077101</td>\n      <td>2.0</td>\n      <td>3.0</td>\n      <td>2.0</td>\n      <td>1962.0</td>\n      <td>1962.0</td>\n      <td>Los Angeles CA</td>\n      <td>2.0</td>\n      <td>...</td>\n      <td>0</td>\n      <td>0</td>\n      <td>0</td>\n      <td>1</td>\n      <td>(0.5, 0.75]</td>\n      <td>(33600000, 34200000]</td>\n      <td>(-118600000, -117800000]</td>\n      <td>(0, 3000]</td>\n      <td>(60, 90]</td>\n      <td>NaN</td>\n    </tr>\n    <tr>\n      <th>21717</th>\n      <td>261.0</td>\n      <td>14314819</td>\n      <td>161303</td>\n      <td>2.0</td>\n      <td>3.0</td>\n      <td>2.0</td>\n      <td>1714.0</td>\n      <td>1714.0</td>\n      <td>Orange County CA</td>\n      <td>2.0</td>\n      <td>...</td>\n      <td>1</td>\n      <td>1</td>\n      <td>0</td>\n      <td>0</td>\n      <td>(0.0, 0.25]</td>\n      <td>(33600000, 34200000]</td>\n      <td>(-118600000, -117800000]</td>\n      <td>(0, 3000]</td>\n      <td>(30, 60]</td>\n      <td>(0.0, 0.25]</td>\n    </tr>\n    <tr>\n      <th>14227</th>\n      <td>261.0</td>\n      <td>17165634</td>\n      <td>2804111</td>\n      <td>2.0</td>\n      <td>6.0</td>\n      <td>2.0</td>\n      <td>2526.0</td>\n      <td>2526.0</td>\n      <td>Ventura County CA</td>\n      <td>2.0</td>\n      <td>...</td>\n      <td>2</td>\n      <td>0</td>\n      <td>1</td>\n      <td>0</td>\n      <td>(-0.25, 0.0]</td>\n      <td>(33600000, 34200000]</td>\n      <td>(-119200000, -119000000]</td>\n      <td>(0, 3000]</td>\n      <td>(60, 90]</td>\n      <td>(-0.25, 0.0]</td>\n    </tr>\n  </tbody>\n</table>\n<p>28162 rows × 38 columns</p>\n</div>"
     },
     "execution_count": 16,
     "metadata": {},
     "output_type": "execute_result"
    }
   ],
   "source": [
    "train"
   ],
   "metadata": {
    "collapsed": false
   }
  },
  {
   "cell_type": "code",
   "execution_count": 17,
   "outputs": [
    {
     "name": "stderr",
     "output_type": "stream",
     "text": [
      "/Users/zacharystufflebeme/codeup-data-science/zach-allante/clustering-project/wrangle_zillow.py:135: SettingWithCopyWarning: \n",
      "A value is trying to be set on a copy of a slice from a DataFrame.\n",
      "Try using .loc[row_indexer,col_indexer] = value instead\n",
      "\n",
      "See the caveats in the documentation: https://pandas.pydata.org/pandas-docs/stable/user_guide/indexing.html#returning-a-view-versus-a-copy\n",
      "  impdf[impfeats] = Scaler.fit_transform(impdf[impfeats])\n"
     ]
    }
   ],
   "source": [
    "scaled_impfeats = w.scale_zillow(imp_df,impfeats )"
   ],
   "metadata": {
    "collapsed": false
   }
  },
  {
   "cell_type": "code",
   "execution_count": 18,
   "outputs": [
    {
     "name": "stderr",
     "output_type": "stream",
     "text": [
      "/var/folders/yn/3nqd95h90wd7cdqr1w2mwmz40000gn/T/ipykernel_99763/779291006.py:5: SettingWithCopyWarning: \n",
      "A value is trying to be set on a copy of a slice from a DataFrame.\n",
      "Try using .loc[row_indexer,col_indexer] = value instead\n",
      "\n",
      "See the caveats in the documentation: https://pandas.pydata.org/pandas-docs/stable/user_guide/indexing.html#returning-a-view-versus-a-copy\n",
      "  train['clusters',i] = kmeans.predict(scaled_impfeats[impfeats])\n",
      "/var/folders/yn/3nqd95h90wd7cdqr1w2mwmz40000gn/T/ipykernel_99763/779291006.py:5: SettingWithCopyWarning: \n",
      "A value is trying to be set on a copy of a slice from a DataFrame.\n",
      "Try using .loc[row_indexer,col_indexer] = value instead\n",
      "\n",
      "See the caveats in the documentation: https://pandas.pydata.org/pandas-docs/stable/user_guide/indexing.html#returning-a-view-versus-a-copy\n",
      "  train['clusters',i] = kmeans.predict(scaled_impfeats[impfeats])\n",
      "/var/folders/yn/3nqd95h90wd7cdqr1w2mwmz40000gn/T/ipykernel_99763/779291006.py:5: SettingWithCopyWarning: \n",
      "A value is trying to be set on a copy of a slice from a DataFrame.\n",
      "Try using .loc[row_indexer,col_indexer] = value instead\n",
      "\n",
      "See the caveats in the documentation: https://pandas.pydata.org/pandas-docs/stable/user_guide/indexing.html#returning-a-view-versus-a-copy\n",
      "  train['clusters',i] = kmeans.predict(scaled_impfeats[impfeats])\n",
      "/var/folders/yn/3nqd95h90wd7cdqr1w2mwmz40000gn/T/ipykernel_99763/779291006.py:5: SettingWithCopyWarning: \n",
      "A value is trying to be set on a copy of a slice from a DataFrame.\n",
      "Try using .loc[row_indexer,col_indexer] = value instead\n",
      "\n",
      "See the caveats in the documentation: https://pandas.pydata.org/pandas-docs/stable/user_guide/indexing.html#returning-a-view-versus-a-copy\n",
      "  train['clusters',i] = kmeans.predict(scaled_impfeats[impfeats])\n",
      "/var/folders/yn/3nqd95h90wd7cdqr1w2mwmz40000gn/T/ipykernel_99763/779291006.py:5: SettingWithCopyWarning: \n",
      "A value is trying to be set on a copy of a slice from a DataFrame.\n",
      "Try using .loc[row_indexer,col_indexer] = value instead\n",
      "\n",
      "See the caveats in the documentation: https://pandas.pydata.org/pandas-docs/stable/user_guide/indexing.html#returning-a-view-versus-a-copy\n",
      "  train['clusters',i] = kmeans.predict(scaled_impfeats[impfeats])\n",
      "/var/folders/yn/3nqd95h90wd7cdqr1w2mwmz40000gn/T/ipykernel_99763/779291006.py:5: SettingWithCopyWarning: \n",
      "A value is trying to be set on a copy of a slice from a DataFrame.\n",
      "Try using .loc[row_indexer,col_indexer] = value instead\n",
      "\n",
      "See the caveats in the documentation: https://pandas.pydata.org/pandas-docs/stable/user_guide/indexing.html#returning-a-view-versus-a-copy\n",
      "  train['clusters',i] = kmeans.predict(scaled_impfeats[impfeats])\n",
      "/var/folders/yn/3nqd95h90wd7cdqr1w2mwmz40000gn/T/ipykernel_99763/779291006.py:5: SettingWithCopyWarning: \n",
      "A value is trying to be set on a copy of a slice from a DataFrame.\n",
      "Try using .loc[row_indexer,col_indexer] = value instead\n",
      "\n",
      "See the caveats in the documentation: https://pandas.pydata.org/pandas-docs/stable/user_guide/indexing.html#returning-a-view-versus-a-copy\n",
      "  train['clusters',i] = kmeans.predict(scaled_impfeats[impfeats])\n",
      "/var/folders/yn/3nqd95h90wd7cdqr1w2mwmz40000gn/T/ipykernel_99763/779291006.py:5: SettingWithCopyWarning: \n",
      "A value is trying to be set on a copy of a slice from a DataFrame.\n",
      "Try using .loc[row_indexer,col_indexer] = value instead\n",
      "\n",
      "See the caveats in the documentation: https://pandas.pydata.org/pandas-docs/stable/user_guide/indexing.html#returning-a-view-versus-a-copy\n",
      "  train['clusters',i] = kmeans.predict(scaled_impfeats[impfeats])\n"
     ]
    }
   ],
   "source": [
    "clusters = pd.DataFrame([])\n",
    "for i in range(2,10):\n",
    "    kmeans = KMeans(n_clusters=i)\n",
    "    kmeans.fit(scaled_impfeats[impfeats])\n",
    "    train['clusters',i] = kmeans.predict(scaled_impfeats[impfeats])\n",
    "    clusters['clusters',i] = kmeans.predict(scaled_impfeats)"
   ],
   "metadata": {
    "collapsed": false
   }
  },
  {
   "cell_type": "code",
   "execution_count": 19,
   "outputs": [
    {
     "data": {
      "text/plain": "       propertylandusetypeid  parcelid       id  baths  beds  \\\n13535                  261.0  12397906    66906    1.0   2.0   \n30453                  261.0  14380619  2800936    3.0   3.0   \n13337                  261.0  12902896  1127949    2.0   3.0   \n7660                   261.0  11568321  2658421    6.0   5.0   \n34175                  261.0  13100555  1758804    5.0   5.0   \n...                      ...       ...      ...    ...   ...   \n38066                  261.0  14238880   638264    2.0   3.0   \n48425                  261.0  12438510  2110521    3.0   5.0   \n19647                  261.0  11508139  2077101    2.0   3.0   \n21717                  261.0  14314819   161303    2.0   3.0   \n14227                  261.0  17165634  2804111    2.0   6.0   \n\n       calculatedbathnbr    sqft  finishedsquarefeet12               fips  \\\n13535                1.0   872.0                 872.0     Los Angeles CA   \n30453                3.0  2260.0                2260.0   Orange County CA   \n13337                2.0  1091.0                1091.0     Los Angeles CA   \n7660                 6.0  4783.0                4783.0     Los Angeles CA   \n34175                5.0  4425.0                4425.0     Los Angeles CA   \n...                  ...     ...                   ...                ...   \n38066                2.0  1611.0                1611.0   Orange County CA   \n48425                3.0  2652.0                2652.0     Los Angeles CA   \n19647                2.0  1962.0                1962.0     Los Angeles CA   \n21717                2.0  1714.0                1714.0   Orange County CA   \n14227                2.0  2526.0                2526.0  Ventura County CA   \n\n       fullbathcnt  ...   age_bin     lowerrors  (clusters, 2) (clusters, 3)  \\\n13535          1.0  ...  (60, 90]   (0.0, 0.25]              0             0   \n30453          3.0  ...  (30, 60]   (0.0, 0.25]              0             1   \n13337          2.0  ...  (60, 90]   (0.0, 0.25]              0             0   \n7660           6.0  ...   (0, 30]   (0.0, 0.25]              1             2   \n34175          5.0  ...   (0, 30]   (0.0, 0.25]              0             1   \n...            ...  ...       ...           ...            ...           ...   \n38066          2.0  ...  (60, 90]  (-0.25, 0.0]              0             1   \n48425          3.0  ...  (30, 60]  (-0.25, 0.0]              0             1   \n19647          2.0  ...  (60, 90]           NaN              0             0   \n21717          2.0  ...  (30, 60]   (0.0, 0.25]              0             1   \n14227          2.0  ...  (60, 90]  (-0.25, 0.0]              1             2   \n\n       (clusters, 4)  (clusters, 5)  (clusters, 6)  (clusters, 7)  \\\n13535              1              1              1              6   \n30453              2              0              2              0   \n13337              1              1              1              6   \n7660               3              2              4              3   \n34175              2              0              2              3   \n...              ...            ...            ...            ...   \n38066              2              1              1              6   \n48425              2              1              1              6   \n19647              1              3              1              6   \n21717              2              0              2              0   \n14227              3              2              4              1   \n\n       (clusters, 8)  (clusters, 9)  \n13535              1              0  \n30453              3              4  \n13337              1              6  \n7660               7              7  \n34175              7              4  \n...              ...            ...  \n38066              1              0  \n48425              1              0  \n19647              1              0  \n21717              3              4  \n14227              0              2  \n\n[28162 rows x 46 columns]",
      "text/html": "<div>\n<style scoped>\n    .dataframe tbody tr th:only-of-type {\n        vertical-align: middle;\n    }\n\n    .dataframe tbody tr th {\n        vertical-align: top;\n    }\n\n    .dataframe thead th {\n        text-align: right;\n    }\n</style>\n<table border=\"1\" class=\"dataframe\">\n  <thead>\n    <tr style=\"text-align: right;\">\n      <th></th>\n      <th>propertylandusetypeid</th>\n      <th>parcelid</th>\n      <th>id</th>\n      <th>baths</th>\n      <th>beds</th>\n      <th>calculatedbathnbr</th>\n      <th>sqft</th>\n      <th>finishedsquarefeet12</th>\n      <th>fips</th>\n      <th>fullbathcnt</th>\n      <th>...</th>\n      <th>age_bin</th>\n      <th>lowerrors</th>\n      <th>(clusters, 2)</th>\n      <th>(clusters, 3)</th>\n      <th>(clusters, 4)</th>\n      <th>(clusters, 5)</th>\n      <th>(clusters, 6)</th>\n      <th>(clusters, 7)</th>\n      <th>(clusters, 8)</th>\n      <th>(clusters, 9)</th>\n    </tr>\n  </thead>\n  <tbody>\n    <tr>\n      <th>13535</th>\n      <td>261.0</td>\n      <td>12397906</td>\n      <td>66906</td>\n      <td>1.0</td>\n      <td>2.0</td>\n      <td>1.0</td>\n      <td>872.0</td>\n      <td>872.0</td>\n      <td>Los Angeles CA</td>\n      <td>1.0</td>\n      <td>...</td>\n      <td>(60, 90]</td>\n      <td>(0.0, 0.25]</td>\n      <td>0</td>\n      <td>0</td>\n      <td>1</td>\n      <td>1</td>\n      <td>1</td>\n      <td>6</td>\n      <td>1</td>\n      <td>0</td>\n    </tr>\n    <tr>\n      <th>30453</th>\n      <td>261.0</td>\n      <td>14380619</td>\n      <td>2800936</td>\n      <td>3.0</td>\n      <td>3.0</td>\n      <td>3.0</td>\n      <td>2260.0</td>\n      <td>2260.0</td>\n      <td>Orange County CA</td>\n      <td>3.0</td>\n      <td>...</td>\n      <td>(30, 60]</td>\n      <td>(0.0, 0.25]</td>\n      <td>0</td>\n      <td>1</td>\n      <td>2</td>\n      <td>0</td>\n      <td>2</td>\n      <td>0</td>\n      <td>3</td>\n      <td>4</td>\n    </tr>\n    <tr>\n      <th>13337</th>\n      <td>261.0</td>\n      <td>12902896</td>\n      <td>1127949</td>\n      <td>2.0</td>\n      <td>3.0</td>\n      <td>2.0</td>\n      <td>1091.0</td>\n      <td>1091.0</td>\n      <td>Los Angeles CA</td>\n      <td>2.0</td>\n      <td>...</td>\n      <td>(60, 90]</td>\n      <td>(0.0, 0.25]</td>\n      <td>0</td>\n      <td>0</td>\n      <td>1</td>\n      <td>1</td>\n      <td>1</td>\n      <td>6</td>\n      <td>1</td>\n      <td>6</td>\n    </tr>\n    <tr>\n      <th>7660</th>\n      <td>261.0</td>\n      <td>11568321</td>\n      <td>2658421</td>\n      <td>6.0</td>\n      <td>5.0</td>\n      <td>6.0</td>\n      <td>4783.0</td>\n      <td>4783.0</td>\n      <td>Los Angeles CA</td>\n      <td>6.0</td>\n      <td>...</td>\n      <td>(0, 30]</td>\n      <td>(0.0, 0.25]</td>\n      <td>1</td>\n      <td>2</td>\n      <td>3</td>\n      <td>2</td>\n      <td>4</td>\n      <td>3</td>\n      <td>7</td>\n      <td>7</td>\n    </tr>\n    <tr>\n      <th>34175</th>\n      <td>261.0</td>\n      <td>13100555</td>\n      <td>1758804</td>\n      <td>5.0</td>\n      <td>5.0</td>\n      <td>5.0</td>\n      <td>4425.0</td>\n      <td>4425.0</td>\n      <td>Los Angeles CA</td>\n      <td>5.0</td>\n      <td>...</td>\n      <td>(0, 30]</td>\n      <td>(0.0, 0.25]</td>\n      <td>0</td>\n      <td>1</td>\n      <td>2</td>\n      <td>0</td>\n      <td>2</td>\n      <td>3</td>\n      <td>7</td>\n      <td>4</td>\n    </tr>\n    <tr>\n      <th>...</th>\n      <td>...</td>\n      <td>...</td>\n      <td>...</td>\n      <td>...</td>\n      <td>...</td>\n      <td>...</td>\n      <td>...</td>\n      <td>...</td>\n      <td>...</td>\n      <td>...</td>\n      <td>...</td>\n      <td>...</td>\n      <td>...</td>\n      <td>...</td>\n      <td>...</td>\n      <td>...</td>\n      <td>...</td>\n      <td>...</td>\n      <td>...</td>\n      <td>...</td>\n      <td>...</td>\n    </tr>\n    <tr>\n      <th>38066</th>\n      <td>261.0</td>\n      <td>14238880</td>\n      <td>638264</td>\n      <td>2.0</td>\n      <td>3.0</td>\n      <td>2.0</td>\n      <td>1611.0</td>\n      <td>1611.0</td>\n      <td>Orange County CA</td>\n      <td>2.0</td>\n      <td>...</td>\n      <td>(60, 90]</td>\n      <td>(-0.25, 0.0]</td>\n      <td>0</td>\n      <td>1</td>\n      <td>2</td>\n      <td>1</td>\n      <td>1</td>\n      <td>6</td>\n      <td>1</td>\n      <td>0</td>\n    </tr>\n    <tr>\n      <th>48425</th>\n      <td>261.0</td>\n      <td>12438510</td>\n      <td>2110521</td>\n      <td>3.0</td>\n      <td>5.0</td>\n      <td>3.0</td>\n      <td>2652.0</td>\n      <td>2652.0</td>\n      <td>Los Angeles CA</td>\n      <td>3.0</td>\n      <td>...</td>\n      <td>(30, 60]</td>\n      <td>(-0.25, 0.0]</td>\n      <td>0</td>\n      <td>1</td>\n      <td>2</td>\n      <td>1</td>\n      <td>1</td>\n      <td>6</td>\n      <td>1</td>\n      <td>0</td>\n    </tr>\n    <tr>\n      <th>19647</th>\n      <td>261.0</td>\n      <td>11508139</td>\n      <td>2077101</td>\n      <td>2.0</td>\n      <td>3.0</td>\n      <td>2.0</td>\n      <td>1962.0</td>\n      <td>1962.0</td>\n      <td>Los Angeles CA</td>\n      <td>2.0</td>\n      <td>...</td>\n      <td>(60, 90]</td>\n      <td>NaN</td>\n      <td>0</td>\n      <td>0</td>\n      <td>1</td>\n      <td>3</td>\n      <td>1</td>\n      <td>6</td>\n      <td>1</td>\n      <td>0</td>\n    </tr>\n    <tr>\n      <th>21717</th>\n      <td>261.0</td>\n      <td>14314819</td>\n      <td>161303</td>\n      <td>2.0</td>\n      <td>3.0</td>\n      <td>2.0</td>\n      <td>1714.0</td>\n      <td>1714.0</td>\n      <td>Orange County CA</td>\n      <td>2.0</td>\n      <td>...</td>\n      <td>(30, 60]</td>\n      <td>(0.0, 0.25]</td>\n      <td>0</td>\n      <td>1</td>\n      <td>2</td>\n      <td>0</td>\n      <td>2</td>\n      <td>0</td>\n      <td>3</td>\n      <td>4</td>\n    </tr>\n    <tr>\n      <th>14227</th>\n      <td>261.0</td>\n      <td>17165634</td>\n      <td>2804111</td>\n      <td>2.0</td>\n      <td>6.0</td>\n      <td>2.0</td>\n      <td>2526.0</td>\n      <td>2526.0</td>\n      <td>Ventura County CA</td>\n      <td>2.0</td>\n      <td>...</td>\n      <td>(60, 90]</td>\n      <td>(-0.25, 0.0]</td>\n      <td>1</td>\n      <td>2</td>\n      <td>3</td>\n      <td>2</td>\n      <td>4</td>\n      <td>1</td>\n      <td>0</td>\n      <td>2</td>\n    </tr>\n  </tbody>\n</table>\n<p>28162 rows × 46 columns</p>\n</div>"
     },
     "execution_count": 19,
     "metadata": {},
     "output_type": "execute_result"
    }
   ],
   "source": [
    "train"
   ],
   "metadata": {
    "collapsed": false
   }
  },
  {
   "cell_type": "code",
   "execution_count": 20,
   "outputs": [
    {
     "data": {
      "text/plain": "           sqft       age  latitude  longitude  lotsizesquarefeet\n13535  0.060570  0.496183  0.433728   0.721678           0.049851\n30453  0.177337  0.305344  0.194141   0.940035           0.068203\n13337  0.078994  0.419847  0.535385   0.862331           0.073113\n7660   0.389585  0.022901  0.494856   0.521215           0.105400\n34175  0.359468  0.129771  0.457679   0.853861           0.102233",
      "text/html": "<div>\n<style scoped>\n    .dataframe tbody tr th:only-of-type {\n        vertical-align: middle;\n    }\n\n    .dataframe tbody tr th {\n        vertical-align: top;\n    }\n\n    .dataframe thead th {\n        text-align: right;\n    }\n</style>\n<table border=\"1\" class=\"dataframe\">\n  <thead>\n    <tr style=\"text-align: right;\">\n      <th></th>\n      <th>sqft</th>\n      <th>age</th>\n      <th>latitude</th>\n      <th>longitude</th>\n      <th>lotsizesquarefeet</th>\n    </tr>\n  </thead>\n  <tbody>\n    <tr>\n      <th>13535</th>\n      <td>0.060570</td>\n      <td>0.496183</td>\n      <td>0.433728</td>\n      <td>0.721678</td>\n      <td>0.049851</td>\n    </tr>\n    <tr>\n      <th>30453</th>\n      <td>0.177337</td>\n      <td>0.305344</td>\n      <td>0.194141</td>\n      <td>0.940035</td>\n      <td>0.068203</td>\n    </tr>\n    <tr>\n      <th>13337</th>\n      <td>0.078994</td>\n      <td>0.419847</td>\n      <td>0.535385</td>\n      <td>0.862331</td>\n      <td>0.073113</td>\n    </tr>\n    <tr>\n      <th>7660</th>\n      <td>0.389585</td>\n      <td>0.022901</td>\n      <td>0.494856</td>\n      <td>0.521215</td>\n      <td>0.105400</td>\n    </tr>\n    <tr>\n      <th>34175</th>\n      <td>0.359468</td>\n      <td>0.129771</td>\n      <td>0.457679</td>\n      <td>0.853861</td>\n      <td>0.102233</td>\n    </tr>\n  </tbody>\n</table>\n</div>"
     },
     "execution_count": 20,
     "metadata": {},
     "output_type": "execute_result"
    }
   ],
   "source": [
    "imp_df.head()"
   ],
   "metadata": {
    "collapsed": false
   }
  },
  {
   "cell_type": "code",
   "execution_count": 21,
   "outputs": [
    {
     "name": "stdout",
     "output_type": "stream",
     "text": [
      "<class 'pandas.core.frame.DataFrame'>\n",
      "RangeIndex: 28162 entries, 0 to 28161\n",
      "Data columns (total 8 columns):\n",
      " #   Column         Non-Null Count  Dtype\n",
      "---  ------         --------------  -----\n",
      " 0   (clusters, 2)  28162 non-null  int32\n",
      " 1   (clusters, 3)  28162 non-null  int32\n",
      " 2   (clusters, 4)  28162 non-null  int32\n",
      " 3   (clusters, 5)  28162 non-null  int32\n",
      " 4   (clusters, 6)  28162 non-null  int32\n",
      " 5   (clusters, 7)  28162 non-null  int32\n",
      " 6   (clusters, 8)  28162 non-null  int32\n",
      " 7   (clusters, 9)  28162 non-null  int32\n",
      "dtypes: int32(8)\n",
      "memory usage: 880.2 KB\n"
     ]
    }
   ],
   "source": [
    "clusters.info()"
   ],
   "metadata": {
    "collapsed": false
   }
  },
  {
   "cell_type": "code",
   "execution_count": null,
   "outputs": [],
   "source": [],
   "metadata": {
    "collapsed": false,
    "pycharm": {
     "is_executing": true
    }
   }
  },
  {
   "cell_type": "code",
   "execution_count": 21,
   "outputs": [],
   "source": [],
   "metadata": {
    "collapsed": false
   }
  }
 ],
 "metadata": {
  "kernelspec": {
   "display_name": "Python 3",
   "language": "python",
   "name": "python3"
  },
  "language_info": {
   "codemirror_mode": {
    "name": "ipython",
    "version": 2
   },
   "file_extension": ".py",
   "mimetype": "text/x-python",
   "name": "python",
   "nbconvert_exporter": "python",
   "pygments_lexer": "ipython2",
   "version": "2.7.6"
  }
 },
 "nbformat": 4,
 "nbformat_minor": 0
}
